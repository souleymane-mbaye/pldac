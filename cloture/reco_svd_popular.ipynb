{
 "cells": [
  {
   "cell_type": "code",
   "execution_count": 7,
   "id": "7de7f383",
   "metadata": {},
   "outputs": [],
   "source": [
    "from pymongo  import MongoClient\n",
    "import pandas as pd\n",
    "import numpy as np\n",
    "from nltk.stem import SnowballStemmer\n",
    "from nltk.tokenize import word_tokenize\n",
    "from sklearn import decomposition, naive_bayes, preprocessing, model_selection, metrics\n",
    "from sklearn.pipeline import Pipeline\n",
    "from sklearn.feature_extraction.text import CountVectorizer, TfidfVectorizer\n",
    "from sklearn import model_selection\n",
    "#! pip install scikit-surprise\n",
    "from surprise import NormalPredictor, BaselineOnly, SVD\n",
    "from surprise import Dataset\n",
    "from surprise import Reader\n",
    "from surprise.model_selection import cross_validate"
   ]
  },
  {
   "cell_type": "markdown",
   "id": "bd34814b",
   "metadata": {},
   "source": [
    "# Chargement des données AVIS"
   ]
  },
  {
   "cell_type": "code",
   "execution_count": 8,
   "id": "397272d6",
   "metadata": {},
   "outputs": [],
   "source": [
    "# Pour lancer le demon de la base de données mongod\n",
    "# source ~/.bash_profile \n",
    "# mongod --config ~/db/mongod.cfg \n",
    "client = MongoClient(host=\"localhost\", port=27017)\n",
    "db = client[\"PLDAC_01\"] \n",
    "collection = db[\"avis\"]"
   ]
  },
  {
   "cell_type": "code",
   "execution_count": 9,
   "id": "a4ea1183",
   "metadata": {},
   "outputs": [
    {
     "data": {
      "text/html": [
       "<div>\n",
       "<style scoped>\n",
       "    .dataframe tbody tr th:only-of-type {\n",
       "        vertical-align: middle;\n",
       "    }\n",
       "\n",
       "    .dataframe tbody tr th {\n",
       "        vertical-align: top;\n",
       "    }\n",
       "\n",
       "    .dataframe thead th {\n",
       "        text-align: right;\n",
       "    }\n",
       "</style>\n",
       "<table border=\"1\" class=\"dataframe\">\n",
       "  <thead>\n",
       "    <tr style=\"text-align: right;\">\n",
       "      <th></th>\n",
       "      <th>author</th>\n",
       "      <th>title</th>\n",
       "      <th>note</th>\n",
       "      <th>date_published</th>\n",
       "    </tr>\n",
       "  </thead>\n",
       "  <tbody>\n",
       "    <tr>\n",
       "      <th>0</th>\n",
       "      <td>Monsieur Guillaume</td>\n",
       "      <td>Mariposas</td>\n",
       "      <td>8.0</td>\n",
       "      <td>2021-01-27 11:06:44</td>\n",
       "    </tr>\n",
       "    <tr>\n",
       "      <th>1</th>\n",
       "      <td>morlockbob</td>\n",
       "      <td>Mariposas</td>\n",
       "      <td>7.0</td>\n",
       "      <td>2020-10-18 10:04:21</td>\n",
       "    </tr>\n",
       "    <tr>\n",
       "      <th>2</th>\n",
       "      <td>SwatSh</td>\n",
       "      <td>Mariposas</td>\n",
       "      <td>7.0</td>\n",
       "      <td>2021-02-01 08:35:08</td>\n",
       "    </tr>\n",
       "    <tr>\n",
       "      <th>3</th>\n",
       "      <td>Timi JeuxATheme</td>\n",
       "      <td>Mariposas</td>\n",
       "      <td>8.0</td>\n",
       "      <td>2020-11-19 17:04:57</td>\n",
       "    </tr>\n",
       "    <tr>\n",
       "      <th>4</th>\n",
       "      <td>prunelles</td>\n",
       "      <td>Mariposas</td>\n",
       "      <td>9.0</td>\n",
       "      <td>2021-05-24 12:43:18</td>\n",
       "    </tr>\n",
       "  </tbody>\n",
       "</table>\n",
       "</div>"
      ],
      "text/plain": [
       "               author      title  note       date_published\n",
       "0  Monsieur Guillaume  Mariposas   8.0  2021-01-27 11:06:44\n",
       "1          morlockbob  Mariposas   7.0  2020-10-18 10:04:21\n",
       "2              SwatSh  Mariposas   7.0  2021-02-01 08:35:08\n",
       "3     Timi JeuxATheme  Mariposas   8.0  2020-11-19 17:04:57\n",
       "4           prunelles  Mariposas   9.0  2021-05-24 12:43:18"
      ]
     },
     "execution_count": 9,
     "metadata": {},
     "output_type": "execute_result"
    }
   ],
   "source": [
    "df_avis = pd.DataFrame(list(collection.find())).loc[:,[\"author\",\"title\",\"note\",\"date_published\"]]\n",
    "df_avis.head(5)"
   ]
  },
  {
   "cell_type": "code",
   "execution_count": 10,
   "id": "aae35456",
   "metadata": {},
   "outputs": [
    {
     "name": "stdout",
     "output_type": "stream",
     "text": [
      "Il y a 13623 utilisateurs et 10709 jeux dans la base.\n",
      "Taile de la base:\n",
      "   246524\n"
     ]
    }
   ],
   "source": [
    "num_utilisateurs  = df_avis[\"author\"].nunique()\n",
    "num_jeux  = df_avis[\"title\"].nunique()\n",
    "\n",
    "print(f\"Il y a {num_utilisateurs} utilisateurs et {num_jeux} jeux dans la base.\")\n",
    "print(\"Taile de la base:\\n  \",len(df_avis))"
   ]
  },
  {
   "cell_type": "markdown",
   "id": "e00b4555",
   "metadata": {},
   "source": [
    "## Stastistique sur les utilisateurs ayant noté plusieurs fois un jeu."
   ]
  },
  {
   "cell_type": "code",
   "execution_count": 11,
   "id": "1aeed329",
   "metadata": {},
   "outputs": [
    {
     "data": {
      "text/plain": [
       "author            title                                note  date_published     \n",
       "#yuyu#            Bubblee Pop                          8.5   2019-01-19 23:11:33    2\n",
       "                  KARMAKA                              8.8   2018-02-25 09:01:19    2\n",
       "$hadow            Le Dilemme du Roi                    9.0   2021-01-03 21:14:16    5\n",
       "$lebat@$          Deluxe Camping                       10.0  2007-11-06 12:28:47    1\n",
       "&lo               Sporz Original Outbreak              10.0  2011-01-18 12:28:59    1\n",
       "*FitzChevalerie*  7 Wonders - Extension \"Cities\"       8.0   2012-11-20 13:36:22    1\n",
       "                  7 Wonders - Extension \"Wonder Pack\"  7.4   2013-10-14 20:35:59    1\n",
       "                  A Few Acres of Snow                  10.0  2012-05-23 12:29:05    1\n",
       "                  Archipelago                          10.0  2012-10-16 13:36:22    1\n",
       "                  Archipelago : Solo Expansion         10.0  2012-12-06 18:14:14    1\n",
       "dtype: int64"
      ]
     },
     "execution_count": 11,
     "metadata": {},
     "output_type": "execute_result"
    }
   ],
   "source": [
    "df_avis_unique = df_avis.groupby(['author','title']).value_counts()\n",
    "df_avis_unique.head(10)"
   ]
  },
  {
   "cell_type": "markdown",
   "id": "171fbbc7",
   "metadata": {},
   "source": [
    "Nous observons qu'il y'a des duplications de mêmes lignes."
   ]
  },
  {
   "cell_type": "markdown",
   "id": "c0e0de25",
   "metadata": {},
   "source": [
    "## Suppression des duplications"
   ]
  },
  {
   "cell_type": "code",
   "execution_count": 12,
   "id": "ed1a6978",
   "metadata": {},
   "outputs": [
    {
     "data": {
      "text/html": [
       "<div>\n",
       "<style scoped>\n",
       "    .dataframe tbody tr th:only-of-type {\n",
       "        vertical-align: middle;\n",
       "    }\n",
       "\n",
       "    .dataframe tbody tr th {\n",
       "        vertical-align: top;\n",
       "    }\n",
       "\n",
       "    .dataframe thead th {\n",
       "        text-align: right;\n",
       "    }\n",
       "</style>\n",
       "<table border=\"1\" class=\"dataframe\">\n",
       "  <thead>\n",
       "    <tr style=\"text-align: right;\">\n",
       "      <th></th>\n",
       "      <th>author</th>\n",
       "      <th>title</th>\n",
       "      <th>note</th>\n",
       "      <th>date_published</th>\n",
       "    </tr>\n",
       "  </thead>\n",
       "  <tbody>\n",
       "    <tr>\n",
       "      <th>0</th>\n",
       "      <td>Monsieur Guillaume</td>\n",
       "      <td>Mariposas</td>\n",
       "      <td>8.0</td>\n",
       "      <td>2021-01-27 11:06:44</td>\n",
       "    </tr>\n",
       "    <tr>\n",
       "      <th>1</th>\n",
       "      <td>morlockbob</td>\n",
       "      <td>Mariposas</td>\n",
       "      <td>7.0</td>\n",
       "      <td>2020-10-18 10:04:21</td>\n",
       "    </tr>\n",
       "    <tr>\n",
       "      <th>2</th>\n",
       "      <td>SwatSh</td>\n",
       "      <td>Mariposas</td>\n",
       "      <td>7.0</td>\n",
       "      <td>2021-02-01 08:35:08</td>\n",
       "    </tr>\n",
       "    <tr>\n",
       "      <th>3</th>\n",
       "      <td>Timi JeuxATheme</td>\n",
       "      <td>Mariposas</td>\n",
       "      <td>8.0</td>\n",
       "      <td>2020-11-19 17:04:57</td>\n",
       "    </tr>\n",
       "    <tr>\n",
       "      <th>4</th>\n",
       "      <td>prunelles</td>\n",
       "      <td>Mariposas</td>\n",
       "      <td>9.0</td>\n",
       "      <td>2021-05-24 12:43:18</td>\n",
       "    </tr>\n",
       "  </tbody>\n",
       "</table>\n",
       "</div>"
      ],
      "text/plain": [
       "               author      title  note       date_published\n",
       "0  Monsieur Guillaume  Mariposas   8.0  2021-01-27 11:06:44\n",
       "1          morlockbob  Mariposas   7.0  2020-10-18 10:04:21\n",
       "2              SwatSh  Mariposas   7.0  2021-02-01 08:35:08\n",
       "3     Timi JeuxATheme  Mariposas   8.0  2020-11-19 17:04:57\n",
       "4           prunelles  Mariposas   9.0  2021-05-24 12:43:18"
      ]
     },
     "execution_count": 12,
     "metadata": {},
     "output_type": "execute_result"
    }
   ],
   "source": [
    "df_avis = df_avis.drop_duplicates(subset=['author','title','note','date_published'])\n",
    "df_avis.head()"
   ]
  },
  {
   "cell_type": "markdown",
   "id": "e6625d85",
   "metadata": {},
   "source": [
    "## Pour chaque couple utilisateur, jeu on récupère la liste des notes avec la date"
   ]
  },
  {
   "cell_type": "code",
   "execution_count": 13,
   "id": "154315d2",
   "metadata": {},
   "outputs": [
    {
     "data": {
      "text/plain": [
       "author        title                                       \n",
       "Actorios      Footmania                                       [(6.0, 2006-06-03 12:28:42), (8.0, 2004-09-11 ...\n",
       "Belboudin     Poker                                           [(5.0, 2014-11-11 17:31:27), (5.5, 2015-10-02 ...\n",
       "Benjyskahn    Les Colons de Catane : Politique & Intrigues    [(9.0, 2021-06-05 11:51:39), (6.0, 2021-06-05 ...\n",
       "Biff          Alcatraz                                        [(8.0, 2009-02-08 12:28:52), (8.0, 2006-08-13 ...\n",
       "Clem_Achille  Trivial Pursuit - Star Wars                     [(8.0, 2010-12-19 12:28:59), (6.0, 2010-12-18 ...\n",
       "                                                                                    ...                        \n",
       "thespios      Poker                                           [(9.0, 2021-11-22 22:24:22), (8.0, 2021-09-17 ...\n",
       "winforlife    Gangster                                        [(8.0, 2008-01-05 12:28:48), (4.0, 2007-06-18 ...\n",
       "yahndrev      Merlin                                          [(8.0, 2010-03-13 12:28:56), (6.0, 2010-03-13 ...\n",
       "              Pippo                                           [(10.0, 2010-02-13 12:28:55), (10.0, 2010-03-1...\n",
       "ybkam         Piranha Pedro                                   [(6.0, 2006-07-25 12:28:43), (8.0, 2004-11-02 ...\n",
       "Length: 111, dtype: object"
      ]
     },
     "execution_count": 13,
     "metadata": {},
     "output_type": "execute_result"
    }
   ],
   "source": [
    "# Regroupement par auteur et titre, et création de la liste de tuples pour chaque cas\n",
    "df_notes = df_avis.groupby(['author', 'title']).apply(lambda x: list(zip(x['note'], x['date_published'])))\n",
    "notes = df_notes[df_notes.apply(len) >= 2]\n",
    "notes_dict = notes.to_dict()\n",
    "notes"
   ]
  },
  {
   "cell_type": "code",
   "execution_count": 14,
   "id": "69a48355",
   "metadata": {},
   "outputs": [],
   "source": [
    "authors_notes = list(set(notes.index.get_level_values('author')))\n",
    "titles_notes = list(set(notes.index.get_level_values('title')))"
   ]
  },
  {
   "cell_type": "code",
   "execution_count": 15,
   "id": "a1cc8534",
   "metadata": {},
   "outputs": [
    {
     "name": "stdout",
     "output_type": "stream",
     "text": [
      "Il y'a 111 notes qui ont été renoté au moins une deuxième fois correspondant à 0.0630030309566244 % des notes\n",
      "Il y'a 81 utilisateurs qui ont renoté au moins une deuxième fois au moins un jeu corresspondant à 0.5945826910372165 % des utilisateurs\n",
      "Il y'a 65 jeux qui ont été renoté au moins une deuxième fois correspondants à 0.6069661032776169 % des jeux\n"
     ]
    }
   ],
   "source": [
    "print(f\"Il y'a {len(notes)} notes qui ont été renoté au moins une deuxième fois correspondant à {100*len(notes)/len(df_avis)} % des notes\")\n",
    "print(f\"Il y'a {len(authors_notes)} utilisateurs qui ont renoté au moins une deuxième fois au moins un jeu corresspondant à {100*len(authors_notes)/num_utilisateurs} % des utilisateurs\")\n",
    "print(f\"Il y'a {len(titles_notes)} jeux qui ont été renoté au moins une deuxième fois correspondants à {100*len(titles_notes)/num_jeux} % des jeux\")"
   ]
  },
  {
   "cell_type": "code",
   "execution_count": 16,
   "id": "3e9a58de",
   "metadata": {},
   "outputs": [],
   "source": [
    "# Trier les sous-listes de notes_dict par date\n",
    "for key, value in notes_dict.items():\n",
    "  notes_dict[key] = sorted(value, key=lambda x: x[1])"
   ]
  },
  {
   "cell_type": "markdown",
   "id": "76289e83",
   "metadata": {},
   "source": [
    "### Ecriture des renotes dans un fichier\n",
    "Juste pour voir comment les utilisateurs changent leurs notations"
   ]
  },
  {
   "cell_type": "code",
   "execution_count": 17,
   "id": "51a420c5",
   "metadata": {},
   "outputs": [
    {
     "name": "stdout",
     "output_type": "stream",
     "text": [
      "Le dictionnaire a été écrit dans le fichier notes_renotees.json en format JSON.\n"
     ]
    }
   ],
   "source": [
    "import json\n",
    "\n",
    "# Conversion des tuples en chaînes de caractères\n",
    "notes_dict_str = {}\n",
    "for (author,title ), value in notes_dict.items():\n",
    "  new_key = str(author) + \" ::&:: \" + str(title) \n",
    "  notes_dict_str[new_key] = value\n",
    "\n",
    "# Nom du fichier dans lequel écrire le dictionnaire\n",
    "filename = 'notes_renotees.json'\n",
    "\n",
    "# Écriture du dictionnaire dans le fichier en format JSON\n",
    "with open(filename, 'w') as f:\n",
    "    json.dump(notes_dict_str, f)\n",
    "\n",
    "# Affichage d'un message confirmant l'écriture du fichier\n",
    "print(f\"Le dictionnaire a été écrit dans le fichier {filename} en format JSON.\")\n"
   ]
  },
  {
   "cell_type": "markdown",
   "id": "40ac0872",
   "metadata": {},
   "source": [
    "### Les utilisateurs qui améliorent leurs notes vs ceux qui détériorent les leurs"
   ]
  },
  {
   "cell_type": "code",
   "execution_count": 18,
   "id": "03b42cbe",
   "metadata": {},
   "outputs": [
    {
     "name": "stdout",
     "output_type": "stream",
     "text": [
      "41 améliorent leurs notes vs 28 détériorent leurs notes vs 42 ont remis la même note\n"
     ]
    },
    {
     "data": {
      "image/png": "[encoded data removed]",
      "text/plain": [
       "<Figure size 432x288 with 1 Axes>"
      ]
     },
     "metadata": {
      "needs_background": "light"
     },
     "output_type": "display_data"
    }
   ],
   "source": [
    "import matplotlib.pyplot as plt\n",
    "\n",
    "count_plus = 0\n",
    "count_moins = 0\n",
    "count_const = 0\n",
    "\n",
    "# Parcours de chaque sous-liste\n",
    "for key, value in notes_dict.items():\n",
    "  croissant = True\n",
    "  for i in range(1, len(value)):\n",
    "    if value[i][0] <= value[i-1][0]:\n",
    "      croissant = False\n",
    "      break\n",
    "  if croissant:\n",
    "      count_plus += 1\n",
    "  \n",
    "  decroissant = True\n",
    "  for i in range(1, len(value)):\n",
    "    if value[i][0] >= value[i-1][0]:\n",
    "      decroissant = False\n",
    "      break\n",
    "  if decroissant:\n",
    "      count_moins += 1\n",
    "  \n",
    "  constant = True\n",
    "  for i in range(1, len(value)):\n",
    "    if value[i][0] != value[i-1][0]:\n",
    "      constant = False\n",
    "      break\n",
    "  if constant:\n",
    "      count_const += 1\n",
    "\n",
    "print(f\"{count_plus} améliorent leurs notes vs {count_moins} détériorent leurs notes vs {count_const} ont remis la même note\")\n",
    "# Création du diagramme à barres\n",
    "plt.bar(['augmente','diminue','constant'], [count_plus,count_moins,count_const])\n",
    "\n",
    "# Ajout de la légende et du titre\n",
    "plt.xlabel('Valeurs')\n",
    "plt.ylabel('Fréquence')\n",
    "plt.title('Amélioration note vs détérioration note vs note constante')\n",
    "\n",
    "# Affichage du diagramme\n",
    "plt.show()\n"
   ]
  },
  {
   "cell_type": "markdown",
   "id": "dd16aacf",
   "metadata": {},
   "source": [
    "Ce résultat nous offrent plusieurs chemins potentiels à explorer:\n",
    "- garder la première note\n",
    "- garder la dernière note (meilleur choix à mon sens)\n",
    "- garder la note maximale\n",
    "- garder la note minimale\n",
    "- garder la note moyenne\n",
    "- tout garder\n",
    "- ne rien garder (pourquoi pas)\n",
    "- pour ceux qui ont remis la note ?"
   ]
  },
  {
   "cell_type": "markdown",
   "id": "f7c00e2f",
   "metadata": {},
   "source": [
    "# Garder la dernière note"
   ]
  },
  {
   "cell_type": "code",
   "execution_count": 19,
   "id": "152cfd82",
   "metadata": {},
   "outputs": [
    {
     "name": "stdout",
     "output_type": "stream",
     "text": [
      "176182\n"
     ]
    },
    {
     "data": {
      "text/plain": [
       "176071"
      ]
     },
     "execution_count": 19,
     "metadata": {},
     "output_type": "execute_result"
    }
   ],
   "source": [
    "print(len(df_avis))\n",
    "# Convertir la colonne 'date_published' en type de données datetime\n",
    "df_avis['date_published'] = pd.to_datetime(df_avis['date_published'])\n",
    "\n",
    "# Trier le DataFrame par 'author', 'title' et 'date_published'\n",
    "df_avis = df_avis.sort_values(['author', 'title', 'date_published'])\n",
    "\n",
    "# Grouper par 'author' et 'title' et prendre la dernière 'date_published' et la note correspondante\n",
    "df_avis = df_avis.groupby(['author', 'title']).agg({'note': 'last', 'date_published': 'last'}).reset_index()\n",
    "\n",
    "len(df_avis)"
   ]
  },
  {
   "cell_type": "code",
   "execution_count": 20,
   "id": "409debb2",
   "metadata": {},
   "outputs": [
    {
     "data": {
      "text/html": [
       "<div>\n",
       "<style scoped>\n",
       "    .dataframe tbody tr th:only-of-type {\n",
       "        vertical-align: middle;\n",
       "    }\n",
       "\n",
       "    .dataframe tbody tr th {\n",
       "        vertical-align: top;\n",
       "    }\n",
       "\n",
       "    .dataframe thead th {\n",
       "        text-align: right;\n",
       "    }\n",
       "</style>\n",
       "<table border=\"1\" class=\"dataframe\">\n",
       "  <thead>\n",
       "    <tr style=\"text-align: right;\">\n",
       "      <th></th>\n",
       "      <th>author</th>\n",
       "      <th>title</th>\n",
       "      <th>note</th>\n",
       "      <th>date_published</th>\n",
       "    </tr>\n",
       "  </thead>\n",
       "  <tbody>\n",
       "    <tr>\n",
       "      <th>0</th>\n",
       "      <td>#yuyu#</td>\n",
       "      <td>Bubblee Pop</td>\n",
       "      <td>8.5</td>\n",
       "      <td>2019-01-19 23:11:33</td>\n",
       "    </tr>\n",
       "    <tr>\n",
       "      <th>1</th>\n",
       "      <td>#yuyu#</td>\n",
       "      <td>KARMAKA</td>\n",
       "      <td>8.8</td>\n",
       "      <td>2018-02-25 09:01:19</td>\n",
       "    </tr>\n",
       "    <tr>\n",
       "      <th>2</th>\n",
       "      <td>$hadow</td>\n",
       "      <td>Le Dilemme du Roi</td>\n",
       "      <td>9.0</td>\n",
       "      <td>2021-01-03 21:14:16</td>\n",
       "    </tr>\n",
       "    <tr>\n",
       "      <th>3</th>\n",
       "      <td>$lebat@$</td>\n",
       "      <td>Deluxe Camping</td>\n",
       "      <td>10.0</td>\n",
       "      <td>2007-11-06 12:28:47</td>\n",
       "    </tr>\n",
       "    <tr>\n",
       "      <th>4</th>\n",
       "      <td>&amp;lo</td>\n",
       "      <td>Sporz Original Outbreak</td>\n",
       "      <td>10.0</td>\n",
       "      <td>2011-01-18 12:28:59</td>\n",
       "    </tr>\n",
       "  </tbody>\n",
       "</table>\n",
       "</div>"
      ],
      "text/plain": [
       "     author                    title  note      date_published\n",
       "0    #yuyu#              Bubblee Pop   8.5 2019-01-19 23:11:33\n",
       "1    #yuyu#                  KARMAKA   8.8 2018-02-25 09:01:19\n",
       "2    $hadow        Le Dilemme du Roi   9.0 2021-01-03 21:14:16\n",
       "3  $lebat@$           Deluxe Camping  10.0 2007-11-06 12:28:47\n",
       "4       &lo  Sporz Original Outbreak  10.0 2011-01-18 12:28:59"
      ]
     },
     "execution_count": 20,
     "metadata": {},
     "output_type": "execute_result"
    }
   ],
   "source": [
    "df_avis.head()"
   ]
  },
  {
   "cell_type": "markdown",
   "id": "0854bc58",
   "metadata": {},
   "source": [
    "## 1. Statistiques sur le nombre d'utilisateurs en fonction du nombre minimum de notes"
   ]
  },
  {
   "cell_type": "code",
   "execution_count": 21,
   "id": "3231987c",
   "metadata": {},
   "outputs": [
    {
     "name": "stdout",
     "output_type": "stream",
     "text": [
      "Nombre minimums de notes requis:\n",
      "   [0, 5, 10, 20, 30, 50, 100, 200, 300]\n",
      "Liste du nombre d'authors restants:\n",
      "   [13623, 4701, 2849, 1631, 1176, 734, 359, 128, 61]\n",
      "Liste du nombre de jeux restants:\n",
      "   [10709, 10473, 10284, 9985, 9810, 9502, 8884, 7841, 6941]\n",
      "Taille de la base resultante:\n",
      "   [176071, 161159, 148961, 132383, 121419, 104510, 78541, 46182, 29867]\n"
     ]
    }
   ],
   "source": [
    "import seaborn as sns\n",
    "import matplotlib.pyplot as plt\n",
    "\n",
    "l_min = [0,5,10,20,30,50,100,200,300]\n",
    "n_authors = []\n",
    "n_titles = []\n",
    "tailles_df = []\n",
    "\n",
    "df_avis = df_avis[['author','title','note']]\n",
    "authors_counts = df_avis['author'].value_counts()\n",
    "for min_note in l_min:\n",
    "  authors = authors_counts[authors_counts >= min_note].index.to_list()\n",
    "  n_authors.append(np.unique(authors).shape[0])\n",
    "  \n",
    "  df_avis_k = df_avis[df_avis['author'].isin(authors)]\n",
    "  n_titles.append(df_avis_k[\"title\"].nunique())\n",
    "  tailles_df.append(len(df_avis_k))\n",
    "\n",
    "print(\"Nombre minimums de notes requis:\\n  \",l_min)\n",
    "print(\"Liste du nombre d'authors restants:\\n  \",n_authors)\n",
    "print(\"Liste du nombre de jeux restants:\\n  \",n_titles)\n",
    "print(\"Taille de la base resultante:\\n  \",tailles_df)"
   ]
  },
  {
   "cell_type": "code",
   "execution_count": 22,
   "id": "871c73ce",
   "metadata": {},
   "outputs": [
    {
     "data": {
      "image/png": "[encoded data removed]",
      "text/plain": [
       "<Figure size 432x288 with 1 Axes>"
      ]
     },
     "metadata": {},
     "output_type": "display_data"
    }
   ],
   "source": [
    "sns.set_style(\"darkgrid\")\n",
    "sns.lineplot(x=l_min,y=n_authors)\n",
    "plt.title(\"Nombre d'utilisateurs restants dans la base en fonction du nombre minimal de notes\")\n",
    "plt.show()"
   ]
  },
  {
   "cell_type": "code",
   "execution_count": 23,
   "id": "36688469",
   "metadata": {},
   "outputs": [
    {
     "data": {
      "image/png": "[encoded data removed]",
      "text/plain": [
       "<Figure size 432x288 with 1 Axes>"
      ]
     },
     "metadata": {},
     "output_type": "display_data"
    }
   ],
   "source": [
    "sns.set_style(\"darkgrid\")\n",
    "sns.lineplot(x=l_min,y=n_titles)\n",
    "plt.title(\"Nombre de jeux restants dans la base en fonction du nombre mini de notes\")\n",
    "plt.show()"
   ]
  },
  {
   "cell_type": "code",
   "execution_count": 24,
   "id": "fd040aff",
   "metadata": {},
   "outputs": [
    {
     "data": {
      "image/png": "[encoded data removed]",
      "text/plain": [
       "<Figure size 432x288 with 1 Axes>"
      ]
     },
     "metadata": {},
     "output_type": "display_data"
    }
   ],
   "source": [
    "sns.set_style(\"darkgrid\")\n",
    "sns.lineplot(x=l_min,y=tailles_df)\n",
    "plt.title(\"Taille du df restants dans la base en fonction du nombre mini de notes\")\n",
    "plt.show()"
   ]
  },
  {
   "cell_type": "markdown",
   "id": "0b5fe422",
   "metadata": {},
   "source": [
    "Nous avons decidé de prendre les trois cas suivants au vus des statisques après suppression de certains cas d'utilisateurs: \n",
    "- les utilisateurs ayant noté au moins 10 jeux\n",
    "- les utilisateurs ayant noté au moins 50 jeux\n",
    "- les utilisateurs ayant noté au moins 100 jeux\n",
    "- les utilisateurs ayant noté au moins 200 jeux\n"
   ]
  },
  {
   "cell_type": "markdown",
   "id": "edb5e888",
   "metadata": {},
   "source": [
    "## Déduction des quatres bases sur les quelles nous allons travailer et faire des comparaisons.\n",
    "\n",
    "- df_avis_10 contient les données avec des utilisateurs ayant noté au moins 10 jeux\n",
    "- df_avis_50 contient les données avec des utilisateurs ayant noté au moins 50 jeux\n",
    "- df_avis_100 contient les données avec des utilisateurs ayant noté au moins 100 jeux\n",
    "- df_avis_200 contient les données avec des utilisateurs ayant noté au moins 200 jeux\n"
   ]
  },
  {
   "cell_type": "code",
   "execution_count": 25,
   "id": "56024485",
   "metadata": {},
   "outputs": [
    {
     "name": "stdout",
     "output_type": "stream",
     "text": [
      "Taille de la base avant suppression:\n",
      "      --> 176071\n",
      "Taille de la base après suppression des utilisateurs ayant noté moins d'un certain nombre de jeux:\n",
      "  10  --> 148961\n",
      "  50 --> 104510\n",
      "  100 --> 78541\n",
      "  200 --> 46182\n"
     ]
    }
   ],
   "source": [
    "print(f\"Taille de la base avant suppression:\\n      --> {len(df_avis)}\")\n",
    "\n",
    "authors = df_avis['author'].value_counts()\n",
    "authors_10  = authors[authors >= 10 ].index.to_list()\n",
    "authors_50 = authors[authors >= 50].index.to_list()\n",
    "authors_100 = authors[authors >= 100].index.to_list()\n",
    "authors_200 = authors[authors >= 200].index.to_list()\n",
    "\n",
    "\n",
    "df_avis_10  = df_avis[df_avis['author'].isin(authors_10)]\n",
    "df_avis_50 = df_avis[df_avis['author'].isin(authors_50)]\n",
    "df_avis_100 = df_avis[df_avis['author'].isin(authors_100)]\n",
    "df_avis_200 = df_avis[df_avis['author'].isin(authors_200)]\n",
    "\n",
    "print(f\"Taille de la base après suppression des utilisateurs ayant noté moins d'un certain nombre de jeux:\")\n",
    "print(f\"  10  --> {len(df_avis_10)}\")\n",
    "print(f\"  50 --> {len(df_avis_50)}\")\n",
    "print(f\"  100 --> {len(df_avis_100)}\")\n",
    "print(f\"  200 --> {len(df_avis_200)}\")\n"
   ]
  },
  {
   "cell_type": "markdown",
   "id": "2c4bafa7",
   "metadata": {},
   "source": [
    "- La base df_avis_10  contient **148961** lignes pour **2849** utilisateurs et **10284** jeux.\n",
    "- La base df_avis_50 contient **104510** lignes pour **734** utilisateurs et **9502** jeux.\n",
    "- La base df_avis_100 contient **78541** lignes pour **359** utilisateurs et **8884** jeux.\n",
    "- La base df_avis_200 contient **46182** lignes pour **128** utilisateurs et **7841** jeux.\n"
   ]
  },
  {
   "cell_type": "markdown",
   "id": "98fc0d7e",
   "metadata": {},
   "source": [
    "## Jeux populaires"
   ]
  },
  {
   "cell_type": "code",
   "execution_count": 26,
   "id": "c2b25111",
   "metadata": {},
   "outputs": [
    {
     "name": "stdout",
     "output_type": "stream",
     "text": [
      "Les 20 jeux les plus populaires dans la base:\n",
      "  title\n",
      "Shogun                                   172\n",
      "Non Merci                                158\n",
      "Boomerang                                156\n",
      "Eclipse                                  155\n",
      "Les mystères de Pékin                    155\n",
      "Mare Nostrum                             153\n",
      "Dune                                     153\n",
      "Camelot                                  151\n",
      "Poker                                    151\n",
      "Intrigue                                 151\n",
      "Samuraï                                  151\n",
      "Guillotine                               151\n",
      "Elysium                                  151\n",
      "Not Alone                                150\n",
      "Battlestar Galactica                     150\n",
      "Clank!                                   150\n",
      "Clans                                    150\n",
      "Notre Dame - édition 10e anniversaire    150\n",
      "Carcassonne                              150\n",
      "Civilisation                             150\n",
      "Name: note, dtype: int64\n"
     ]
    }
   ],
   "source": [
    "jeux_counts = df_avis.groupby('title')[\"note\"].count().sort_values(ascending=False)\n",
    "jeux_populaires = jeux_counts.index.tolist()\n",
    "print(\"Les 20 jeux les plus populaires dans la base:\\n \",jeux_counts[:20])\n"
   ]
  },
  {
   "cell_type": "code",
   "execution_count": 27,
   "id": "263632d2",
   "metadata": {},
   "outputs": [
    {
     "data": {
      "image/png": "[encoded data removed]",
      "text/plain": [
       "<Figure size 432x288 with 1 Axes>"
      ]
     },
     "metadata": {},
     "output_type": "display_data"
    }
   ],
   "source": [
    "# Création du diagramme à barres\n",
    "n = 50\n",
    "plt.bar(jeux_populaires[:n], jeux_counts.values[:n])\n",
    "\n",
    "# Ajout de la légende et du titre\n",
    "plt.xlabel('Jeux')\n",
    "plt.ylabel('Fréquence')\n",
    "plt.title('jeux les plus populaires dans la base')\n",
    "\n",
    "# Affichage du diagramme\n",
    "plt.show()"
   ]
  },
  {
   "cell_type": "code",
   "execution_count": 28,
   "id": "f2b43760",
   "metadata": {},
   "outputs": [
    {
     "name": "stdout",
     "output_type": "stream",
     "text": [
      "Les 10 jeux les plus populaires dans la base, avec les utilisateurs ayant noté au moins 10 jeux:\n",
      " title\n",
      "Non Merci                    158\n",
      "Shogun                       153\n",
      "Camelot                      151\n",
      "Uno Deluxe                   150\n",
      "La Crique des Pirates        150\n",
      "Gang Of Four                 150\n",
      "Takenoko                     150\n",
      "Marrakech - Astérix          150\n",
      "La Traversée du Désert       150\n",
      "Coloretto : 10 ans déjà      150\n",
      "La Guerre des Moutons        150\n",
      "Bang!                        150\n",
      "Cluedo - Les bons voyages    150\n",
      "L'Île interdite              150\n",
      "Hanabi                       150\n",
      "Seasons                      150\n",
      "L'Âge de Pierre              150\n",
      "Kuhhandel Master             150\n",
      "Tigris & Euphrates           150\n",
      "Service Compris !            150\n",
      "Name: note, dtype: int64\n"
     ]
    },
    {
     "data": {
      "image/png": "[encoded data removed]",
      "text/plain": [
       "<Figure size 432x288 with 1 Axes>"
      ]
     },
     "metadata": {},
     "output_type": "display_data"
    }
   ],
   "source": [
    "jeux_counts = df_avis_10.groupby('title')[\"note\"].count().sort_values(ascending=False)\n",
    "jeux_populaires = jeux_counts.index.tolist()\n",
    "print(\"Les 10 jeux les plus populaires dans la base, avec les utilisateurs ayant noté au moins 10 jeux:\\n\",jeux_counts[:20])\n",
    "\n",
    "# Création du diagramme à barres\n",
    "n = 50\n",
    "plt.bar(jeux_populaires[:n], jeux_counts.values[:n])\n",
    "\n",
    "# Ajout de la légende et du titre\n",
    "plt.xlabel('Jeux')\n",
    "plt.ylabel('Fréquence')\n",
    "plt.title('jeux les plus populaires dans la base')\n",
    "\n",
    "# Affichage du diagramme\n",
    "plt.show()"
   ]
  },
  {
   "cell_type": "code",
   "execution_count": 29,
   "id": "0a3fb605",
   "metadata": {},
   "outputs": [
    {
     "name": "stdout",
     "output_type": "stream",
     "text": [
      "Les 10 jeux les plus populaires dans la base, avec les utilisateurs ayant noté au moins 50 jeux:\n",
      " title\n",
      "Les Chevaliers de la Table Ronde    150\n",
      "L'Âge de Pierre                     150\n",
      "La Guerre des Moutons               150\n",
      "Jamaïca                             150\n",
      "Time's Up !                         149\n",
      "Dice Town                           149\n",
      "Camelot                             149\n",
      "Elixir                              149\n",
      "Agricola                            149\n",
      "Small World                         149\n",
      "Pingouins                           148\n",
      "Dominion                            148\n",
      "Yspahan                             148\n",
      "Mr. Jack - London                   148\n",
      "Jungle Speed                        148\n",
      "Citadelles : quatrième édition      148\n",
      "Lost Cities - The Boardgame         147\n",
      "Les Aventuriers du Rail             147\n",
      "Caylus                              147\n",
      "Bang!                               147\n",
      "Name: note, dtype: int64\n"
     ]
    },
    {
     "data": {
      "image/png": "[encoded data removed]",
      "text/plain": [
       "<Figure size 432x288 with 1 Axes>"
      ]
     },
     "metadata": {},
     "output_type": "display_data"
    }
   ],
   "source": [
    "jeux_counts = df_avis_50.groupby('title')[\"note\"].count().sort_values(ascending=False)\n",
    "jeux_populaires = jeux_counts.index.tolist()\n",
    "print(\"Les 10 jeux les plus populaires dans la base, avec les utilisateurs ayant noté au moins 50 jeux:\\n\",jeux_counts[:20])\n",
    "\n",
    "# Création du diagramme à barres\n",
    "n = 50\n",
    "plt.bar(jeux_populaires[:n], jeux_counts.values[:n])\n",
    "\n",
    "# Ajout de la légende et du titre\n",
    "plt.xlabel('Jeux')\n",
    "plt.ylabel('Fréquence')\n",
    "plt.title('jeux les plus populaires dans la base')\n",
    "\n",
    "# Affichage du diagramme\n",
    "plt.show()"
   ]
  },
  {
   "cell_type": "code",
   "execution_count": 30,
   "id": "34fbfe99",
   "metadata": {},
   "outputs": [
    {
     "name": "stdout",
     "output_type": "stream",
     "text": [
      "Les 10 jeux les plus populaires dans la base, avec les utilisateurs ayant noté au moins 100 jeux:\n",
      " title\n",
      "La Guerre des Moutons               146\n",
      "Les Chevaliers de la Table Ronde    144\n",
      "Small World                         144\n",
      "Time's Up !                         143\n",
      "Elixir                              142\n",
      "L'Âge de Pierre                     141\n",
      "Dominion                            141\n",
      "Agricola                            139\n",
      "Mr. Jack - London                   138\n",
      "Citadelles : quatrième édition      138\n",
      "Race for the Galaxy                 138\n",
      "6 qui prend !                       138\n",
      "Catan                               137\n",
      "Caylus                              137\n",
      "Les Aventuriers du Rail             137\n",
      "Jamaïca                             137\n",
      "Yspahan                             136\n",
      "Lost Cities - The Boardgame         135\n",
      "Formula D                           135\n",
      "Bang!                               135\n",
      "Name: note, dtype: int64\n"
     ]
    },
    {
     "data": {
      "image/png": "[encoded data removed]",
      "text/plain": [
       "<Figure size 432x288 with 1 Axes>"
      ]
     },
     "metadata": {},
     "output_type": "display_data"
    }
   ],
   "source": [
    "jeux_counts = df_avis_100.groupby('title')[\"note\"].count().sort_values(ascending=False)\n",
    "jeux_populaires = jeux_counts.index.tolist()\n",
    "print(\"Les 10 jeux les plus populaires dans la base, avec les utilisateurs ayant noté au moins 100 jeux:\\n\",jeux_counts[:20])\n",
    "\n",
    "# Création du diagramme à barres\n",
    "n = 50\n",
    "plt.bar(jeux_populaires[:n], jeux_counts.values[:n])\n",
    "\n",
    "# Ajout de la légende et du titre\n",
    "plt.xlabel('Jeux')\n",
    "plt.ylabel('Fréquence')\n",
    "plt.title('jeux les plus populaires dans la base')\n",
    "\n",
    "# Affichage du diagramme\n",
    "plt.show()"
   ]
  },
  {
   "cell_type": "code",
   "execution_count": 31,
   "id": "3e874529",
   "metadata": {},
   "outputs": [
    {
     "name": "stdout",
     "output_type": "stream",
     "text": [
      "Les 10 jeux les plus populaires dans la base, avec les utilisateurs ayant noté au moins 200 jeux:\n",
      " title\n",
      "Les Aventuriers du Rail             82\n",
      "Small World                         82\n",
      "L'Âge de Pierre                     82\n",
      "La Guerre des Moutons               82\n",
      "Dominion                            79\n",
      "Citadelles : quatrième édition      79\n",
      "Les Chevaliers de la Table Ronde    78\n",
      "6 qui prend !                       77\n",
      "Jamaïca                             75\n",
      "Caylus                              75\n",
      "Agricola                            74\n",
      "Time's Up !                         74\n",
      "Coloretto : 10 ans déjà             73\n",
      "Pandémie                            73\n",
      "Carcassonne                         72\n",
      "Jungle Speed                        72\n",
      "Lost Cities - The Boardgame         71\n",
      "Race for the Galaxy                 71\n",
      "Dixit                               71\n",
      "Pingouins                           69\n",
      "Name: note, dtype: int64\n"
     ]
    },
    {
     "data": {
      "image/png": "[encoded data removed]",
      "text/plain": [
       "<Figure size 432x288 with 1 Axes>"
      ]
     },
     "metadata": {},
     "output_type": "display_data"
    }
   ],
   "source": [
    "jeux_counts = df_avis_200.groupby('title')[\"note\"].count().sort_values(ascending=False)\n",
    "jeux_populaires = jeux_counts.index.tolist()\n",
    "print(\"Les 10 jeux les plus populaires dans la base, avec les utilisateurs ayant noté au moins 200 jeux:\\n\",jeux_counts[:20])\n",
    "\n",
    "# Création du diagramme à barres\n",
    "n = 50\n",
    "plt.bar(jeux_populaires[:n], jeux_counts.values[:n])\n",
    "\n",
    "# Ajout de la légende et du titre\n",
    "plt.xlabel('Jeux')\n",
    "plt.ylabel('Fréquence')\n",
    "plt.title('jeux les plus populaires dans la base')\n",
    "\n",
    "# Affichage du diagramme\n",
    "plt.show()"
   ]
  },
  {
   "cell_type": "markdown",
   "id": "95bdcacd",
   "metadata": {},
   "source": [
    "La distribution est un peu plate.\n",
    "La liste des jeux les plus populaires n'est pas statique selon les bases considérées."
   ]
  },
  {
   "cell_type": "markdown",
   "id": "e270ccd2",
   "metadata": {},
   "source": [
    "## Separation des données en plusieurs jeux de données pour la validation croisée(5 paquets de train/test).\n",
    "Récupération de la liste de tous les jeux qui pourront être recommendés et des jeux les plus populaires."
   ]
  },
  {
   "cell_type": "code",
   "execution_count": 32,
   "id": "ebf6704a",
   "metadata": {},
   "outputs": [
    {
     "name": "stdout",
     "output_type": "stream",
     "text": [
      "Validation croisée en 5 paquets\n"
     ]
    }
   ],
   "source": [
    "\n",
    "from sklearn.model_selection import KFold\n",
    "\n",
    "n_splits = 5\n",
    "kf = KFold(n_splits=n_splits,shuffle=True,random_state=0)\n",
    "\n",
    "splits_10 = []\n",
    "for train, test in kf.split(df_avis_10):\n",
    "  X_train = df_avis_10.iloc[train].copy()\n",
    "  X_test  = df_avis_10.iloc[test].copy()\n",
    "  jeux_existants = set(X_train[\"title\"].unique()) # ensemble des jeux existants\n",
    "  jeux_counts = X_train.groupby('title')[\"note\"].count().sort_values(ascending=False)\n",
    "  jeux_populaires = jeux_counts.index.tolist()\n",
    "  splits_10.append((X_train,X_test,(jeux_existants,jeux_populaires)))\n",
    "    \n",
    "splits_50 = []\n",
    "for train, test in kf.split(df_avis_50):\n",
    "  X_train = df_avis_50.iloc[train].copy()\n",
    "  X_test  = df_avis_50.iloc[test].copy()\n",
    "  jeux_existants = set(X_train[\"title\"].unique()) # ensemble des jeux existants\n",
    "  jeux_counts = X_train.groupby('title')[\"note\"].count().sort_values(ascending=False)\n",
    "  jeux_populaires = jeux_counts.index.tolist()\n",
    "  splits_50.append((X_train,X_test,(jeux_existants,jeux_populaires)))\n",
    "\n",
    "splits_100 = []\n",
    "for train, test in kf.split(df_avis_100):\n",
    "  X_train = df_avis_100.iloc[train].copy()\n",
    "  X_test  = df_avis_100.iloc[test].copy()\n",
    "  jeux_existants = set(X_train[\"title\"].unique()) # ensemble des jeux existants\n",
    "  jeux_counts = X_train.groupby('title')[\"note\"].count().sort_values(ascending=False)\n",
    "  jeux_populaires = jeux_counts.index.tolist()\n",
    "  splits_100.append((X_train,X_test,(jeux_existants,jeux_populaires)))\n",
    "\n",
    "splits_200 = []\n",
    "for train, test in kf.split(df_avis_200):\n",
    "  X_train = df_avis_200.iloc[train].copy()\n",
    "  X_test  = df_avis_200.iloc[test].copy()\n",
    "  jeux_existants = set(X_train[\"title\"].unique()) # ensemble des jeux existants\n",
    "  jeux_counts = X_train.groupby('title')[\"note\"].count().sort_values(ascending=False)\n",
    "  jeux_populaires = jeux_counts.index.tolist()\n",
    "  splits_200.append((X_train,X_test,(jeux_existants,jeux_populaires)))\n",
    "\n",
    "\n",
    "\n",
    "print(f\"Validation croisée en {len(splits_10)} paquets\")\n",
    "    "
   ]
  },
  {
   "cell_type": "markdown",
   "id": "937b9cbd",
   "metadata": {},
   "source": [
    "## Nombre d'utilisateurs dans les paquets train et test"
   ]
  },
  {
   "cell_type": "code",
   "execution_count": 33,
   "id": "5d0cc8a0",
   "metadata": {},
   "outputs": [],
   "source": [
    "train_n_utils_10, train_n_jeux_10, l_jeux_populaires_10 = [],[],[]\n",
    "train_n_utils_50, train_n_jeux_50, l_jeux_populaires_50 = [],[],[]\n",
    "train_n_utils_100, train_n_jeux_100, l_jeux_populaires_100 = [],[],[]\n",
    "train_n_utils_200, train_n_jeux_200, l_jeux_populaires_200 = [],[],[]\n",
    "\n",
    "\n",
    "test_n_utils_10, test_n_jeux_10 = [],[]\n",
    "test_n_utils_50, test_n_jeux_50 = [],[]\n",
    "test_n_utils_100, test_n_jeux_100 = [],[]\n",
    "test_n_utils_200, test_n_jeux_200 = [],[]\n",
    "\n",
    "\n",
    "for ip in range(n_splits):\n",
    "  X_train_10,X_test_10,je   = splits_10[ip]\n",
    "  train_n_utils_10.append(X_train_10['author'].nunique())\n",
    "  test_n_utils_10.append(X_test_10['author'].nunique())\n",
    "  train_n_jeux_10.append(X_train_10['title'].nunique())\n",
    "  test_n_jeux_10.append(X_test_10['title'].nunique())\n",
    "  l_jeux_populaires_10.append(je[1])\n",
    "    \n",
    "  X_train_50,X_test_50,je = splits_50[ip]\n",
    "  train_n_utils_50.append(X_train_50['author'].nunique())\n",
    "  test_n_utils_50.append(X_test_50['author'].nunique())\n",
    "  train_n_jeux_50.append(X_train_50['title'].nunique())\n",
    "  test_n_jeux_50.append(X_test_50['title'].nunique())\n",
    "  l_jeux_populaires_50.append(je[1])\n",
    "\n",
    "  X_train_100,X_test_100,je = splits_100[ip]\n",
    "  train_n_utils_100.append(X_train_100['author'].nunique())\n",
    "  test_n_utils_100.append(X_test_100['author'].nunique())\n",
    "  train_n_jeux_100.append(X_train_100['title'].nunique())\n",
    "  test_n_jeux_100.append(X_test_100['title'].nunique())\n",
    "  l_jeux_populaires_100.append(je[1])\n",
    "  \n",
    "  X_train_200,X_test_200,je = splits_200[ip]\n",
    "  train_n_utils_200.append(X_train_200['author'].nunique())\n",
    "  test_n_utils_200.append(X_test_200['author'].nunique())\n",
    "  train_n_jeux_200.append(X_train_200['title'].nunique())\n",
    "  test_n_jeux_200.append(X_test_200['title'].nunique())\n",
    "  l_jeux_populaires_200.append(je[1])\n",
    "  \n",
    "  "
   ]
  },
  {
   "cell_type": "code",
   "execution_count": 34,
   "id": "f80fc44f",
   "metadata": {},
   "outputs": [
    {
     "name": "stdout",
     "output_type": "stream",
     "text": [
      "Avec les utilisateurs ayant noté au moins 10 jeux:\n",
      "  Utilisateurs:\n",
      "\tNombre d'utilisateurs dans l'ensemble d'apprentissage:\n",
      "\t\tmoy: 2849.0 std: 0.0\n",
      "\t\t --> [2849, 2849, 2849, 2849, 2849]\n",
      "\tNombre d'utilisateurs dans l'ensemble de test:\n",
      "\t\tmoy: 2776.4 std: 6.3118935352238\n",
      "\t\t --> [2786, 2773, 2767, 2777, 2779]\n",
      "  Jeux:\n",
      "\tNombre de jeux dans l'ensemble d'apprentissage:\n",
      "\t\tmoy: 9679.6 std: 14.74584687293341\n",
      "\t\t --> [9690, 9663, 9669, 9703, 9673]\n",
      "\tNombre de jeux dans l'ensemble de test:\n",
      "\t\tmoy: 6080.6 std: 15.05456741324705\n",
      "\t\t --> [6081, 6061, 6084, 6071, 6106]\n",
      "\tJeux populaires:\n",
      "\t\t ['Pickomino', 'Elixir', 'Maka Bana', 'Sobek', 'Yspahan', 'Mr. Jack - London', 'Non Merci', 'Small World', 'Échecs', 'War of the ring : Anniversary Release']\n",
      "\t\t ['La Havane', 'Maka Bana', 'King of Tokyo', 'Seasons', 'Abyss', 'Hanabi', '7 Wonders Duel', 'Zombicide', 'Service Compris !', 'Pique Plume']\n",
      "\t\t ['Dungeon Lords', 'Agricola', 'Objets trouvés', 'Takenoko', 'Munchkin', 'The Island', 'Mr. Jack Pocket', \"Can't Stop\", 'Cluedo - Les bons voyages', 'El Grande - Edicion 20e Aniversario']\n",
      "\t\t ['Non Merci', 'Shogun', \"Mystère à l'Abbaye\", 'Service Compris !', 'Evo', 'La Guerre des Moutons', 'The Boss', 'Libertalia', 'Scrabble', 'PitchCar']\n",
      "\t\t ['Jamaïca', 'Non Merci', 'The Boss', 'Room 25 Seconde Edition', 'Olympos', 'Saboteur', 'Timeline I : Inventions', 'Augustus', 'Zou', 'Quilles finlandaises']\n"
     ]
    }
   ],
   "source": [
    "print(\"Avec les utilisateurs ayant noté au moins 10 jeux:\")\n",
    "print(\"  Utilisateurs:\")\n",
    "print(f\"\\tNombre d'utilisateurs dans l'ensemble d'apprentissage:\\n\\t\\tmoy: {np.mean(train_n_utils_10)} std: {np.std(train_n_utils_10)}\\n\\t\\t --> {train_n_utils_10}\")\n",
    "print(f\"\\tNombre d'utilisateurs dans l'ensemble de test:\\n\\t\\tmoy: {np.mean(test_n_utils_10)} std: {np.std(test_n_utils_10)}\\n\\t\\t --> {test_n_utils_10}\")\n",
    "print(\"  Jeux:\")\n",
    "print(f\"\\tNombre de jeux dans l'ensemble d'apprentissage:\\n\\t\\tmoy: {np.mean(train_n_jeux_10)} std: {np.std(train_n_jeux_10)}\\n\\t\\t --> {train_n_jeux_10}\")\n",
    "print(f\"\\tNombre de jeux dans l'ensemble de test:\\n\\t\\tmoy: {np.mean(test_n_jeux_10)} std: {np.std(test_n_jeux_10)}\\n\\t\\t --> {test_n_jeux_10}\")\n",
    "print(f\"\\tJeux populaires:\")\n",
    "for jp in l_jeux_populaires_10:\n",
    "  print(\"\\t\\t\",jp[:10])"
   ]
  },
  {
   "cell_type": "code",
   "execution_count": 35,
   "id": "fcca83ab",
   "metadata": {},
   "outputs": [
    {
     "name": "stdout",
     "output_type": "stream",
     "text": [
      "Avec les utilisateurs ayant noté au moins 50 jeux:\n",
      "  Utilisateurs:\n",
      "\tNombre d'utilisateurs dans l'ensemble d'apprentissage:\n",
      "\t\tmoy: 734.0 std: 0.0\n",
      "\t\t --> [734, 734, 734, 734, 734]\n",
      "\tNombre d'utilisateurs dans l'ensemble de test:\n",
      "\t\tmoy: 734.0 std: 0.0\n",
      "\t\t --> [734, 734, 734, 734, 734]\n",
      "  Jeux:\n",
      "\tNombre de jeux dans l'ensemble d'apprentissage:\n",
      "\t\tmoy: 8887.4 std: 33.52372294361114\n",
      "\t\t --> [8856, 8902, 8939, 8846, 8894]\n",
      "\tNombre de jeux dans l'ensemble de test:\n",
      "\t\tmoy: 5342.2 std: 32.41234332781263\n",
      "\t\t --> [5372, 5377, 5288, 5346, 5328]\n",
      "\tJeux populaires:\n",
      "\t\t [\"L'Âge de Pierre\", 'Les Chevaliers de la Table Ronde', 'Scrabble', 'Lost Cities - The Boardgame', '6 qui prend !', 'Race for the Galaxy', 'Lords of Xidit', 'Roborally', 'Jamaïca', 'Cyclades']\n",
      "\t\t ['Les Chevaliers de la Table Ronde', 'Mr. Jack - London', 'Jamaïca', 'Elixir', 'Il était une fois', 'Takenoko', 'Dice Town', 'Splendor', 'Lords of Xidit', 'Saboteur']\n",
      "\t\t ['Yspahan', 'Sherlock Holmes Détective Conseil : les meurtres de la Tamise & autres enquêtes', 'Bang!', \"Time's Up !\", 'Du Balai !', 'Scrabble', 'Camelot', \"Ca$h'n Guns second édition\", 'La Guerre des Moutons', 'Myrmes']\n",
      "\t\t ['Elixir', 'Small World', 'Dixit', 'Ghost Stories', 'Camelot', 'Jungle Speed', 'Catan', 'Bohnanza', 'Pandémie', 'Augustus']\n",
      "\t\t ['Citadelles : quatrième édition', 'Camelot', 'Bohnanza', 'Agricola', 'Dominion', 'Mr. Jack - London', 'Saint Pétersbourg', 'Pingouins', 'Taluva', \"Can't Stop\"]\n"
     ]
    }
   ],
   "source": [
    "print(\"Avec les utilisateurs ayant noté au moins 50 jeux:\")\n",
    "print(\"  Utilisateurs:\")\n",
    "print(f\"\\tNombre d'utilisateurs dans l'ensemble d'apprentissage:\\n\\t\\tmoy: {np.mean(train_n_utils_50)} std: {np.std(train_n_utils_50)}\\n\\t\\t --> {train_n_utils_50}\")\n",
    "print(f\"\\tNombre d'utilisateurs dans l'ensemble de test:\\n\\t\\tmoy: {np.mean(test_n_utils_50)} std: {np.std(test_n_utils_50)}\\n\\t\\t --> {test_n_utils_50}\")\n",
    "print(\"  Jeux:\")\n",
    "print(f\"\\tNombre de jeux dans l'ensemble d'apprentissage:\\n\\t\\tmoy: {np.mean(train_n_jeux_50)} std: {np.std(train_n_jeux_50)}\\n\\t\\t --> {train_n_jeux_50}\")\n",
    "print(f\"\\tNombre de jeux dans l'ensemble de test:\\n\\t\\tmoy: {np.mean(test_n_jeux_50)} std: {np.std(test_n_jeux_50)}\\n\\t\\t --> {test_n_jeux_50}\")\n",
    "print(f\"\\tJeux populaires:\")\n",
    "for jp in l_jeux_populaires_50:\n",
    "  print(\"\\t\\t\",jp[:10])"
   ]
  },
  {
   "cell_type": "code",
   "execution_count": 36,
   "id": "3cd19516",
   "metadata": {},
   "outputs": [
    {
     "name": "stdout",
     "output_type": "stream",
     "text": [
      "Avec les utilisateurs ayant noté au moins 100 jeux:\n",
      "  Utilisateurs:\n",
      "\tNombre d'utilisateurs dans l'ensemble d'apprentissage:\n",
      "\t\tmoy: 359.0 std: 0.0\n",
      "\t\t --> [359, 359, 359, 359, 359]\n",
      "\tNombre d'utilisateurs dans l'ensemble de test:\n",
      "\t\tmoy: 359.0 std: 0.0\n",
      "\t\t --> [359, 359, 359, 359, 359]\n",
      "  Jeux:\n",
      "\tNombre de jeux dans l'ensemble d'apprentissage:\n",
      "\t\tmoy: 8261.0 std: 7.26636084983398\n",
      "\t\t --> [8258, 8270, 8250, 8259, 8268]\n",
      "\tNombre de jeux dans l'ensemble de test:\n",
      "\t\tmoy: 4747.4 std: 33.77928359216637\n",
      "\t\t --> [4768, 4680, 4761, 4763, 4765]\n",
      "\tJeux populaires:\n",
      "\t\t ['La Guerre des Moutons', 'Les Aventuriers du Rail', 'Les Chevaliers de la Table Ronde', \"L'Âge de Pierre\", '6 qui prend !', 'Elixir', 'Citadelles : quatrième édition', 'Small World', 'Mr. Jack - London', 'Dominion']\n",
      "\t\t ['Small World', 'Dominion', 'Elixir', \"L'Âge de Pierre\", 'Yspahan', \"Time's Up !\", 'Caylus', 'Jamaïca', 'Agricola', 'La Guerre des Moutons']\n",
      "\t\t ['6 qui prend !', 'Agricola', 'Caylus', 'Small World', 'Camelot', 'Les Chevaliers de la Table Ronde', 'Citadelles : quatrième édition', 'La Guerre des Moutons', 'Race for the Galaxy', 'Bang!']\n",
      "\t\t [\"Time's Up !\", 'La Guerre des Moutons', 'Lost Cities - The Boardgame', 'Les Chevaliers de la Table Ronde', 'Elixir', 'Formula D', 'Jamaïca', 'Bang!', 'Bohnanza', 'Dixit']\n",
      "\t\t ['Les Chevaliers de la Table Ronde', 'La Guerre des Moutons', \"L'Âge de Pierre\", 'Small World', 'Elixir', 'Agricola', \"Time's Up !\", 'Pandémie', 'Mr. Jack - London', 'Catan']\n"
     ]
    }
   ],
   "source": [
    "print(\"Avec les utilisateurs ayant noté au moins 100 jeux:\")\n",
    "print(\"  Utilisateurs:\")\n",
    "print(f\"\\tNombre d'utilisateurs dans l'ensemble d'apprentissage:\\n\\t\\tmoy: {np.mean(train_n_utils_100)} std: {np.std(train_n_utils_100)}\\n\\t\\t --> {train_n_utils_100}\")\n",
    "print(f\"\\tNombre d'utilisateurs dans l'ensemble de test:\\n\\t\\tmoy: {np.mean(test_n_utils_100)} std: {np.std(test_n_utils_100)}\\n\\t\\t --> {test_n_utils_100}\")\n",
    "print(\"  Jeux:\")\n",
    "print(f\"\\tNombre de jeux dans l'ensemble d'apprentissage:\\n\\t\\tmoy: {np.mean(train_n_jeux_100)} std: {np.std(train_n_jeux_100)}\\n\\t\\t --> {train_n_jeux_100}\")\n",
    "print(f\"\\tNombre de jeux dans l'ensemble de test:\\n\\t\\tmoy: {np.mean(test_n_jeux_100)} std: {np.std(test_n_jeux_100)}\\n\\t\\t --> {test_n_jeux_100}\")\n",
    "print(f\"\\tJeux populaires:\")\n",
    "for jp in l_jeux_populaires_100:\n",
    "  print(\"\\t\\t\",jp[:10])"
   ]
  },
  {
   "cell_type": "code",
   "execution_count": 37,
   "id": "eb88d6b8",
   "metadata": {},
   "outputs": [
    {
     "name": "stdout",
     "output_type": "stream",
     "text": [
      "Avec les utilisateurs ayant noté au moins 200 jeux:\n",
      "  Utilisateurs:\n",
      "\tNombre d'utilisateurs dans l'ensemble d'apprentissage:\n",
      "\t\tmoy: 128.0 std: 0.0\n",
      "\t\t --> [128, 128, 128, 128, 128]\n",
      "\tNombre d'utilisateurs dans l'ensemble de test:\n",
      "\t\tmoy: 128.0 std: 0.0\n",
      "\t\t --> [128, 128, 128, 128, 128]\n",
      "  Jeux:\n",
      "\tNombre de jeux dans l'ensemble d'apprentissage:\n",
      "\t\tmoy: 7230.8 std: 8.541662601625049\n",
      "\t\t --> [7231, 7223, 7225, 7228, 7247]\n",
      "\tNombre de jeux dans l'ensemble de test:\n",
      "\t\tmoy: 3854.6 std: 29.38434957592221\n",
      "\t\t --> [3862, 3868, 3807, 3895, 3841]\n",
      "\tJeux populaires:\n",
      "\t\t ['La Guerre des Moutons', 'Dominion', 'Les Chevaliers de la Table Ronde', \"L'Âge de Pierre\", 'Les Aventuriers du Rail', 'Citadelles : quatrième édition', 'Small World', 'Lost Cities - The Boardgame', 'Agricola', \"Time's Up !\"]\n",
      "\t\t ['La Guerre des Moutons', \"Time's Up !\", 'Les Aventuriers du Rail', \"L'Âge de Pierre\", 'Citadelles : quatrième édition', 'Jungle Speed', 'Dominion', 'Agricola', 'Caylus', 'Small World']\n",
      "\t\t [\"L'Âge de Pierre\", 'Les Aventuriers du Rail', 'La Guerre des Moutons', 'Jamaïca', 'Small World', '6 qui prend !', 'Citadelles : quatrième édition', 'Caylus', 'Race for the Galaxy', 'Les Chevaliers de la Table Ronde']\n",
      "\t\t ['Small World', 'Dominion', 'Citadelles : quatrième édition', 'La Guerre des Moutons', 'Les Aventuriers du Rail', \"L'Âge de Pierre\", 'Carcassonne', 'Les Chevaliers de la Table Ronde', 'Yspahan', 'Jamaïca']\n",
      "\t\t ['Small World', \"L'Âge de Pierre\", 'Les Aventuriers du Rail', '6 qui prend !', 'Caylus', 'La Guerre des Moutons', 'Carcassonne', 'Les Chevaliers de la Table Ronde', 'Dice Town', 'Citadelles : quatrième édition']\n"
     ]
    }
   ],
   "source": [
    "print(\"Avec les utilisateurs ayant noté au moins 200 jeux:\")\n",
    "print(\"  Utilisateurs:\")\n",
    "print(f\"\\tNombre d'utilisateurs dans l'ensemble d'apprentissage:\\n\\t\\tmoy: {np.mean(train_n_utils_200)} std: {np.std(train_n_utils_200)}\\n\\t\\t --> {train_n_utils_200}\")\n",
    "print(f\"\\tNombre d'utilisateurs dans l'ensemble de test:\\n\\t\\tmoy: {np.mean(test_n_utils_200)} std: {np.std(test_n_utils_200)}\\n\\t\\t --> {test_n_utils_200}\")\n",
    "print(\"  Jeux:\")\n",
    "print(f\"\\tNombre de jeux dans l'ensemble d'apprentissage:\\n\\t\\tmoy: {np.mean(train_n_jeux_200)} std: {np.std(train_n_jeux_200)}\\n\\t\\t --> {train_n_jeux_200}\")\n",
    "print(f\"\\tNombre de jeux dans l'ensemble de test:\\n\\t\\tmoy: {np.mean(test_n_jeux_200)} std: {np.std(test_n_jeux_200)}\\n\\t\\t --> {test_n_jeux_200}\")\n",
    "print(f\"\\tJeux populaires:\")\n",
    "for jp in l_jeux_populaires_200:\n",
    "  print(\"\\t\\t\",jp[:10])"
   ]
  },
  {
   "cell_type": "markdown",
   "id": "ed5d530a",
   "metadata": {},
   "source": [
    "Cas où les utilisateurs ont noté plus de 10 jeux.\n",
    "- Nombre d'utilisateurs dans l'ensemble de la base: **2849**\n",
    "- Nombre d'utilisateurs dans l'ensemble d'apprentissage en moyenne: **2842.8**</br>\n",
    "- Nombre d'utilisateurs dans l'ensemble de test en moyenne: **2385.2**\n",
    "\n",
    "Cas où les utilisateurs ont noté plus de 50 jeux.\n",
    "- Nombre d'utilisateurs dans l'ensemble de la base: **734**\n",
    "- Nombre d'utilisateurs dans l'ensemble d'apprentissage en moyenne: **734.0**</br>\n",
    "- Nombre d'utilisateurs dans l'ensemble de test en moyenne: **734.0**\n",
    "\n",
    "Cas où les utilisateurs ont noté plus de 100 jeux.\n",
    "- Nombre d'utilisateurs dans l'ensemble de la base: **359**\n",
    "- Nombre d'utilisateurs dans l'ensemble d'apprentissage en moyenne: **359.0**</br>\n",
    "- Nombre d'utilisateurs dans l'ensemble de test en moyenne: **358.0**\n",
    "\n",
    "Cas où les utilisateurs ont noté plus de 200 jeux.\n",
    "- Nombre d'utilisateurs dans l'ensemble de la base: **128**\n",
    "- Nombre d'utilisateurs dans l'ensemble d'apprentissage en moyenne: **128.0**</br>\n",
    "- Nombre d'utilisateurs dans l'ensemble de test en moyenne: **128.0**\n",
    "\n",
    "\n",
    "\n",
    "`Consernant les jeux les plus populaires la liste change considérablement`"
   ]
  },
  {
   "cell_type": "markdown",
   "id": "5847740e",
   "metadata": {},
   "source": [
    "## Mean Reciprocal Rank \n",
    "\n",
    "$$ MRR = \\frac{1}{|Q|}\\sum^{|Q|}_{i=1}\\frac{1}{\\text{rank}_i} $$"
   ]
  },
  {
   "cell_type": "code",
   "execution_count": 38,
   "id": "16d09017",
   "metadata": {},
   "outputs": [],
   "source": [
    "def rr(list_items):\n",
    "    relevant_indexes = np.asarray(list_items).nonzero()[0]\n",
    "    \n",
    "    if len(relevant_indexes) > 0:\n",
    "        \n",
    "        #NOTE:\n",
    "        # relevant_indexes[0] <= Contains the index of the 1st relevant item ([0,0,1] => 2)\n",
    "        \n",
    "        return 1 / (relevant_indexes[0] + 1)\n",
    "    else:\n",
    "        return 0\n",
    "\n",
    "def mrr(list_list_items):\n",
    "    rr_list = [rr(list_items) for list_items in list_list_items]\n",
    "    return np.mean(rr_list)"
   ]
  },
  {
   "cell_type": "markdown",
   "id": "2906636b",
   "metadata": {},
   "source": [
    "## Discounted Cumulative Gain\n",
    "\n",
    "$$DCG_p = \\sum^p_{i=1}\\frac{rel_i}{\\log_2{(i+1)}} = rel_1 + \\sum^p_{i=2}\\frac{rel_i}{\\log_2{(i+1)}}$$"
   ]
  },
  {
   "cell_type": "code",
   "execution_count": 39,
   "id": "3285a384",
   "metadata": {},
   "outputs": [],
   "source": [
    "def dcg_at_k(r, k):\n",
    "    \"\"\"Score is discounted cumulative gain (dcg)\n",
    "        r: Relevance scores (list or numpy) in rank order\n",
    "            (first element is the first item)\n",
    "        k: Number of results to consider\n",
    "        \n",
    "    \"\"\"\n",
    "    r = np.asfarray(r)[:k]\n",
    "    if r.size:\n",
    "        return r[0] +  np.sum(r[1:] / np.log2(np.arange(3, r.size + 2)))\n",
    "        \n",
    "    return 0."
   ]
  },
  {
   "cell_type": "markdown",
   "id": "c46ed145",
   "metadata": {},
   "source": [
    "$$ nDCG_p = \\frac{DCG_p}{IDCG_p} $$\n",
    "\n",
    "\n",
    "$$ IDCG_p = max(DCG_p) $$"
   ]
  },
  {
   "cell_type": "code",
   "execution_count": 40,
   "id": "13c91a6d",
   "metadata": {},
   "outputs": [],
   "source": [
    "def ndcg_at_k(r, k):\n",
    "    \"\"\"\n",
    "        r: Relevance scores (list or numpy) in rank order\n",
    "            (first element is the first item)\n",
    "        k: Number of results to consider\n",
    "    \"\"\"\n",
    "    dcg_max =  np.max(dcg_at_k(sorted(r)[::-1], k))\n",
    "    if not dcg_max:\n",
    "        return 0.\n",
    "    return dcg_at_k(r, k)/dcg_max"
   ]
  },
  {
   "cell_type": "markdown",
   "id": "4d0ea7cf",
   "metadata": {},
   "source": [
    "- `already_seen`: les jeux que l'utilisateur a déjà noté. Pour ne pas les recommender encore.\n",
    "- `ground_truth`: Les jeux que l'utilisateur est suseptible d'aimer (note >= 10). C'est notre ground truth l'évaluer nos predictions."
   ]
  },
  {
   "cell_type": "code",
   "execution_count": 41,
   "id": "cdac2ab2",
   "metadata": {},
   "outputs": [],
   "source": [
    "already_seen_10 = []\n",
    "already_seen_50 = []\n",
    "already_seen_100 = []\n",
    "already_seen_200 = []\n",
    "\n",
    "\n",
    "ground_truth_10 = []\n",
    "ground_truth_50 = []\n",
    "ground_truth_100 = []\n",
    "ground_truth_200 = []\n",
    "\n",
    "ground_truth_n7_10 = []\n",
    "ground_truth_n7_50 = []\n",
    "ground_truth_n7_100 = []\n",
    "ground_truth_n7_200 = []\n",
    "\n",
    "\n",
    "for ip in range(n_splits):\n",
    "    # Pour le cas des utilisateurs qui ont noté au moins 10 jeux\n",
    "    X_train_10,X_test_10,je = splits_10[ip]\n",
    "    already_seen = (\n",
    "        X_train_10\n",
    "        .groupby(\"author\")[\"title\"]\n",
    "        .apply(list)\n",
    "        .to_dict()\n",
    "        )\n",
    "\n",
    "    ground_truth = (\n",
    "        X_test_10[X_test_10.note >= 10] \n",
    "        .groupby(\"author\")[\"title\"]\n",
    "        .apply(list)\n",
    "        .to_dict()\n",
    "        )\n",
    "\n",
    "    ground_truth_n7 = (\n",
    "        X_test_10[X_test_10.note >= 7] \n",
    "        .groupby(\"author\")[\"title\"]\n",
    "        .apply(list)\n",
    "        .to_dict()\n",
    "        )\n",
    "    \n",
    "    already_seen_10.append(already_seen)\n",
    "    ground_truth_10.append(ground_truth)\n",
    "    ground_truth_n7_10.append(ground_truth_n7)\n",
    "    \n",
    "    # Pour le cas des utilisateurs qui ont noté au moins 50 jeux\n",
    "    X_train_50,X_test_50,je = splits_50[ip]\n",
    "    already_seen = (\n",
    "        X_train_50\n",
    "        .groupby(\"author\")[\"title\"]\n",
    "        .apply(list)\n",
    "        .to_dict()\n",
    "        )\n",
    "\n",
    "    ground_truth = (\n",
    "        X_test_50[X_test_50.note >= 10] \n",
    "        .groupby(\"author\")[\"title\"]\n",
    "        .apply(list)\n",
    "        .to_dict()\n",
    "        )\n",
    "\n",
    "    ground_truth_n7 = (\n",
    "        X_test_50[X_test_50.note >= 7] \n",
    "        .groupby(\"author\")[\"title\"]\n",
    "        .apply(list)\n",
    "        .to_dict()\n",
    "        )\n",
    "    \n",
    "    already_seen_50.append(already_seen)\n",
    "    ground_truth_50.append(ground_truth)\n",
    "    ground_truth_n7_50.append(ground_truth_n7)\n",
    "    \n",
    "    \n",
    "    \n",
    "    # Pour le cas des utilisateurs qui ont noté au moins 100 jeux\n",
    "    X_train_100,X_test_100,je = splits_100[ip]\n",
    "    already_seen = (\n",
    "        X_train_100\n",
    "        .groupby(\"author\")[\"title\"]\n",
    "        .apply(list)\n",
    "        .to_dict()\n",
    "        )\n",
    "\n",
    "    ground_truth = (\n",
    "        X_test_100[X_test_100.note >= 10] \n",
    "        .groupby(\"author\")[\"title\"]\n",
    "        .apply(list)\n",
    "        .to_dict()\n",
    "        )\n",
    "\n",
    "    ground_truth_n7 = (\n",
    "        X_test_100[X_test_100.note >= 7] \n",
    "        .groupby(\"author\")[\"title\"]\n",
    "        .apply(list)\n",
    "        .to_dict()\n",
    "        )\n",
    "    \n",
    "    already_seen_100.append(already_seen)\n",
    "    ground_truth_100.append(ground_truth)\n",
    "    ground_truth_n7_100.append(ground_truth_n7)\n",
    "    \n",
    "    \n",
    "    \n",
    "    # Pour le cas des utilisateurs qui ont noté au moins 200 jeux\n",
    "    X_train_200,X_test_200,je = splits_200[ip]\n",
    "    already_seen = (\n",
    "        X_train_200\n",
    "        .groupby(\"author\")[\"title\"]\n",
    "        .apply(list)\n",
    "        .to_dict()\n",
    "        )\n",
    "\n",
    "    ground_truth = (\n",
    "        X_test_200[X_test_200.note >= 10] \n",
    "        .groupby(\"author\")[\"title\"]\n",
    "        .apply(list)\n",
    "        .to_dict()\n",
    "        )\n",
    "\n",
    "    ground_truth_n7 = (\n",
    "        X_test_200[X_test_200.note >= 7] \n",
    "        .groupby(\"author\")[\"title\"]\n",
    "        .apply(list)\n",
    "        .to_dict()\n",
    "        )\n",
    "    \n",
    "    already_seen_200.append(already_seen)\n",
    "    ground_truth_200.append(ground_truth)\n",
    "    ground_truth_n7_200.append(ground_truth_n7)\n",
    "    \n",
    "    \n",
    "    \n",
    "   "
   ]
  },
  {
   "cell_type": "markdown",
   "id": "c047619c",
   "metadata": {},
   "source": [
    "#  Surprise SVD recommender"
   ]
  },
  {
   "cell_type": "code",
   "execution_count": 42,
   "id": "b014d7cd",
   "metadata": {},
   "outputs": [
    {
     "data": {
      "text/plain": [
       "[<surprise.prediction_algorithms.matrix_factorization.SVD at 0x1407dc9d0>,\n",
       " <surprise.prediction_algorithms.matrix_factorization.SVD at 0x143a7f700>,\n",
       " <surprise.prediction_algorithms.matrix_factorization.SVD at 0x143a7f910>,\n",
       " <surprise.prediction_algorithms.matrix_factorization.SVD at 0x143a7f940>,\n",
       " <surprise.prediction_algorithms.matrix_factorization.SVD at 0x143a980d0>]"
      ]
     },
     "execution_count": 42,
     "metadata": {},
     "output_type": "execute_result"
    }
   ],
   "source": [
    "from surprise import Dataset\n",
    "\n",
    "datas_10 = [Dataset.load_from_df(X_train[['author', 'title', 'note']], Reader(rating_scale=(1, 10))) for X_train,X_test,je in splits_10]\n",
    "models_10 = [SVD() for i in range(len(splits_10))]\n",
    "[model.fit(data.build_full_trainset()) for model,data in zip(models_10,datas_10)]\n",
    "\n",
    "datas_50 = [Dataset.load_from_df(X_train[['author', 'title', 'note']], Reader(rating_scale=(1, 10))) for X_train,X_test,je in splits_50]\n",
    "models_50 = [SVD() for i in range(len(splits_50))]\n",
    "[model.fit(data.build_full_trainset()) for model,data in zip(models_50,datas_50)]\n",
    "\n",
    "datas_100 = [Dataset.load_from_df(X_train[['author', 'title', 'note']], Reader(rating_scale=(1, 10))) for X_train,X_test,je in splits_100]\n",
    "models_100 = [SVD() for i in range(len(splits_100))]\n",
    "[model.fit(data.build_full_trainset()) for model,data in zip(models_100,datas_100)]\n",
    "\n",
    "\n",
    "datas_200 = [Dataset.load_from_df(X_train[['author', 'title', 'note']], Reader(rating_scale=(1, 10))) for X_train,X_test,je in splits_200]\n",
    "models_200 = [SVD() for i in range(len(splits_200))]\n",
    "[model.fit(data.build_full_trainset()) for model,data in zip(models_200,datas_200)]\n",
    "\n"
   ]
  },
  {
   "cell_type": "code",
   "execution_count": 43,
   "id": "652f5723",
   "metadata": {},
   "outputs": [],
   "source": [
    "model_et = None\n",
    "def svd_rating_pred(user_item):\n",
    "    user = user_item[\"author\"]\n",
    "    item = user_item[\"title\"]\n",
    "    \n",
    "    prediction = model_et.predict(user,item)\n",
    "    \n",
    "    return prediction.est\n",
    "\n",
    "for ip in range(n_splits):\n",
    "    X_train,X_test,je = splits_10[ip]\n",
    "    model_et = models_10[ip]\n",
    "    X_test[\"svd_prediction\"] = X_test[[\"author\",\"title\"]].apply(svd_rating_pred,axis=1) \n",
    "    \n",
    "\n",
    "for ip in range(n_splits):\n",
    "    X_train,X_test,je = splits_50[ip]\n",
    "    model_et = models_50[ip]\n",
    "    X_test[\"svd_prediction\"] = X_test[[\"author\",\"title\"]].apply(svd_rating_pred,axis=1) \n",
    "\n",
    "for ip in range(n_splits):\n",
    "    X_train,X_test,je = splits_100[ip]\n",
    "    model_et = models_100[ip]\n",
    "    X_test[\"svd_prediction\"] = X_test[[\"author\",\"title\"]].apply(svd_rating_pred,axis=1) \n",
    "\n",
    "for ip in range(n_splits):\n",
    "    X_train,X_test,je = splits_200[ip]\n",
    "    model_et = models_200[ip]\n",
    "    X_test[\"svd_prediction\"] = X_test[[\"author\",\"title\"]].apply(svd_rating_pred,axis=1) \n"
   ]
  },
  {
   "cell_type": "code",
   "execution_count": 44,
   "id": "2f61bc40",
   "metadata": {},
   "outputs": [
    {
     "name": "stdout",
     "output_type": "stream",
     "text": [
      "Avec les utilisateurs ayant noté au moins 10 jeux\n",
      "  MSE:\n",
      "    moy 3.609522518992997\n",
      "    std 0.02525689971574968\n",
      "    [3.6473035592517755, 3.5743525982343756, 3.5900955151619143, 3.6161375408750063, 3.619723381441911]\n",
      "  MAE:\n",
      "    moy 1.4633909198978023\n",
      "    std 0.006253627067319426\n",
      "    [1.474355999663996, 1.4576918698149413, 1.4570968788827832, 1.4650633200154233, 1.4627465311118681]\n",
      "Avec les utilisateurs ayant noté au moins 50 jeux\n",
      "  MSE:\n",
      "    moy 3.592101332775209\n",
      "    std 0.03609183139827148\n",
      "    [3.65102205002463, 3.5579875338890967, 3.5527952403476077, 3.5886828050119144, 3.6100190346027983]\n",
      "  MAE:\n",
      "    moy 1.469245559568356\n",
      "    std 0.004364269538539108\n",
      "    [1.4710724785549734, 1.4651609998576471, 1.464830355500225, 1.4684920231482137, 1.4766719407807212]\n",
      "Avec les utilisateurs ayant noté au moins 100 jeux\n",
      "  MSE:\n",
      "    moy 3.5907102036665215\n",
      "    std 0.0448678880079326\n",
      "    [3.6013806736122396, 3.541470522590856, 3.6663869683576498, 3.5957336804410196, 3.548579173330843]\n",
      "  MAE:\n",
      "    moy 1.474648990579784\n",
      "    std 0.009082068484087755\n",
      "    [1.4761670289514002, 1.4633203180021634, 1.4897465869961626, 1.476469990106252, 1.467541028842941]\n",
      "Avec les utilisateurs ayant noté au moins 200 jeux\n",
      "  MSE:\n",
      "    moy 3.6123540993848073\n",
      "    std 0.057196937430213576\n",
      "    [3.70971320829208, 3.548194416531507, 3.6368818666728457, 3.599212485289409, 3.5677685201381935]\n",
      "  MAE:\n",
      "    moy 1.4882738398615136\n",
      "    std 0.012384055931653357\n",
      "    [1.5101138889880488, 1.4724969287157315, 1.4904708651506744, 1.48513961632292, 1.4831479001301928]\n"
     ]
    }
   ],
   "source": [
    "mses_10,maes_10 = [],[]\n",
    "mses_50,maes_50 = [],[]\n",
    "mses_100,maes_100 = [],[]\n",
    "mses_200,maes_200 = [],[]\n",
    "\n",
    "\n",
    "for ip in range(n_splits):\n",
    "  X_train,X_test,je = splits_10[ip]\n",
    "  mse = ((X_test[\"note\"] - X_test[\"svd_prediction\"])**2).mean()\n",
    "  mae = ((X_test[\"note\"] - X_test[\"svd_prediction\"]).abs()).mean()\n",
    "  mses_10.append(mse)\n",
    "  maes_10.append(mae)\n",
    "\n",
    "  X_train,X_test,je = splits_50[ip]\n",
    "  mse = ((X_test[\"note\"] - X_test[\"svd_prediction\"])**2).mean()\n",
    "  mae = ((X_test[\"note\"] - X_test[\"svd_prediction\"]).abs()).mean()\n",
    "  mses_50.append(mse)\n",
    "  maes_50.append(mae)\n",
    "  \n",
    "  X_train,X_test,je = splits_100[ip]\n",
    "  mse = ((X_test[\"note\"] - X_test[\"svd_prediction\"])**2).mean()\n",
    "  mae = ((X_test[\"note\"] - X_test[\"svd_prediction\"]).abs()).mean()\n",
    "  mses_100.append(mse)\n",
    "  maes_100.append(mae)\n",
    "  \n",
    "  X_train,X_test,je = splits_200[ip]\n",
    "  mse = ((X_test[\"note\"] - X_test[\"svd_prediction\"])**2).mean()\n",
    "  mae = ((X_test[\"note\"] - X_test[\"svd_prediction\"]).abs()).mean()\n",
    "  mses_200.append(mse)\n",
    "  maes_200.append(mae)\n",
    "  \n",
    "  \n",
    "\n",
    "print(\"Avec les utilisateurs ayant noté au moins 10 jeux\")\n",
    "print(f\"  MSE:\\n    moy {np.mean(mses_10)}\\n    std {np.std(mses_10)}\\n    {mses_10}\")\n",
    "print(f\"  MAE:\\n    moy {np.mean(maes_10)}\\n    std {np.std(maes_10)}\\n    {maes_10}\")\n",
    "print(\"Avec les utilisateurs ayant noté au moins 50 jeux\")\n",
    "print(f\"  MSE:\\n    moy {np.mean(mses_50)}\\n    std {np.std(mses_50)}\\n    {mses_50}\")\n",
    "print(f\"  MAE:\\n    moy {np.mean(maes_50)}\\n    std {np.std(maes_50)}\\n    {maes_50}\")\n",
    "print(\"Avec les utilisateurs ayant noté au moins 100 jeux\")\n",
    "print(f\"  MSE:\\n    moy {np.mean(mses_100)}\\n    std {np.std(mses_100)}\\n    {mses_100}\")\n",
    "print(f\"  MAE:\\n    moy {np.mean(maes_100)}\\n    std {np.std(maes_100)}\\n    {maes_100}\")\n",
    "print(\"Avec les utilisateurs ayant noté au moins 200 jeux\")\n",
    "print(f\"  MSE:\\n    moy {np.mean(mses_200)}\\n    std {np.std(mses_200)}\\n    {mses_200}\")\n",
    "print(f\"  MAE:\\n    moy {np.mean(maes_200)}\\n    std {np.std(maes_200)}\\n    {maes_200}\")\n"
   ]
  },
  {
   "cell_type": "code",
   "execution_count": 45,
   "id": "e89f4050",
   "metadata": {},
   "outputs": [],
   "source": [
    "def model_rating_pred(model,user,item):\n",
    "    prediction = model.predict(user,item)\n",
    "    return prediction.est"
   ]
  },
  {
   "cell_type": "markdown",
   "id": "a872d587",
   "metadata": {},
   "source": [
    "###  the relevance list for our MRR function"
   ]
  },
  {
   "cell_type": "code",
   "execution_count": 46,
   "id": "39e8380c",
   "metadata": {},
   "outputs": [],
   "source": [
    "svd_mrrs_10 = []\n",
    "\n",
    "for ip in range(n_splits):\n",
    "    already_seen = already_seen_10[ip]\n",
    "    ground_truth = ground_truth_10[ip]\n",
    "    jeux_existants = splits_10[ip][2][0]\n",
    "    model = models_10[ip]\n",
    "    \n",
    "    list_of_rel = []\n",
    "    for user,will_see in ground_truth.items():\n",
    "        rel_list = []\n",
    "        will_see = set(will_see)\n",
    "        # user pas present dans X_train\n",
    "        if user not in already_seen:\n",
    "            continue\n",
    "        has_seen = set(already_seen[user])\n",
    "        can_see = [(mid,model_rating_pred(model,user,mid)) for mid in jeux_existants - has_seen]\n",
    "        \n",
    "        \n",
    "        for movie,score in reversed(sorted(can_see,key=lambda x:x[1])):\n",
    "            if movie in will_see:\n",
    "                rel_list.append(1)\n",
    "                break\n",
    "            else:\n",
    "                rel_list.append(0)        \n",
    "        rel_list[-1] = 1 # when no relevant item exist\n",
    "        list_of_rel.append(rel_list)\n",
    "    svd_mrr = mrr(list_of_rel)\n",
    "    svd_mrrs_10.append(svd_mrr)"
   ]
  },
  {
   "cell_type": "code",
   "execution_count": 47,
   "id": "be88f173",
   "metadata": {},
   "outputs": [],
   "source": [
    "svd_mrrs_50 = []\n",
    "\n",
    "for ip in range(n_splits):\n",
    "    already_seen = already_seen_50[ip]\n",
    "    ground_truth = ground_truth_50[ip]\n",
    "    jeux_existants = splits_50[ip][2][0]\n",
    "    model = models_50[ip]\n",
    "    \n",
    "    list_of_rel = []\n",
    "    for user,will_see in ground_truth.items():\n",
    "        rel_list = []\n",
    "        will_see = set(will_see)\n",
    "        # user pas present dans X_train\n",
    "        if user not in already_seen:\n",
    "            continue\n",
    "        has_seen = set(already_seen[user])\n",
    "        can_see = [(mid,model_rating_pred(model,user,mid)) for mid in jeux_existants - has_seen]\n",
    "        \n",
    "        \n",
    "        for movie,score in reversed(sorted(can_see,key=lambda x:x[1])):\n",
    "            if movie in will_see:\n",
    "                rel_list.append(1)\n",
    "                break\n",
    "            else:\n",
    "                rel_list.append(0)        \n",
    "        rel_list[-1] = 1 # when no relevant item exist\n",
    "        list_of_rel.append(rel_list)\n",
    "    svd_mrr = mrr(list_of_rel)\n",
    "    svd_mrrs_50.append(svd_mrr)"
   ]
  },
  {
   "cell_type": "code",
   "execution_count": 48,
   "id": "23c110e5",
   "metadata": {},
   "outputs": [],
   "source": [
    "svd_mrrs_100 = []\n",
    "\n",
    "for ip in range(n_splits):\n",
    "    already_seen = already_seen_100[ip]\n",
    "    ground_truth = ground_truth_100[ip]\n",
    "    jeux_existants = splits_100[ip][2][0]\n",
    "    model = models_100[ip]\n",
    "    \n",
    "    list_of_rel = []\n",
    "    for user,will_see in ground_truth.items():\n",
    "        rel_list = []\n",
    "        will_see = set(will_see)\n",
    "        # user pas present dans X_train\n",
    "        if user not in already_seen:\n",
    "            continue\n",
    "        has_seen = set(already_seen[user])\n",
    "        can_see = [(mid,model_rating_pred(model,user,mid)) for mid in jeux_existants - has_seen]\n",
    "        \n",
    "        \n",
    "        for movie,score in reversed(sorted(can_see,key=lambda x:x[1])):\n",
    "            if movie in will_see:\n",
    "                rel_list.append(1)\n",
    "                break\n",
    "            else:\n",
    "                rel_list.append(0)        \n",
    "        rel_list[-1] = 1 # when no relevant item exist\n",
    "        list_of_rel.append(rel_list)\n",
    "    svd_mrr = mrr(list_of_rel)\n",
    "    svd_mrrs_100.append(svd_mrr)"
   ]
  },
  {
   "cell_type": "code",
   "execution_count": 49,
   "id": "7e42b263",
   "metadata": {},
   "outputs": [],
   "source": [
    "svd_mrrs_200 = []\n",
    "\n",
    "for ip in range(n_splits):\n",
    "    already_seen = already_seen_200[ip]\n",
    "    ground_truth = ground_truth_200[ip]\n",
    "    jeux_existants = splits_200[ip][2][0]\n",
    "    model = models_200[ip]\n",
    "    \n",
    "    list_of_rel = []\n",
    "    for user,will_see in ground_truth.items():\n",
    "        rel_list = []\n",
    "        will_see = set(will_see)\n",
    "        # user pas present dans X_train\n",
    "        if user not in already_seen:\n",
    "            continue\n",
    "        has_seen = set(already_seen[user])\n",
    "        can_see = [(mid,model_rating_pred(model,user,mid)) for mid in jeux_existants - has_seen]\n",
    "        \n",
    "        \n",
    "        for movie,score in reversed(sorted(can_see,key=lambda x:x[1])):\n",
    "            if movie in will_see:\n",
    "                rel_list.append(1)\n",
    "                break\n",
    "            else:\n",
    "                rel_list.append(0)        \n",
    "        rel_list[-1] = 1 # when no relevant item exist\n",
    "        list_of_rel.append(rel_list)\n",
    "    svd_mrr = mrr(list_of_rel)\n",
    "    svd_mrrs_200.append(svd_mrr)"
   ]
  },
  {
   "cell_type": "code",
   "execution_count": 50,
   "id": "49d0b925",
   "metadata": {},
   "outputs": [
    {
     "name": "stdout",
     "output_type": "stream",
     "text": [
      "Avec les utilisateurs ayant noté au moins 10 jeux\n",
      "  moy 33.6\n",
      "  std 2.4979991993593593 sur 9679.6\n",
      "  [35, 29, 33, 35, 36]\n",
      "Avec les utilisateurs ayant noté au moins 50 jeux\n",
      "  moy 15.8\n",
      "  std 0.7483314773547882 sur 8887.4\n",
      "  [15, 16, 17, 15, 16]\n",
      "Avec les utilisateurs ayant noté au moins 100 jeux\n",
      "  moy 10.0\n",
      "  std 1.0954451150103321 sur 8261.0\n",
      "  [9, 9, 12, 10, 10]\n",
      "Avec les utilisateurs ayant noté au moins 200 jeux\n",
      "  moy 6.8\n",
      "  std 0.7483314773547882 sur 7230.8\n",
      "  [6, 7, 6, 7, 8]\n"
     ]
    }
   ],
   "source": [
    "rels_10,rels_50, rels_100,rels_200 = [],[],[],[]\n",
    "jeux_existants_10  = [len(je) for X_train,X_test,(je,jp) in splits_10]\n",
    "jeux_existants_50 = [len(je) for X_train,X_test,(je,jp) in splits_50]\n",
    "jeux_existants_100 = [len(je) for X_train,X_test,(je,jp) in splits_100]\n",
    "jeux_existants_200 = [len(je) for X_train,X_test,(je,jp) in splits_200]\n",
    "\n",
    "\n",
    "for i in range(len(svd_mrrs_10)):\n",
    "  svd_mrr = svd_mrrs_10[i]\n",
    "  rels_10.append(int(round(1/svd_mrr,0)))\n",
    "    \n",
    "  svd_mrr = svd_mrrs_50[i]\n",
    "  rels_50.append(int(round(1/svd_mrr,0)))\n",
    "  \n",
    "  svd_mrr = svd_mrrs_100[i]\n",
    "  rels_100.append(int(round(1/svd_mrr,0)))\n",
    "  \n",
    "  svd_mrr = svd_mrrs_200[i]\n",
    "  rels_200.append(int(round(1/svd_mrr,0)))\n",
    "  \n",
    "  \n",
    "\n",
    "# f\"On average, the {int(round(1/svd_mrr,0))}th proposed item is relevant (on {len(existing_items)})\"\n",
    "print(\"Avec les utilisateurs ayant noté au moins 10 jeux\")\n",
    "print(f\"  moy {np.mean(rels_10)}\\n  std {np.std(rels_10)} sur {np.mean(jeux_existants_10)}\\n  {rels_10}\")\n",
    "print(\"Avec les utilisateurs ayant noté au moins 50 jeux\")\n",
    "print(f\"  moy {np.mean(rels_50)}\\n  std {np.std(rels_50)} sur {np.mean(jeux_existants_50)}\\n  {rels_50}\")\n",
    "print(\"Avec les utilisateurs ayant noté au moins 100 jeux\")\n",
    "print(f\"  moy {np.mean(rels_100)}\\n  std {np.std(rels_100)} sur {np.mean(jeux_existants_100)}\\n  {rels_100}\")\n",
    "print(\"Avec les utilisateurs ayant noté au moins 200 jeux\")\n",
    "print(f\"  moy {np.mean(rels_200)}\\n  std {np.std(rels_200)} sur {np.mean(jeux_existants_200)}\\n  {rels_200}\")\n"
   ]
  },
  {
   "cell_type": "markdown",
   "id": "7353c1e2",
   "metadata": {},
   "source": [
    "- En éliminant les utilisateurs ayant noter moins de **10** jeux nous avons une mrr de **34.8** sur **9679.6**.\n",
    "\n",
    "- En éliminant les utilisateurs ayant noter moins de **50** jeux nous avons une mrr de **16.6** sur **8887.4**. </br>\n",
    "\n",
    "- En éliminant les utilisateurs ayant noter moins de **100** jeux nous avons une mrr de **10.6** sur **8261**. </br>\n",
    "\n",
    "- En éliminant les utilisateurs ayant noter moins de **200** jeux nous avons une mrr de **7.2** sur **7230.8**. </br>\n",
    "\n",
    "\n"
   ]
  },
  {
   "cell_type": "markdown",
   "id": "5e073ace",
   "metadata": {},
   "source": [
    "###  the relevance list for our MRR function avec note>=7"
   ]
  },
  {
   "cell_type": "code",
   "execution_count": 51,
   "id": "b6247e9a",
   "metadata": {},
   "outputs": [],
   "source": [
    "svd_mrrs_n7_10 = []\n",
    "\n",
    "for ip in range(n_splits):\n",
    "    already_seen = already_seen_10[ip]\n",
    "    ground_truth = ground_truth_n7_10[ip]\n",
    "    jeux_existants = splits_10[ip][2][0]\n",
    "    model = models_10[ip]\n",
    "    \n",
    "    list_of_rel = []\n",
    "    for user,will_see in ground_truth.items():\n",
    "        rel_list = []\n",
    "        will_see = set(will_see)\n",
    "        # user pas present dans X_train\n",
    "        if user not in already_seen:\n",
    "            continue\n",
    "        has_seen = set(already_seen[user])\n",
    "        can_see = [(mid,model_rating_pred(model,user,mid)) for mid in jeux_existants - has_seen]\n",
    "        \n",
    "        \n",
    "        for movie,score in reversed(sorted(can_see,key=lambda x:x[1])):\n",
    "            if movie in will_see:\n",
    "                rel_list.append(1)\n",
    "                break\n",
    "            else:\n",
    "                rel_list.append(0)        \n",
    "        rel_list[-1] = 1 # when no relevant item exist\n",
    "        list_of_rel.append(rel_list)\n",
    "    svd_mrr = mrr(list_of_rel)\n",
    "    svd_mrrs_n7_10.append(svd_mrr)"
   ]
  },
  {
   "cell_type": "code",
   "execution_count": 52,
   "id": "a87567d8",
   "metadata": {},
   "outputs": [],
   "source": [
    "svd_mrrs_n7_50 = []\n",
    "\n",
    "for ip in range(n_splits):\n",
    "    already_seen = already_seen_50[ip]\n",
    "    ground_truth = ground_truth_n7_50[ip]\n",
    "    jeux_existants = splits_50[ip][2][0]\n",
    "    model = models_50[ip]\n",
    "    \n",
    "    list_of_rel = []\n",
    "    for user,will_see in ground_truth.items():\n",
    "        rel_list = []\n",
    "        will_see = set(will_see)\n",
    "        # user pas present dans X_train\n",
    "        if user not in already_seen:\n",
    "            continue\n",
    "        has_seen = set(already_seen[user])\n",
    "        can_see = [(mid,model_rating_pred(model,user,mid)) for mid in jeux_existants - has_seen]\n",
    "        \n",
    "        \n",
    "        for movie,score in reversed(sorted(can_see,key=lambda x:x[1])):\n",
    "            if movie in will_see:\n",
    "                rel_list.append(1)\n",
    "                break\n",
    "            else:\n",
    "                rel_list.append(0)        \n",
    "        rel_list[-1] = 1 # when no relevant item exist\n",
    "        list_of_rel.append(rel_list)\n",
    "    svd_mrr = mrr(list_of_rel)\n",
    "    svd_mrrs_n7_50.append(svd_mrr)"
   ]
  },
  {
   "cell_type": "code",
   "execution_count": 53,
   "id": "addd05e2",
   "metadata": {},
   "outputs": [],
   "source": [
    "svd_mrrs_n7_100 = []\n",
    "\n",
    "for ip in range(n_splits):\n",
    "    already_seen = already_seen_100[ip]\n",
    "    ground_truth = ground_truth_n7_100[ip]\n",
    "    jeux_existants = splits_100[ip][2][0]\n",
    "    model = models_100[ip]\n",
    "    \n",
    "    list_of_rel = []\n",
    "    for user,will_see in ground_truth.items():\n",
    "        rel_list = []\n",
    "        will_see = set(will_see)\n",
    "        # user pas present dans X_train\n",
    "        if user not in already_seen:\n",
    "            continue\n",
    "        has_seen = set(already_seen[user])\n",
    "        can_see = [(mid,model_rating_pred(model,user,mid)) for mid in jeux_existants - has_seen]\n",
    "        \n",
    "        \n",
    "        for movie,score in reversed(sorted(can_see,key=lambda x:x[1])):\n",
    "            if movie in will_see:\n",
    "                rel_list.append(1)\n",
    "                break\n",
    "            else:\n",
    "                rel_list.append(0)        \n",
    "        rel_list[-1] = 1 # when no relevant item exist\n",
    "        list_of_rel.append(rel_list)\n",
    "    svd_mrr = mrr(list_of_rel)\n",
    "    svd_mrrs_n7_100.append(svd_mrr)"
   ]
  },
  {
   "cell_type": "code",
   "execution_count": 54,
   "id": "84cf21ce",
   "metadata": {},
   "outputs": [],
   "source": [
    "svd_mrrs_n7_200 = []\n",
    "\n",
    "for ip in range(n_splits):\n",
    "    already_seen = already_seen_200[ip]\n",
    "    ground_truth = ground_truth_n7_200[ip]\n",
    "    jeux_existants = splits_200[ip][2][0]\n",
    "    model = models_200[ip]\n",
    "    \n",
    "    list_of_rel = []\n",
    "    for user,will_see in ground_truth.items():\n",
    "        rel_list = []\n",
    "        will_see = set(will_see)\n",
    "        # user pas present dans X_train\n",
    "        if user not in already_seen:\n",
    "            continue\n",
    "        has_seen = set(already_seen[user])\n",
    "        can_see = [(mid,model_rating_pred(model,user,mid)) for mid in jeux_existants - has_seen]\n",
    "        \n",
    "        \n",
    "        for movie,score in reversed(sorted(can_see,key=lambda x:x[1])):\n",
    "            if movie in will_see:\n",
    "                rel_list.append(1)\n",
    "                break\n",
    "            else:\n",
    "                rel_list.append(0)        \n",
    "        rel_list[-1] = 1 # when no relevant item exist\n",
    "        list_of_rel.append(rel_list)\n",
    "    svd_mrr = mrr(list_of_rel)\n",
    "    svd_mrrs_n7_200.append(svd_mrr)"
   ]
  },
  {
   "cell_type": "code",
   "execution_count": 55,
   "id": "81b82e8e",
   "metadata": {},
   "outputs": [
    {
     "name": "stdout",
     "output_type": "stream",
     "text": [
      "Avec les utilisateurs ayant noté au moins 10 jeux\n",
      "  moy 29.2\n",
      "  std 1.7204650534085253 sur 9679.6\n",
      "  [30, 29, 27, 28, 32]\n",
      "Avec les utilisateurs ayant noté au moins 50 jeux\n",
      "  moy 10.8\n",
      "  std 0.39999999999999997 sur 8887.4\n",
      "  [10, 11, 11, 11, 11]\n",
      "Avec les utilisateurs ayant noté au moins 100 jeux\n",
      "  moy 6.4\n",
      "  std 0.48989794855663565 sur 8261.0\n",
      "  [6, 6, 6, 7, 7]\n",
      "Avec les utilisateurs ayant noté au moins 200 jeux\n",
      "  moy 4.2\n",
      "  std 0.39999999999999997 sur 7230.8\n",
      "  [4, 4, 4, 5, 4]\n"
     ]
    }
   ],
   "source": [
    "rels_10, rels_50,rels_100,rels_200 = [],[],[],[]\n",
    "\n",
    "for i in range(len(svd_mrrs_n7_10)):\n",
    "  svd_mrr = svd_mrrs_n7_10[i]\n",
    "  rels_10.append(int(round(1/svd_mrr,0)))\n",
    "    \n",
    "  svd_mrr = svd_mrrs_n7_50[i]\n",
    "  rels_50.append(int(round(1/svd_mrr,0)))\n",
    "  \n",
    "  svd_mrr = svd_mrrs_n7_100[i]\n",
    "  rels_100.append(int(round(1/svd_mrr,0)))\n",
    "  \n",
    "  svd_mrr = svd_mrrs_n7_200[i]\n",
    "  rels_200.append(int(round(1/svd_mrr,0)))\n",
    "  \n",
    "  \n",
    "\n",
    "# f\"On average, the {int(round(1/svd_mrr,0))}th proposed item is relevant (on {len(existing_items)})\"\n",
    "print(\"Avec les utilisateurs ayant noté au moins 10 jeux\")\n",
    "print(f\"  moy {np.mean(rels_10)}\\n  std {np.std(rels_10)} sur {np.mean(jeux_existants_10)}\\n  {rels_10}\")\n",
    "print(\"Avec les utilisateurs ayant noté au moins 50 jeux\")\n",
    "print(f\"  moy {np.mean(rels_50)}\\n  std {np.std(rels_50)} sur {np.mean(jeux_existants_50)}\\n  {rels_50}\")\n",
    "print(\"Avec les utilisateurs ayant noté au moins 100 jeux\")\n",
    "print(f\"  moy {np.mean(rels_100)}\\n  std {np.std(rels_100)} sur {np.mean(jeux_existants_100)}\\n  {rels_100}\")\n",
    "print(\"Avec les utilisateurs ayant noté au moins 200 jeux\")\n",
    "print(f\"  moy {np.mean(rels_200)}\\n  std {np.std(rels_200)} sur {np.mean(jeux_existants_200)}\\n  {rels_200}\")\n"
   ]
  },
  {
   "cell_type": "markdown",
   "id": "0b25df31",
   "metadata": {},
   "source": [
    "En considérant que si un utilisateur met une note >= 7 il aime le film les performances de la recommendations sont nettement améliorées, pas beaucoup mais c'est quand même significatif.\n",
    "\n",
    "- En éliminant les utilisateurs ayant noter moins de **10** jeux nous avons une mrr de **30.0** sur **9679.6**.\n",
    "\n",
    "- En éliminant les utilisateurs ayant noter moins de **50** jeux nous avons une mrr de **10.8** sur **8887.4**. </br>\n",
    "\n",
    "- En éliminant les utilisateurs ayant noter moins de **100** jeux nous avons une mrr de **6.6** sur **8261**. </br>\n",
    "\n",
    "- En éliminant les utilisateurs ayant noter moins de **200** jeux nous avons une mrr de **4.4** sur **7230.8**. </br>\n",
    "\n"
   ]
  },
  {
   "cell_type": "markdown",
   "id": "64cd352a",
   "metadata": {},
   "source": [
    "# Implicit baseline: popular items"
   ]
  },
  {
   "cell_type": "markdown",
   "id": "d70d99be",
   "metadata": {},
   "source": [
    "### popular recommendation relevance list per user"
   ]
  },
  {
   "cell_type": "code",
   "execution_count": 56,
   "id": "5973913c",
   "metadata": {},
   "outputs": [],
   "source": [
    "list_of_rels_10 = []\n",
    "\n",
    "for ip in range(n_splits):\n",
    "    already_seen = already_seen_10[ip]\n",
    "    ground_truth = ground_truth_10[ip]\n",
    "    jeux_populaires = splits_10[ip][2][1]\n",
    "    model = models_10[ip]\n",
    "\n",
    "    list_of_rel = []\n",
    "    for user,will_see in ground_truth.items():\n",
    "        rel_list = []\n",
    "        will_see = set(will_see)\n",
    "        has_seen = set(already_seen[user])\n",
    "        \n",
    "        for movie in jeux_populaires:\n",
    "            if movie in has_seen:         # User has already seen movie -> Can filter prediction\n",
    "                continue\n",
    "            elif movie in will_see:       # User will see, spot on suggestion !         \n",
    "                rel_list.append(1) # To Complete\n",
    "                break\n",
    "            else:                         # No clue.\n",
    "                rel_list.append(0) # To Complete\n",
    "                \n",
    "        if rel_list[-1] == 1:             # when no relevant item exist, no need to take it into account.\n",
    "            list_of_rel.append(rel_list)\n",
    "    list_of_rels_10.append(list_of_rel)"
   ]
  },
  {
   "cell_type": "code",
   "execution_count": 57,
   "id": "aa56d00c",
   "metadata": {},
   "outputs": [],
   "source": [
    "list_of_rels_50 = []\n",
    "\n",
    "for ip in range(n_splits):\n",
    "    already_seen = already_seen_50[ip]\n",
    "    ground_truth = ground_truth_50[ip]\n",
    "    jeux_populaires = splits_50[ip][2][1]\n",
    "    model = models_50[ip]\n",
    "\n",
    "    list_of_rel = []\n",
    "    for user,will_see in ground_truth.items():\n",
    "        rel_list = []\n",
    "        will_see = set(will_see)\n",
    "        has_seen = set(already_seen[user])\n",
    "        \n",
    "        for movie in jeux_populaires:\n",
    "            if movie in has_seen:         # User has already seen movie -> Can filter prediction\n",
    "                continue\n",
    "            elif movie in will_see:       # User will see, spot on suggestion !         \n",
    "                rel_list.append(1) # To Complete\n",
    "                break\n",
    "            else:                         # No clue.\n",
    "                rel_list.append(0) # To Complete\n",
    "                \n",
    "        if rel_list[-1] == 1:             # when no relevant item exist, no need to take it into account.\n",
    "            list_of_rel.append(rel_list)\n",
    "    list_of_rels_50.append(list_of_rel)"
   ]
  },
  {
   "cell_type": "code",
   "execution_count": 58,
   "id": "5c890ed1",
   "metadata": {},
   "outputs": [],
   "source": [
    "list_of_rels_100 = []\n",
    "\n",
    "for ip in range(n_splits):\n",
    "    already_seen = already_seen_100[ip]\n",
    "    ground_truth = ground_truth_100[ip]\n",
    "    jeux_populaires = splits_100[ip][2][1]\n",
    "    model = models_100[ip]\n",
    "\n",
    "    list_of_rel = []\n",
    "    for user,will_see in ground_truth.items():\n",
    "        rel_list = []\n",
    "        will_see = set(will_see)\n",
    "        has_seen = set(already_seen[user])\n",
    "        \n",
    "        for movie in jeux_populaires:\n",
    "            if movie in has_seen:         # User has already seen movie -> Can filter prediction\n",
    "                continue\n",
    "            elif movie in will_see:       # User will see, spot on suggestion !         \n",
    "                rel_list.append(1) # To Complete\n",
    "                break\n",
    "            else:                         # No clue.\n",
    "                rel_list.append(0) # To Complete\n",
    "                \n",
    "        if rel_list[-1] == 1:             # when no relevant item exist, no need to take it into account.\n",
    "            list_of_rel.append(rel_list)\n",
    "    list_of_rels_100.append(list_of_rel)"
   ]
  },
  {
   "cell_type": "code",
   "execution_count": 59,
   "id": "b36bfe22",
   "metadata": {},
   "outputs": [],
   "source": [
    "list_of_rels_200 = []\n",
    "\n",
    "for ip in range(n_splits):\n",
    "    already_seen = already_seen_200[ip]\n",
    "    ground_truth = ground_truth_200[ip]\n",
    "    jeux_populaires = splits_200[ip][2][1]\n",
    "    model = models_200[ip]\n",
    "\n",
    "    list_of_rel = []\n",
    "    for user,will_see in ground_truth.items():\n",
    "        rel_list = []\n",
    "        will_see = set(will_see)\n",
    "        has_seen = set(already_seen[user])\n",
    "        \n",
    "        for movie in jeux_populaires:\n",
    "            if movie in has_seen:         # User has already seen movie -> Can filter prediction\n",
    "                continue\n",
    "            elif movie in will_see:       # User will see, spot on suggestion !         \n",
    "                rel_list.append(1) # To Complete\n",
    "                break\n",
    "            else:                         # No clue.\n",
    "                rel_list.append(0) # To Complete\n",
    "                \n",
    "        if rel_list[-1] == 1:             # when no relevant item exist, no need to take it into account.\n",
    "            list_of_rel.append(rel_list)\n",
    "    list_of_rels_200.append(list_of_rel)"
   ]
  },
  {
   "cell_type": "code",
   "execution_count": 60,
   "id": "ad05628f",
   "metadata": {},
   "outputs": [
    {
     "name": "stdout",
     "output_type": "stream",
     "text": [
      "Avec les utilisateurs ayant noté au moins 10 jeux\n",
      "  moy 51.6\n",
      "  std 4.127953488110059 sur 9679.6\n",
      "  [58, 49, 46, 51, 54]\n",
      "Avec les utilisateurs ayant noté au moins 50 jeux\n",
      "  moy 18.2\n",
      "  std 1.9390719429665315 sur 8887.4\n",
      "  [17, 20, 19, 20, 15]\n",
      "Avec les utilisateurs ayant noté au moins 100 jeux\n",
      "  moy 8.0\n",
      "  std 1.0954451150103321 sur 8261.0\n",
      "  [10, 7, 7, 8, 8]\n",
      "Avec les utilisateurs ayant noté au moins 200 jeux\n",
      "  moy 5.0\n",
      "  std 0.6324555320336759 sur 7230.8\n",
      "  [5, 5, 6, 5, 4]\n"
     ]
    }
   ],
   "source": [
    "pop_mrrs_10, pop_mrrs_50, pop_mrrs_100,pop_mrrs_200 = [],[],[],[]\n",
    "for i in range(len(list_of_rels_10)):\n",
    "  list_of_rel = list_of_rels_10[i]\n",
    "  pop_mrr = mrr(list_of_rel)\n",
    "  pop_mrrs_10.append(int(round(1/pop_mrr,0)))\n",
    "\n",
    "  list_of_rel = list_of_rels_50[i]\n",
    "  pop_mrr = mrr(list_of_rel)\n",
    "  pop_mrrs_50.append(int(round(1/pop_mrr,0)))\n",
    "  \n",
    "  list_of_rel = list_of_rels_100[i]\n",
    "  pop_mrr = mrr(list_of_rel)\n",
    "  pop_mrrs_100.append(int(round(1/pop_mrr,0)))\n",
    "\n",
    "  list_of_rel = list_of_rels_200[i]\n",
    "  pop_mrr = mrr(list_of_rel)\n",
    "  pop_mrrs_200.append(int(round(1/pop_mrr,0)))\n",
    "\n",
    "  \n",
    "\n",
    "# f\"On average, the {int(round(1/pop_mrr,0))}th proposed item is relevant (on {len(existing_items)})\"\n",
    "print(\"Avec les utilisateurs ayant noté au moins 10 jeux\")\n",
    "print(f\"  moy {np.mean(pop_mrrs_10)}\\n  std {np.std(pop_mrrs_10)} sur {np.mean(jeux_existants_10)}\\n  {pop_mrrs_10}\")\n",
    "print(\"Avec les utilisateurs ayant noté au moins 50 jeux\")\n",
    "print(f\"  moy {np.mean(pop_mrrs_50)}\\n  std {np.std(pop_mrrs_50)} sur {np.mean(jeux_existants_50)}\\n  {pop_mrrs_50}\")\n",
    "print(\"Avec les utilisateurs ayant noté au moins 100 jeux\")\n",
    "print(f\"  moy {np.mean(pop_mrrs_100)}\\n  std {np.std(pop_mrrs_100)} sur {np.mean(jeux_existants_100)}\\n  {pop_mrrs_100}\")\n",
    "print(\"Avec les utilisateurs ayant noté au moins 200 jeux\")\n",
    "print(f\"  moy {np.mean(pop_mrrs_200)}\\n  std {np.std(pop_mrrs_200)} sur {np.mean(jeux_existants_200)}\\n  {pop_mrrs_200}\")\n"
   ]
  },
  {
   "cell_type": "markdown",
   "id": "883448d4",
   "metadata": {},
   "source": [
    "- En éliminant les utilisateurs ayant noter moins de **10** jeux nous avons une mrr de **51.6** en moyenne sur **9679.6**.\n",
    "\n",
    "- En éliminant les utilisateurs ayant noter moins de **50** jeux nous avons une mrr de **18.2** en moyenne sur **8887.4**. </br>\n",
    "\n",
    "- En éliminant les utilisateurs ayant noter moins de **100** jeux nous avons une mrr de **8.0** en moyenne sur **8261.0**. </br>\n",
    "\n",
    "- En éliminant les utilisateurs ayant noter moins de **200** jeux nous avons une mrr de **5.0** en moyenne sur **7230.8**. </br>\n",
    "\n"
   ]
  },
  {
   "cell_type": "markdown",
   "id": "8274483c",
   "metadata": {},
   "source": [
    "### popular recommendation relevance list per user avec note>=7"
   ]
  },
  {
   "cell_type": "code",
   "execution_count": 61,
   "id": "e1ec259e",
   "metadata": {},
   "outputs": [],
   "source": [
    "list_of_rels_10 = []\n",
    "\n",
    "for ip in range(n_splits):\n",
    "    already_seen = already_seen_10[ip]\n",
    "    ground_truth = ground_truth_n7_10[ip]\n",
    "    jeux_populaires = splits_10[ip][2][1]\n",
    "    model = models_10[ip]\n",
    "\n",
    "    list_of_rel = []\n",
    "    for user,will_see in ground_truth.items():\n",
    "        rel_list = []\n",
    "        will_see = set(will_see)\n",
    "        has_seen = set(already_seen[user])\n",
    "        \n",
    "        for movie in jeux_populaires:\n",
    "            if movie in has_seen:         # User has already seen movie -> Can filter prediction\n",
    "                continue\n",
    "            elif movie in will_see:       # User will see, spot on suggestion !         \n",
    "                rel_list.append(1) # To Complete\n",
    "                break\n",
    "            else:                         # No clue.\n",
    "                rel_list.append(0) # To Complete\n",
    "                \n",
    "        if rel_list[-1] == 1:             # when no relevant item exist, no need to take it into account.\n",
    "            list_of_rel.append(rel_list)\n",
    "    list_of_rels_10.append(list_of_rel)"
   ]
  },
  {
   "cell_type": "code",
   "execution_count": 62,
   "id": "a96b3140",
   "metadata": {},
   "outputs": [],
   "source": [
    "list_of_rels_50 = []\n",
    "\n",
    "for ip in range(n_splits):\n",
    "    already_seen = already_seen_50[ip]\n",
    "    ground_truth = ground_truth_n7_50[ip]\n",
    "    jeux_populaires = splits_50[ip][2][1]\n",
    "    model = models_50[ip]\n",
    "\n",
    "    list_of_rel = []\n",
    "    for user,will_see in ground_truth.items():\n",
    "        rel_list = []\n",
    "        will_see = set(will_see)\n",
    "        has_seen = set(already_seen[user])\n",
    "        \n",
    "        for movie in jeux_populaires:\n",
    "            if movie in has_seen:         # User has already seen movie -> Can filter prediction\n",
    "                continue\n",
    "            elif movie in will_see:       # User will see, spot on suggestion !         \n",
    "                rel_list.append(1) # To Complete\n",
    "                break\n",
    "            else:                         # No clue.\n",
    "                rel_list.append(0) # To Complete\n",
    "                \n",
    "        if rel_list[-1] == 1:             # when no relevant item exist, no need to take it into account.\n",
    "            list_of_rel.append(rel_list)\n",
    "    list_of_rels_50.append(list_of_rel)"
   ]
  },
  {
   "cell_type": "code",
   "execution_count": 63,
   "id": "98c2b748",
   "metadata": {},
   "outputs": [],
   "source": [
    "list_of_rels_100 = []\n",
    "\n",
    "for ip in range(n_splits):\n",
    "    already_seen = already_seen_100[ip]\n",
    "    ground_truth = ground_truth_n7_100[ip]\n",
    "    jeux_populaires = splits_100[ip][2][1]\n",
    "    model = models_100[ip]\n",
    "\n",
    "    list_of_rel = []\n",
    "    for user,will_see in ground_truth.items():\n",
    "        rel_list = []\n",
    "        will_see = set(will_see)\n",
    "        has_seen = set(already_seen[user])\n",
    "        \n",
    "        for movie in jeux_populaires:\n",
    "            if movie in has_seen:         # User has already seen movie -> Can filter prediction\n",
    "                continue\n",
    "            elif movie in will_see:       # User will see, spot on suggestion !         \n",
    "                rel_list.append(1) # To Complete\n",
    "                break\n",
    "            else:                         # No clue.\n",
    "                rel_list.append(0) # To Complete\n",
    "                \n",
    "        if rel_list[-1] == 1:             # when no relevant item exist, no need to take it into account.\n",
    "            list_of_rel.append(rel_list)\n",
    "    list_of_rels_100.append(list_of_rel)"
   ]
  },
  {
   "cell_type": "code",
   "execution_count": 64,
   "id": "d57e9f42",
   "metadata": {},
   "outputs": [],
   "source": [
    "list_of_rels_200 = []\n",
    "\n",
    "for ip in range(n_splits):\n",
    "    already_seen = already_seen_200[ip]\n",
    "    ground_truth = ground_truth_n7_200[ip]\n",
    "    jeux_populaires = splits_200[ip][2][1]\n",
    "    model = models_200[ip]\n",
    "\n",
    "    list_of_rel = []\n",
    "    for user,will_see in ground_truth.items():\n",
    "        rel_list = []\n",
    "        will_see = set(will_see)\n",
    "        has_seen = set(already_seen[user])\n",
    "        \n",
    "        for movie in jeux_populaires:\n",
    "            if movie in has_seen:         # User has already seen movie -> Can filter prediction\n",
    "                continue\n",
    "            elif movie in will_see:       # User will see, spot on suggestion !         \n",
    "                rel_list.append(1) # To Complete\n",
    "                break\n",
    "            else:                         # No clue.\n",
    "                rel_list.append(0) # To Complete\n",
    "                \n",
    "        if rel_list[-1] == 1:             # when no relevant item exist, no need to take it into account.\n",
    "            list_of_rel.append(rel_list)\n",
    "    list_of_rels_200.append(list_of_rel)"
   ]
  },
  {
   "cell_type": "code",
   "execution_count": 65,
   "id": "709c3ceb",
   "metadata": {},
   "outputs": [
    {
     "name": "stdout",
     "output_type": "stream",
     "text": [
      "Avec les utilisateurs ayant noté au moins 10 jeux\n",
      "  moy 35.4\n",
      "  std 0.4898979485566356 sur 9679.6\n",
      "  [36, 36, 35, 35, 35]\n",
      "Avec les utilisateurs ayant noté au moins 50 jeux\n",
      "  moy 10.2\n",
      "  std 0.9797958971132712 sur 8887.4\n",
      "  [10, 10, 10, 12, 9]\n",
      "Avec les utilisateurs ayant noté au moins 100 jeux\n",
      "  moy 4.6\n",
      "  std 0.48989794855663565 sur 8261.0\n",
      "  [5, 4, 4, 5, 5]\n",
      "Avec les utilisateurs ayant noté au moins 200 jeux\n",
      "  moy 3.0\n",
      "  std 0.0 sur 7230.8\n",
      "  [3, 3, 3, 3, 3]\n"
     ]
    }
   ],
   "source": [
    "pop_mrrs_10, pop_mrrs_50, pop_mrrs_100,pop_mrrs_200 = [],[],[],[]\n",
    "for i in range(len(list_of_rels_10)):\n",
    "  list_of_rel = list_of_rels_10[i]\n",
    "  pop_mrr = mrr(list_of_rel)\n",
    "  pop_mrrs_10.append(int(round(1/pop_mrr,0)))\n",
    "\n",
    "\n",
    "  list_of_rel = list_of_rels_50[i]\n",
    "  pop_mrr = mrr(list_of_rel)\n",
    "  pop_mrrs_50.append(int(round(1/pop_mrr,0)))\n",
    "    \n",
    "  list_of_rel = list_of_rels_100[i]\n",
    "  pop_mrr = mrr(list_of_rel)\n",
    "  pop_mrrs_100.append(int(round(1/pop_mrr,0)))\n",
    "\n",
    "  list_of_rel = list_of_rels_200[i]\n",
    "  pop_mrr = mrr(list_of_rel)\n",
    "  pop_mrrs_200.append(int(round(1/pop_mrr,0)))\n",
    "\n",
    "\n",
    "# f\"On average, the {int(round(1/pop_mrr,0))}th proposed item is relevant (on {len(existing_items)})\"\n",
    "print(\"Avec les utilisateurs ayant noté au moins 10 jeux\")\n",
    "print(f\"  moy {np.mean(pop_mrrs_10)}\\n  std {np.std(pop_mrrs_10)} sur {np.mean(jeux_existants_10)}\\n  {pop_mrrs_10}\")\n",
    "print(\"Avec les utilisateurs ayant noté au moins 50 jeux\")\n",
    "print(f\"  moy {np.mean(pop_mrrs_50)}\\n  std {np.std(pop_mrrs_50)} sur {np.mean(jeux_existants_50)}\\n  {pop_mrrs_50}\")\n",
    "print(\"Avec les utilisateurs ayant noté au moins 100 jeux\")\n",
    "print(f\"  moy {np.mean(pop_mrrs_100)}\\n  std {np.std(pop_mrrs_100)} sur {np.mean(jeux_existants_100)}\\n  {pop_mrrs_100}\")\n",
    "print(\"Avec les utilisateurs ayant noté au moins 200 jeux\")\n",
    "print(f\"  moy {np.mean(pop_mrrs_200)}\\n  std {np.std(pop_mrrs_200)} sur {np.mean(jeux_existants_200)}\\n  {pop_mrrs_200}\")\n"
   ]
  },
  {
   "cell_type": "markdown",
   "id": "cbf1b127",
   "metadata": {},
   "source": [
    "En considérant que si un utilisateur met une note >= 7 il aime le film les performances de la recommendations sont nettement améliorées, pas beaucoup mais c'est quand même significatif.\n",
    "\n",
    "- En éliminant les utilisateurs ayant noter moins de **10** jeux nous avons une mrr de **35.4** en moyenne sur **9679.6**.\n",
    "\n",
    "- En éliminant les utilisateurs ayant noter moins de **50** jeux nous avons une mrr de **10.2** en moyenne sur **8887.4**. </br>\n",
    "\n",
    "- En éliminant les utilisateurs ayant noter moins de **100** jeux nous avons une mrr de **4.6** en moyenne sur **8261.0**. </br>\n",
    "\n",
    "- En éliminant les utilisateurs ayant noter moins de **200** jeux nous avons une mrr de **3.0** en moyenne sur **7230.8**. </br>\n"
   ]
  },
  {
   "cell_type": "code",
   "execution_count": null,
   "id": "35ee6ac8",
   "metadata": {},
   "outputs": [],
   "source": []
  },
  {
   "cell_type": "code",
   "execution_count": null,
   "id": "f5c25368",
   "metadata": {},
   "outputs": [],
   "source": []
  }
 ],
 "metadata": {
  "kernelspec": {
   "display_name": "Python 3 (ipykernel)",
   "language": "python",
   "name": "python3"
  },
  "language_info": {
   "codemirror_mode": {
    "name": "ipython",
    "version": 3
   },
   "file_extension": ".py",
   "mimetype": "text/x-python",
   "name": "python",
   "nbconvert_exporter": "python",
   "pygments_lexer": "ipython3",
   "version": "3.9.16"
  }
 },
 "nbformat": 4,
 "nbformat_minor": 5
}
