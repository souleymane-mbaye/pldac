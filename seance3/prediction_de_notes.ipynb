{
 "cells": [
  {
   "cell_type": "markdown",
   "metadata": {},
   "source": [
    "# Prédiction des notes par les commentaires"
   ]
  },
  {
   "cell_type": "markdown",
   "metadata": {},
   "source": [
    "## Import des modules"
   ]
  },
  {
   "cell_type": "code",
   "execution_count": 7,
   "metadata": {},
   "outputs": [],
   "source": [
    "import numpy as np\n",
    "import pandas as pd\n",
    "from pymongo  import MongoClient\n",
    "import re\n",
    "import string\n",
    "import matplotlib.pyplot as plt\n",
    "from scipy.stats import norm\n",
    "from sklearn.neighbors import KernelDensity\n",
    "from sklearn.feature_extraction.text import CountVectorizer\n",
    "\n",
    "import warnings\n",
    "warnings.simplefilter(\"ignore\")"
   ]
  },
  {
   "cell_type": "markdown",
   "metadata": {},
   "source": [
    "## Connection à la base de données MongoDB"
   ]
  },
  {
   "cell_type": "code",
   "execution_count": 8,
   "metadata": {},
   "outputs": [],
   "source": [
    "\n",
    "client = MongoClient(host=\"localhost\", port=27017)\n",
    "db_mongo = client.PLDAC_01\n",
    "avis = db_mongo.avis\n",
    "\n",
    "# avis"
   ]
  },
  {
   "cell_type": "code",
   "execution_count": 3,
   "metadata": {},
   "outputs": [
    {
     "name": "stdout",
     "output_type": "stream",
     "text": [
      "notes: 0 commentaire: 0\n"
     ]
    }
   ],
   "source": [
    "commentaires,notes = [],[]\n",
    "\n",
    "for rep in avis.find({}):\n",
    "  commentaire = rep['comment'] if 'comment' in rep else \"\"\n",
    "  # lignes de commentaire vide sont ignorées\n",
    "  if commentaire == \"\":\n",
    "    continue\n",
    "  \n",
    "  note = rep['note']\n",
    "  \n",
    "  notes.append(note)\n",
    "  commentaires.append(commentaire)\n",
    "notes,commentaires = np.array(notes),np.array(commentaires)\n",
    "print('notes:',len(notes),'commentaire:',len(commentaires))"
   ]
  },
  {
   "cell_type": "markdown",
   "metadata": {},
   "source": [
    "## Estimation de densité de la distribution des notes"
   ]
  },
  {
   "cell_type": "code",
   "execution_count": 4,
   "metadata": {},
   "outputs": [
    {
     "data": {
      "text/plain": [
       "<Figure size 640x480 with 0 Axes>"
      ]
     },
     "metadata": {},
     "output_type": "display_data"
    },
    {
     "data": {
      "image/png": "[encoded data removed]",
      "text/plain": [
       "<Figure size 500x500 with 1 Axes>"
      ]
     },
     "metadata": {},
     "output_type": "display_data"
    }
   ],
   "source": [
    "import seaborn as sns\n",
    "\n",
    "plt.figure()\n",
    "sns.displot(notes[:2000],kde=True)\n",
    "plt.title('Distribution des notes')\n",
    "plt.show()"
   ]
  },
  {
   "cell_type": "code",
   "execution_count": 5,
   "metadata": {},
   "outputs": [
    {
     "data": {
      "text/plain": [
       "<Figure size 640x480 with 0 Axes>"
      ]
     },
     "metadata": {},
     "output_type": "display_data"
    },
    {
     "data": {
      "image/png": "[encoded data removed]",
      "text/plain": [
       "<Figure size 500x500 with 1 Axes>"
      ]
     },
     "metadata": {},
     "output_type": "display_data"
    }
   ],
   "source": [
    "plt.figure()\n",
    "sns.displot(notes,kde=True)\n",
    "plt.title('Distribution des notes')\n",
    "plt.show()"
   ]
  },
  {
   "cell_type": "code",
   "execution_count": 6,
   "metadata": {},
   "outputs": [
    {
     "ename": "ValueError",
     "evalue": "Found array with 0 sample(s) (shape=(0, 1)) while a minimum of 1 is required by KernelDensity.",
     "output_type": "error",
     "traceback": [
      "\u001b[1;31m---------------------------------------------------------------------------\u001b[0m",
      "\u001b[1;31mValueError\u001b[0m                                Traceback (most recent call last)",
      "Cell \u001b[1;32mIn [6], line 7\u001b[0m\n\u001b[0;32m      4\u001b[0m X_plot \u001b[38;5;241m=\u001b[39m np\u001b[38;5;241m.\u001b[39mlinspace(\u001b[38;5;241m0\u001b[39m, \u001b[38;5;241m10\u001b[39m, \u001b[38;5;241m1000\u001b[39m)[:, np\u001b[38;5;241m.\u001b[39mnewaxis]\n\u001b[0;32m      6\u001b[0m \u001b[38;5;66;03m# estimation de densité par noyaux gaussiens\u001b[39;00m\n\u001b[1;32m----> 7\u001b[0m kde \u001b[38;5;241m=\u001b[39m \u001b[43mKernelDensity\u001b[49m\u001b[43m(\u001b[49m\u001b[43mkernel\u001b[49m\u001b[38;5;241;43m=\u001b[39;49m\u001b[38;5;124;43m'\u001b[39;49m\u001b[38;5;124;43mgaussian\u001b[39;49m\u001b[38;5;124;43m'\u001b[39;49m\u001b[43m,\u001b[49m\u001b[43m \u001b[49m\u001b[43mbandwidth\u001b[49m\u001b[38;5;241;43m=\u001b[39;49m\u001b[38;5;241;43m0.75\u001b[39;49m\u001b[43m)\u001b[49m\u001b[38;5;241;43m.\u001b[39;49m\u001b[43mfit\u001b[49m\u001b[43m(\u001b[49m\u001b[43mX\u001b[49m\u001b[43m)\u001b[49m\n\u001b[0;32m      8\u001b[0m \u001b[38;5;66;03m# calcul de la densité pour les données de X_plot\u001b[39;00m\n\u001b[0;32m      9\u001b[0m density \u001b[38;5;241m=\u001b[39m np\u001b[38;5;241m.\u001b[39mexp(kde\u001b[38;5;241m.\u001b[39mscore_samples(X_plot)) \u001b[38;5;241m*\u001b[39m notes\u001b[38;5;241m.\u001b[39msize\n",
      "File \u001b[1;32m~\\AppData\\Local\\Programs\\Python\\Python310\\lib\\site-packages\\sklearn\\neighbors\\_kde.py:225\u001b[0m, in \u001b[0;36mKernelDensity.fit\u001b[1;34m(self, X, y, sample_weight)\u001b[0m\n\u001b[0;32m    222\u001b[0m \u001b[38;5;28;01melse\u001b[39;00m:\n\u001b[0;32m    223\u001b[0m     \u001b[38;5;28mself\u001b[39m\u001b[38;5;241m.\u001b[39mbandwidth_ \u001b[38;5;241m=\u001b[39m \u001b[38;5;28mself\u001b[39m\u001b[38;5;241m.\u001b[39mbandwidth\n\u001b[1;32m--> 225\u001b[0m X \u001b[38;5;241m=\u001b[39m \u001b[38;5;28;43mself\u001b[39;49m\u001b[38;5;241;43m.\u001b[39;49m\u001b[43m_validate_data\u001b[49m\u001b[43m(\u001b[49m\u001b[43mX\u001b[49m\u001b[43m,\u001b[49m\u001b[43m \u001b[49m\u001b[43morder\u001b[49m\u001b[38;5;241;43m=\u001b[39;49m\u001b[38;5;124;43m\"\u001b[39;49m\u001b[38;5;124;43mC\u001b[39;49m\u001b[38;5;124;43m\"\u001b[39;49m\u001b[43m,\u001b[49m\u001b[43m \u001b[49m\u001b[43mdtype\u001b[49m\u001b[38;5;241;43m=\u001b[39;49m\u001b[43mDTYPE\u001b[49m\u001b[43m)\u001b[49m\n\u001b[0;32m    227\u001b[0m \u001b[38;5;28;01mif\u001b[39;00m sample_weight \u001b[38;5;129;01mis\u001b[39;00m \u001b[38;5;129;01mnot\u001b[39;00m \u001b[38;5;28;01mNone\u001b[39;00m:\n\u001b[0;32m    228\u001b[0m     sample_weight \u001b[38;5;241m=\u001b[39m _check_sample_weight(\n\u001b[0;32m    229\u001b[0m         sample_weight, X, DTYPE, only_non_negative\u001b[38;5;241m=\u001b[39m\u001b[38;5;28;01mTrue\u001b[39;00m\n\u001b[0;32m    230\u001b[0m     )\n",
      "File \u001b[1;32m~\\AppData\\Local\\Programs\\Python\\Python310\\lib\\site-packages\\sklearn\\base.py:565\u001b[0m, in \u001b[0;36mBaseEstimator._validate_data\u001b[1;34m(self, X, y, reset, validate_separately, **check_params)\u001b[0m\n\u001b[0;32m    563\u001b[0m     \u001b[38;5;28;01mraise\u001b[39;00m \u001b[38;5;167;01mValueError\u001b[39;00m(\u001b[38;5;124m\"\u001b[39m\u001b[38;5;124mValidation should be done on X, y or both.\u001b[39m\u001b[38;5;124m\"\u001b[39m)\n\u001b[0;32m    564\u001b[0m \u001b[38;5;28;01melif\u001b[39;00m \u001b[38;5;129;01mnot\u001b[39;00m no_val_X \u001b[38;5;129;01mand\u001b[39;00m no_val_y:\n\u001b[1;32m--> 565\u001b[0m     X \u001b[38;5;241m=\u001b[39m check_array(X, input_name\u001b[38;5;241m=\u001b[39m\u001b[38;5;124m\"\u001b[39m\u001b[38;5;124mX\u001b[39m\u001b[38;5;124m\"\u001b[39m, \u001b[38;5;241m*\u001b[39m\u001b[38;5;241m*\u001b[39mcheck_params)\n\u001b[0;32m    566\u001b[0m     out \u001b[38;5;241m=\u001b[39m X\n\u001b[0;32m    567\u001b[0m \u001b[38;5;28;01melif\u001b[39;00m no_val_X \u001b[38;5;129;01mand\u001b[39;00m \u001b[38;5;129;01mnot\u001b[39;00m no_val_y:\n",
      "File \u001b[1;32m~\\AppData\\Local\\Programs\\Python\\Python310\\lib\\site-packages\\sklearn\\utils\\validation.py:931\u001b[0m, in \u001b[0;36mcheck_array\u001b[1;34m(array, accept_sparse, accept_large_sparse, dtype, order, copy, force_all_finite, ensure_2d, allow_nd, ensure_min_samples, ensure_min_features, estimator, input_name)\u001b[0m\n\u001b[0;32m    929\u001b[0m     n_samples \u001b[38;5;241m=\u001b[39m _num_samples(array)\n\u001b[0;32m    930\u001b[0m     \u001b[38;5;28;01mif\u001b[39;00m n_samples \u001b[38;5;241m<\u001b[39m ensure_min_samples:\n\u001b[1;32m--> 931\u001b[0m         \u001b[38;5;28;01mraise\u001b[39;00m \u001b[38;5;167;01mValueError\u001b[39;00m(\n\u001b[0;32m    932\u001b[0m             \u001b[38;5;124m\"\u001b[39m\u001b[38;5;124mFound array with \u001b[39m\u001b[38;5;132;01m%d\u001b[39;00m\u001b[38;5;124m sample(s) (shape=\u001b[39m\u001b[38;5;132;01m%s\u001b[39;00m\u001b[38;5;124m) while a\u001b[39m\u001b[38;5;124m\"\u001b[39m\n\u001b[0;32m    933\u001b[0m             \u001b[38;5;124m\"\u001b[39m\u001b[38;5;124m minimum of \u001b[39m\u001b[38;5;132;01m%d\u001b[39;00m\u001b[38;5;124m is required\u001b[39m\u001b[38;5;132;01m%s\u001b[39;00m\u001b[38;5;124m.\u001b[39m\u001b[38;5;124m\"\u001b[39m\n\u001b[0;32m    934\u001b[0m             \u001b[38;5;241m%\u001b[39m (n_samples, array\u001b[38;5;241m.\u001b[39mshape, ensure_min_samples, context)\n\u001b[0;32m    935\u001b[0m         )\n\u001b[0;32m    937\u001b[0m \u001b[38;5;28;01mif\u001b[39;00m ensure_min_features \u001b[38;5;241m>\u001b[39m \u001b[38;5;241m0\u001b[39m \u001b[38;5;129;01mand\u001b[39;00m array\u001b[38;5;241m.\u001b[39mndim \u001b[38;5;241m==\u001b[39m \u001b[38;5;241m2\u001b[39m:\n\u001b[0;32m    938\u001b[0m     n_features \u001b[38;5;241m=\u001b[39m array\u001b[38;5;241m.\u001b[39mshape[\u001b[38;5;241m1\u001b[39m]\n",
      "\u001b[1;31mValueError\u001b[0m: Found array with 0 sample(s) (shape=(0, 1)) while a minimum of 1 is required by KernelDensity."
     ]
    }
   ],
   "source": [
    "N = 100\n",
    "X = notes.reshape((notes.size,1))\n",
    "# préparer les points où on calculera la densité\n",
    "X_plot = np.linspace(0, 10, 1000)[:, np.newaxis]\n",
    "\n",
    "# estimation de densité par noyaux gaussiens\n",
    "kde = KernelDensity(kernel='gaussian', bandwidth=0.75).fit(X)\n",
    "# calcul de la densité pour les données de X_plot\n",
    "density = np.exp(kde.score_samples(X_plot)) * notes.size\n",
    "\n",
    "# affichage : vraie densité et estimation\n",
    "fig = plt.figure()\n",
    "ax = fig.add_subplot(111)\n",
    "ax.hist(X[:,0], bins=10, fc='blue', alpha=0.2, label='Vraie densité')\n",
    "ax.plot(X_plot[:,0], density, '-', label=\"Estimation\",color='red')\n",
    "ax.plot(X[:, 0], -0.005 - 0.01 * np.random.random(X.shape[0]), '+k')\n",
    "ax.legend(loc='upper left')\n",
    "plt.show()"
   ]
  },
  {
   "cell_type": "markdown",
   "metadata": {},
   "source": [
    "## Prétraitement"
   ]
  },
  {
   "cell_type": "code",
   "execution_count": null,
   "metadata": {},
   "outputs": [],
   "source": [
    "# fonction qui sup\n",
    "def supprimer_les_nombres(docs):\n",
    "    \"\"\" Fonction qui supprime tous les nombres dans la chaine de caractères doc\n",
    "\n",
    "    Args:\n",
    "        doc (string): chaine de caractère à emputer les nombres\n",
    "\n",
    "    Returns:\n",
    "        string: chaine de caractère sans les nombres\n",
    "    \"\"\"\n",
    "    \n",
    "    return np.array([re.sub('[0-9]+', '', doc) for doc in docs])\n",
    "\n",
    "def supprimer_la_ponctuation(docs):\n",
    "    \"\"\" Fonction qui supprime tous les nombres dans la chaine de caractères doc\n",
    "\n",
    "    Args:\n",
    "        doc (string): chaine de caractère à emputer les nombres\n",
    "\n",
    "    Returns:\n",
    "        string: chaine de caractère sans les nombres\n",
    "    \"\"\"\n",
    "    \n",
    "    punc = string.punctuation \n",
    "    punc += '\\n\\r\\t'\n",
    "    return np.array([doc.translate(str.maketrans(punc, ' ' * len(punc))) for doc in docs])\n",
    "\n",
    "def pretraitement(docs):\n",
    "    docs = np.array([doc.lower() for doc in docs])\n",
    "    docs = supprimer_les_nombres(docs)\n",
    "    docs = supprimer_la_ponctuation(docs)\n",
    "\n",
    "    return docs\n",
    "commentaires = pretraitement(commentaires)"
   ]
  },
  {
   "cell_type": "code",
   "execution_count": null,
   "metadata": {},
   "outputs": [],
   "source": [
    "ch = np.array(['SofiA56','23NolwenN','34','SouleymanE62'])\n",
    "pretraitement(ch)"
   ]
  },
  {
   "cell_type": "code",
   "execution_count": null,
   "metadata": {},
   "outputs": [],
   "source": [
    "print(commentaires[0])"
   ]
  },
  {
   "cell_type": "markdown",
   "metadata": {},
   "source": [
    "## Comptages des occurrences des mots et loi Zipf"
   ]
  },
  {
   "cell_type": "code",
   "execution_count": null,
   "metadata": {},
   "outputs": [],
   "source": [
    "# loi Zipf \n",
    "\n",
    "vectorizer = CountVectorizer()\n",
    "bag_of_words = vectorizer.fit_transform(commentaires)  # creer le bow\n",
    "sum_words = bag_of_words.sum(axis=0) # nb occurrences de chaque mot\n",
    "words_freq = [(str(word), sum_words[0, idx]) for word, idx in     vectorizer.vocabulary_.items()] # couple (mot, freq)\n",
    "words_freq =sorted(words_freq, key = lambda x: x[1], reverse=True)  # trie par freq decroissante\n",
    "print('nombre de mots:',len(words_freq))\n",
    "\n",
    "nmots = 50\n",
    "x = [w for w,f in words_freq[:nmots]]\n",
    "y = [f for w,f in words_freq[:nmots]]\n",
    "\n",
    "plt.figure()\n",
    "plt.bar(x,y)\n",
    "plt.axis('off')"
   ]
  },
  {
   "cell_type": "markdown",
   "metadata": {},
   "source": [
    "### Les k mots les plus fréquents"
   ]
  },
  {
   "cell_type": "code",
   "execution_count": null,
   "metadata": {},
   "outputs": [],
   "source": [
    "words_ord = [w for w,f in words_freq]\n",
    "k = 200\n",
    "print([w for w in words_ord[:k]])  # les k mots les plus fréquents"
   ]
  },
  {
   "cell_type": "markdown",
   "metadata": {},
   "source": [
    "### Les k mots les moins fréquents"
   ]
  },
  {
   "cell_type": "code",
   "execution_count": null,
   "metadata": {},
   "outputs": [],
   "source": [
    "# les moins fréquents majoritairement des erreurs de frappes et des exagérations\n",
    "print([w for w in words_ord[-k:]])  # les k mots les moins fréquents"
   ]
  },
  {
   "cell_type": "markdown",
   "metadata": {},
   "source": [
    "## Rééquilibrage des classes"
   ]
  },
  {
   "cell_type": "code",
   "execution_count": null,
   "metadata": {},
   "outputs": [],
   "source": [
    "notes_en = np.around(notes)\n",
    "notes_un,nb_notes = np.unique(notes_en,return_counts=True)\n",
    "print('\\n  Somme cumulée croissante:',np.cumsum(nb_notes)/nb_notes.sum())\n",
    "print('Distribution des notes:',nb_notes)\n",
    "\n",
    "N_min = np.min(nb_notes)\n",
    "print('Minimum des notes:',N_min)\n",
    "commentaires_eq,notes_eq = [],[]\n",
    "notes_float_eq = []\n",
    "for cl in notes_un:\n",
    "  i_cl = notes_en == cl\n",
    "  commentaires_cl = commentaires[i_cl]\n",
    "  notes_cl = notes_en[i_cl]\n",
    "  notes_float_cl = notes[i_cl]\n",
    "  \n",
    "  # Un petit shuffle\n",
    "  i_rand = np.arange(commentaires_cl.shape[0])\n",
    "  np.random.shuffle(i_rand)\n",
    "  commentaires_cl = commentaires_cl[i_rand[:N_min]]\n",
    "\n",
    "  # chaque classe présente N_min lignes\n",
    "  for i in range(N_min): \n",
    "    commentaires_eq.append(commentaires_cl[i])\n",
    "    notes_eq.append(notes_cl[i])\n",
    "    notes_float_eq.append(notes_float_cl[i])\n",
    "\n",
    "commentaires_eq,notes_eq = np.array(commentaires_eq),np.array(notes_eq)\n",
    "notes_float_eq = np.array(notes_float_eq)\n",
    "print('Nouvelle taille',len(commentaires_eq),len(notes_eq),N_min*notes_un.shape[0])"
   ]
  },
  {
   "cell_type": "code",
   "execution_count": null,
   "metadata": {},
   "outputs": [],
   "source": [
    "print(len(commentaires_eq),len(notes_eq),N_min*notes_un.shape[0])\n"
   ]
  },
  {
   "cell_type": "markdown",
   "metadata": {},
   "source": [
    "### Kde sur les classes rééquilibrées(juste pour voir)"
   ]
  },
  {
   "cell_type": "code",
   "execution_count": null,
   "metadata": {},
   "outputs": [],
   "source": [
    "# Avec des notes float\n",
    "plt.figure()\n",
    "sns.displot(notes_float_eq,kde=True)\n",
    "plt.title('Distribution des notes rééquilibrées')\n",
    "plt.show()"
   ]
  },
  {
   "cell_type": "code",
   "execution_count": null,
   "metadata": {},
   "outputs": [],
   "source": [
    "# Avec les notes en entier\n",
    "plt.figure()\n",
    "sns.displot(notes_eq,kde=True)\n",
    "plt.title('Distribution des notes rééquilibrées')\n",
    "plt.show()"
   ]
  },
  {
   "cell_type": "markdown",
   "metadata": {},
   "source": [
    "## Mots les plus fréquents après rééquilibre"
   ]
  },
  {
   "cell_type": "code",
   "execution_count": null,
   "metadata": {},
   "outputs": [],
   "source": [
    "# loi Zipf \n",
    "\n",
    "vectorizer = CountVectorizer()\n",
    "bag_of_words_eq = vectorizer.fit_transform(commentaires_eq)  # creer le bow\n",
    "sum_words_eq = bag_of_words_eq.sum(axis=0) # nb occurrences de chaque mot\n",
    "words_freq_eq = [(str(word), sum_words_eq[0, idx]) for word, idx in     vectorizer.vocabulary_.items()] # couple (mot, freq)\n",
    "words_freq_eq =sorted(words_freq_eq, key = lambda x: x[1], reverse=True)  # trie par freq decroissante\n",
    "print('nombre de mots:',len(words_freq_eq))\n",
    "\n",
    "nmots = 50\n",
    "x = [w for w,f in words_freq_eq[:nmots]]\n",
    "y = [f for w,f in words_freq_eq[:nmots]]\n",
    "\n",
    "plt.figure()\n",
    "plt.bar(x,y)\n",
    "plt.axis('off')"
   ]
  },
  {
   "cell_type": "code",
   "execution_count": null,
   "metadata": {},
   "outputs": [],
   "source": [
    "words_ord_eq = [w for w,f in words_freq_eq]\n",
    "k = 200\n",
    "print([w for w in words_ord_eq[:k] if w not in stopwords.words('french')])  # les k mots les plus fréquents"
   ]
  },
  {
   "cell_type": "markdown",
   "metadata": {},
   "source": [
    "## Word cloud"
   ]
  },
  {
   "cell_type": "markdown",
   "metadata": {},
   "source": [
    "### Word cloud de tous les commentaires(classes confondues)"
   ]
  },
  {
   "cell_type": "code",
   "execution_count": null,
   "metadata": {},
   "outputs": [],
   "source": [
    "from wordcloud import WordCloud\n",
    "from wordcloud import STOPWORDS # Note: this is the default option    \n",
    "\n",
    "corpus = list(commentaires_eq)\n",
    "corpus = \" \".join(corpus)\n",
    "# print(corpus[:50])\n",
    "wordcloud = WordCloud(background_color='white', stopwords = STOPWORDS, max_words=100).generate(corpus) \n",
    "\n",
    "plt.figure()\n",
    "plt.imshow(wordcloud)\n",
    "plt.axis(\"off\")"
   ]
  },
  {
   "cell_type": "markdown",
   "metadata": {},
   "source": [
    "### Word cloud pour chaque classe"
   ]
  },
  {
   "cell_type": "code",
   "execution_count": null,
   "metadata": {},
   "outputs": [],
   "source": [
    "k = 0 # les k motes les plus fréquents à ne pas considérer\n",
    "for i in range(notes_un.shape[0]):\n",
    "  \n",
    "  # commentaires de chaque note\n",
    "  i_commentaire_note = notes_eq == notes_un[i]\n",
    "  commentaire_note = commentaires_eq[i_commentaire_note]\n",
    "  \n",
    "  # les mots les plus fréquent de chaque note\n",
    "  corpus_note = \" \".join(list(commentaire_note))\n",
    "  wordcloud = WordCloud(background_color='white', stopwords = [w for w in words_ord[:k]], max_words=100).generate(corpus_note)\n",
    "\n",
    "  plt.figure()\n",
    "  plt.imshow(wordcloud)\n",
    "  plt.title('note '+str(i))\n",
    "  plt.axis('off')"
   ]
  },
  {
   "cell_type": "markdown",
   "metadata": {},
   "source": [
    "### Word cloud de chaque classe sans les k mots les plus fréquents"
   ]
  },
  {
   "cell_type": "code",
   "execution_count": null,
   "metadata": {},
   "outputs": [],
   "source": [
    "import nltk\n",
    "nltk.download('stopwords')\n",
    "from nltk.corpus import stopwords\n",
    "\n",
    "k = 200 # les k motes les plus fréquents à ne pas considérer\n",
    "stopwords_list = stopwords.words('french') + [w for w in words_ord[:k]]\n",
    "\n",
    "for i in range(notes_un.shape[0]):\n",
    "  \n",
    "  # commentaires de chaque note\n",
    "  i_commentaire_note = notes_eq == notes_un[i]\n",
    "  commentaire_note = commentaires_eq[i_commentaire_note]\n",
    "  \n",
    "  # les mots les plus fréquent de chaque note\n",
    "  corpus_note = \" \".join(list(commentaire_note))\n",
    "  wordcloud = WordCloud(background_color='white', stopwords = stopwords_list, max_words=100).generate(corpus_note)\n",
    "\n",
    "  plt.figure()\n",
    "  plt.imshow(wordcloud)\n",
    "  plt.title('note '+str(i))\n",
    "  plt.axis('off')"
   ]
  },
  {
   "cell_type": "markdown",
   "metadata": {},
   "source": [
    "### Word cloud en biclasse sans les k mots les plus fréquents"
   ]
  },
  {
   "cell_type": "code",
   "execution_count": null,
   "metadata": {},
   "outputs": [],
   "source": [
    "k = 200 # les k motes les plus fréquents à ne pas considérer\n",
    "stopwords_list = stopwords.words('french') + [w for w in words_ord[:k]]\n",
    "\n",
    "# commentaires des notes négatives\n",
    "i_commentaire_note = notes_eq <= 5\n",
    "commentaire_note = commentaires_eq[i_commentaire_note]\n",
    "\n",
    "# les mots les plus fréquent de chaque note\n",
    "corpus_note = \" \".join(list(commentaire_note))\n",
    "wordcloud = WordCloud(background_color='white', stopwords = stopwords_list, max_words=100).generate(corpus_note)\n",
    "\n",
    "plt.figure()\n",
    "plt.imshow(wordcloud)\n",
    "plt.title('notes de 0 à 5')\n",
    "plt.axis('off')\n",
    "plt.show()\n",
    "\n",
    "# commentaires des notes positives\n",
    "i_commentaire_note = notes_eq > 5\n",
    "commentaire_note = commentaires_eq[i_commentaire_note]\n",
    "\n",
    "# les mots les plus fréquent de chaque note\n",
    "corpus_note = \" \".join(list(commentaire_note))\n",
    "wordcloud = WordCloud(background_color='white', stopwords = stopwords_list, max_words=100).generate(corpus_note)\n",
    "\n",
    "plt.figure()\n",
    "plt.imshow(wordcloud)\n",
    "plt.title('notes de 6 à 10')\n",
    "plt.axis('off')\n",
    "plt.show()"
   ]
  },
  {
   "cell_type": "markdown",
   "metadata": {},
   "source": [
    "On voit des mots négatifs sur les petites notes (jamais,dommage,manque,ni,envie,pourtant,déçu,passe) et positifs(belle,possible,nouvelle,interaction,ressource,facile,objectif) dans les notes hautes."
   ]
  },
  {
   "cell_type": "markdown",
   "metadata": {},
   "source": [
    "## Prédiction des notes à partir des commentaires"
   ]
  },
  {
   "cell_type": "code",
   "execution_count": null,
   "metadata": {},
   "outputs": [],
   "source": [
    "# séparation train test\n",
    "from sklearn.model_selection import train_test_split\n",
    "\n",
    "X,y = commentaires_eq,notes_eq\n",
    "X_train, X_test, y_train, y_test = train_test_split( X, y, test_size=0.2, random_state=0) \n",
    "\n",
    "tt = len(y_train)+len(y_test)\n",
    "print(len(y_train)/tt,len(y_test)/tt)"
   ]
  },
  {
   "cell_type": "code",
   "execution_count": null,
   "metadata": {},
   "outputs": [],
   "source": [
    "# Obtenir les caractéristiques les plus importantes pour un modèle\n",
    "def mots_importants(model,n=10):\n",
    "  feature_weights = model.coef_[0]\n",
    "  top_features = {\n",
    "      'positive': [vectorizer.get_feature_names_out()[i] for i in feature_weights.argsort()[-n:][::-1]],\n",
    "      'negative': [vectorizer.get_feature_names_out()[i] for i in feature_weights.argsort()[:n]]\n",
    "  }\n",
    "\n",
    "  \n",
    "  return top_features['positive'],top_features['negative']"
   ]
  },
  {
   "cell_type": "code",
   "execution_count": null,
   "metadata": {},
   "outputs": [],
   "source": [
    "from sklearn.naive_bayes import MultinomialNB\n",
    "from sklearn.linear_model import LogisticRegression\n",
    "from sklearn.svm import LinearSVC\n",
    "from sklearn.metrics import accuracy_score\n",
    "\n",
    "classes = y_train\n",
    "corpus = X_train\n",
    "classes_test = y_test\n",
    "corpus_test = X_test\n",
    "\n",
    "def prediction(vect=CountVectorizer,**args):\n",
    "  \n",
    "  vectorizer = vect(**args)\n",
    "\n",
    "  X = vectorizer.fit_transform(corpus)\n",
    "  # print(vectorizer.get_feature_names()[:10]) # we only print a few\n",
    "  print(X.shape)\n",
    "\n",
    "  #Naïve Bayes\n",
    "  nb_clf = MultinomialNB()\n",
    "  nb_clf.fit(X, classes)\n",
    "\n",
    "\n",
    "  #Logistic Regression\n",
    "  lr_clf = LogisticRegression(random_state=0, solver='lbfgs',max_iter=1000,n_jobs=-1)\n",
    "  lr_clf.fit(X, classes)\n",
    "\n",
    "  #Linear SVM\n",
    "  svm_clf = LinearSVC(random_state=0, tol=1e-5)\n",
    "  svm_clf.fit(X, classes)\n",
    "\n",
    "\n",
    "  X_t = vectorizer.transform(corpus_test)\n",
    "\n",
    "  pred_nb = nb_clf.predict(X_t)\n",
    "  pred_lr = lr_clf.predict(X_t)\n",
    "  pred_svm = svm_clf.predict(X_t)\n",
    "\n",
    "\n",
    "  print(f\"Naïve Bayes accuracy: {accuracy_score(classes_test, pred_nb)}\")\n",
    "  print(f\"Logistic Regression accuracy: {accuracy_score(classes_test, pred_lr)}\")\n",
    "  print(f\"SVM accuracy: {accuracy_score(classes_test, pred_svm)}\")\n",
    "\n",
    "  return nb_clf,lr_clf,svm_clf"
   ]
  },
  {
   "cell_type": "markdown",
   "metadata": {},
   "source": [
    "### Avec tous les mots du corpus"
   ]
  },
  {
   "cell_type": "code",
   "execution_count": null,
   "metadata": {},
   "outputs": [],
   "source": [
    "classes = y_train\n",
    "corpus = X_train\n",
    "classes_test = y_test\n",
    "corpus_test = X_test\n",
    "r = prediction(CountVectorizer)"
   ]
  },
  {
   "cell_type": "markdown",
   "metadata": {},
   "source": [
    "Nous avons des performances meilleurs que celles de la fois fois."
   ]
  },
  {
   "cell_type": "markdown",
   "metadata": {},
   "source": [
    "### Sans les k=200 mots les plus fréquents"
   ]
  },
  {
   "cell_type": "code",
   "execution_count": null,
   "metadata": {},
   "outputs": [],
   "source": [
    "classes = y_train\n",
    "corpus = X_train\n",
    "classes_test = y_test\n",
    "corpus_test = X_test\n",
    "k = 200\n",
    "r = prediction(CountVectorizer,stop_words=[w for w in words_ord[:k]])"
   ]
  },
  {
   "cell_type": "markdown",
   "metadata": {},
   "source": [
    "### Sans les k=200 mots les plus fréquents et les 200 moins fréquents"
   ]
  },
  {
   "cell_type": "code",
   "execution_count": null,
   "metadata": {},
   "outputs": [],
   "source": [
    "# apprentissage en supprimant les k mots les plus fréquents\n",
    "classes = y_train\n",
    "corpus = X_train\n",
    "classes_test = y_test\n",
    "corpus_test = X_test\n",
    "\n",
    "k = 200\n",
    "r = prediction(CountVectorizer,stop_words=[w for w in words_ord[:k]] + [w for w in words_ord[-k:]])"
   ]
  },
  {
   "cell_type": "markdown",
   "metadata": {},
   "source": [
    "### Sans les k=1_000 mots les plus fréquents"
   ]
  },
  {
   "cell_type": "code",
   "execution_count": null,
   "metadata": {},
   "outputs": [],
   "source": [
    "# apprentissage en supprimant les k mots les plus fréquents\n",
    "classes = y_train\n",
    "corpus = X_train\n",
    "classes_test = y_test\n",
    "corpus_test = X_test\n",
    "\n",
    "k = 1_000\n",
    "stopwords_list = stopwords.words('french') + [w for w in words_ord[:k]] # + [w for w in words_ord[-k:]]\n",
    "r = prediction(CountVectorizer,stop_words=stopwords_list)"
   ]
  },
  {
   "cell_type": "markdown",
   "metadata": {},
   "source": [
    "### Sans les mots les plus fréquents du français"
   ]
  },
  {
   "cell_type": "code",
   "execution_count": null,
   "metadata": {},
   "outputs": [],
   "source": [
    "# apprentissage en supprimant les k mots les plus fréquents\n",
    "classes = y_train\n",
    "corpus = X_train\n",
    "classes_test = y_test\n",
    "corpus_test = X_test\n",
    "\n",
    "k = 2_000\n",
    "stopwords_list = stopwords.words('french') #+ [w for w in words_ord[:k]] # + [w for w in words_ord[-k:]]\n",
    "r = prediction(CountVectorizer,stop_words=stopwords_list)\n",
    "\n"
   ]
  },
  {
   "cell_type": "markdown",
   "metadata": {},
   "source": [
    "### Sans les k=2_000 mots les plus fréquents"
   ]
  },
  {
   "cell_type": "code",
   "execution_count": null,
   "metadata": {},
   "outputs": [],
   "source": [
    "# apprentissage en supprimant les k mots les plus fréquents\n",
    "classes = y_train\n",
    "corpus = X_train\n",
    "classes_test = y_test\n",
    "corpus_test = X_test\n",
    "\n",
    "k = 2_000\n",
    "stopwords_list = [w for w in words_ord[:k]] # + [w for w in words_ord[-k:]]\n",
    "r = prediction(CountVectorizer,stop_words=stopwords_list)"
   ]
  },
  {
   "cell_type": "markdown",
   "metadata": {},
   "source": [
    "### avec des bigrammes"
   ]
  },
  {
   "cell_type": "code",
   "execution_count": null,
   "metadata": {},
   "outputs": [],
   "source": [
    "# apprentissage en supprimant les k mots les plus fréquents\n",
    "classes = y_train\n",
    "corpus = X_train\n",
    "classes_test = y_test\n",
    "corpus_test = X_test\n",
    "\n",
    "k = 200\n",
    "# stopwords_list = stopwords.words('french') #+ [w for w in words_ord[:k]] # + [w for w in words_ord[-k:]]\n",
    "stopwords_list = [w for w in words_ord[:k]] # + [w for w in words_ord[-k:]]\n",
    "\n",
    "r = prediction(CountVectorizer,stop_words=stopwords_list,ngram_range=(1,2))\n"
   ]
  },
  {
   "cell_type": "markdown",
   "metadata": {},
   "source": [
    "### Avec des trigrammes"
   ]
  },
  {
   "cell_type": "code",
   "execution_count": null,
   "metadata": {},
   "outputs": [],
   "source": [
    "# apprentissage en supprimant les k mots les plus fréquents\n",
    "classes = y_train\n",
    "corpus = X_train\n",
    "classes_test = y_test\n",
    "corpus_test = X_test\n",
    "\n",
    "k = 200\n",
    "# stopwords_list = stopwords.words('french') #+ [w for w in words_ord[:k]] # + [w for w in words_ord[-k:]]\n",
    "stopwords_list = [w for w in words_ord[:k]] # + [w for w in words_ord[-k:]]\n",
    "\n",
    "r = prediction(CountVectorizer,stop_words=stopwords_list,ngram_range=(1,3))\n"
   ]
  },
  {
   "cell_type": "markdown",
   "metadata": {},
   "source": [
    "### bigrammes et trigrammes"
   ]
  },
  {
   "cell_type": "code",
   "execution_count": null,
   "metadata": {},
   "outputs": [],
   "source": [
    "# apprentissage en supprimant les k mots les plus fréquents\n",
    "classes = y_train\n",
    "corpus = X_train\n",
    "classes_test = y_test\n",
    "corpus_test = X_test\n",
    "\n",
    "k = 200\n",
    "# stopwords_list = stopwords.words('french') #+ [w for w in words_ord[:k]] # + [w for w in words_ord[-k:]]\n",
    "stopwords_list = [w for w in words_ord[:k]] # + [w for w in words_ord[-k:]]\n",
    "\n",
    "r = prediction(CountVectorizer,stop_words=stopwords_list,ngram_range=(2,3))\n"
   ]
  },
  {
   "cell_type": "markdown",
   "metadata": {},
   "source": [
    "# Prédiction avec séparation des notes en deux classes"
   ]
  },
  {
   "cell_type": "code",
   "execution_count": null,
   "metadata": {},
   "outputs": [],
   "source": [
    "# apprentissage en supprimant les k mots les plus fréquents\n",
    "# classification binaire decoupage (0 à 5 -> -1) (6 à 10 -> 1)\n",
    "classes = [1 if note>5 else -1 for note in y_train]\n",
    "corpus = X_train\n",
    "classes_test = [1 if note>5 else -1 for note in y_test]\n",
    "corpus_test = X_test\n",
    "\n",
    "k = 200\n",
    "stopwords_list = stopwords.words('french') #+ [w for w in words_ord[:k]] # + [w for w in words_ord[-k:]]\n",
    "\n",
    "nb_clf,lr_clf,svm_clf = prediction(CountVectorizer,stop_words=stopwords_list)"
   ]
  },
  {
   "cell_type": "markdown",
   "metadata": {},
   "source": [
    "### Les mots les plus importants"
   ]
  },
  {
   "cell_type": "code",
   "execution_count": null,
   "metadata": {},
   "outputs": [],
   "source": [
    "mots_pos,mots_neg = mots_importants(lr_clf)\n",
    "print('Mots positifs :',mots_pos)\n",
    "print('Mots negatifs :',mots_neg)"
   ]
  },
  {
   "cell_type": "code",
   "execution_count": null,
   "metadata": {},
   "outputs": [],
   "source": [
    "mots_pos,mots_neg = mots_importants(svm_clf)\n",
    "print('Mots positifs :',mots_pos)\n",
    "print('Mots negatifs :',mots_neg)"
   ]
  },
  {
   "cell_type": "markdown",
   "metadata": {},
   "source": [
    "### Prédiction avec séparation des notes en deux classes sans les k=200 moins fréquents"
   ]
  },
  {
   "cell_type": "code",
   "execution_count": null,
   "metadata": {},
   "outputs": [],
   "source": [
    "# apprentissage en supprimant les k mots les plus fréquents\n",
    "# classification binaire decoupage (0 à 5 -> -1) (6 à 10 -> 1)\n",
    "classes = [1 if note>5 else -1 for note in y_train]\n",
    "corpus = X_train\n",
    "classes_test = [1 if note>5 else -1 for note in y_test]\n",
    "corpus_test = X_test\n",
    "\n",
    "k = 200\n",
    "stop_words = stopwords.words('french') + [w for w in words_ord[:k]] + [w for w in words_ord[-2*k:]]\n",
    "\n",
    "nb_clf,lr_clf,svm_clf = prediction(CountVectorizer,stop_words=stopwords_list)\n"
   ]
  },
  {
   "cell_type": "markdown",
   "metadata": {},
   "source": [
    "### Prédiction avec séparation des notes en deux classes sans les k=2_000 moins fréquents"
   ]
  },
  {
   "cell_type": "code",
   "execution_count": null,
   "metadata": {},
   "outputs": [],
   "source": [
    "# apprentissage en supprimant les k mots les plus fréquents\n",
    "# classification binaire decoupage (0 à 5 -> -1) (6 à 10 -> 1)\n",
    "classes = [1 if note>5 else -1 for note in y_train]\n",
    "corpus = X_train\n",
    "classes_test = [1 if note>5 else -1 for note in y_test]\n",
    "corpus_test = X_test\n",
    "\n",
    "k = 2000\n",
    "stop_words = stopwords.words('french') + [w for w in words_ord[:k]] + [w for w in words_ord[-k:]]\n",
    "\n",
    "nb_clf,lr_clf,svm_clf = prediction(CountVectorizer,stop_words=stopwords_list)\n"
   ]
  },
  {
   "cell_type": "markdown",
   "metadata": {},
   "source": [
    "### En enlevant les 20_000 termes les fréquents"
   ]
  },
  {
   "cell_type": "code",
   "execution_count": null,
   "metadata": {},
   "outputs": [],
   "source": [
    "# apprentissage en supprimant les k mots les plus fréquents\n",
    "# classification binaire decoupage (0 à 5 -> -1) (6 à 10 -> 1)\n",
    "classes = [1 if note>5 else -1 for note in y_train]\n",
    "corpus = X_train\n",
    "classes_test = [1 if note>5 else -1 for note in y_test]\n",
    "corpus_test = X_test\n",
    "\n",
    "k = 20_000\n",
    "stop_words = stopwords.words('french') + [w for w in words_ord[:k]] + [w for w in words_ord[-k:]]\n",
    "\n",
    "nb_clf,lr_clf,svm_clf = prediction(CountVectorizer,stop_words=stopwords_list)\n"
   ]
  },
  {
   "cell_type": "markdown",
   "metadata": {},
   "source": [
    "# Avec du steming"
   ]
  },
  {
   "cell_type": "code",
   "execution_count": null,
   "metadata": {},
   "outputs": [],
   "source": [
    "from nltk.stem.snowball import FrenchStemmer\n",
    "\n",
    "def stem(docs):\n",
    "  docs_stem = []\n",
    "  stemmer = FrenchStemmer()\n",
    "  \n",
    "  for i in range(docs.shape[0]):\n",
    "    tokens = str(docs[i]).split()\n",
    "\n",
    "    stemmed_tokens = [stemmer.stem(token) for token in tokens]\n",
    "    stemmed_text = \" \".join(stemmed_tokens)\n",
    "    docs_stem.append(stemmed_text)\n",
    "  \n",
    "  return np.array(docs_stem)\n",
    "\n",
    "commentaires_stem = stem(commentaires)\n",
    "corpus_stem = stem(X_train)\n",
    "corpus_test_stem = stem(X_test)"
   ]
  },
  {
   "cell_type": "code",
   "execution_count": null,
   "metadata": {},
   "outputs": [],
   "source": [
    "print(commentaires[0],'\\n  -->\\n',commentaires_stem[0])"
   ]
  },
  {
   "cell_type": "code",
   "execution_count": null,
   "metadata": {},
   "outputs": [],
   "source": [
    "print(X_train[0],'\\n  -->\\n',corpus_stem[0])"
   ]
  },
  {
   "cell_type": "markdown",
   "metadata": {},
   "source": [
    "## Comptages des occurrences des mots et loi Zipf"
   ]
  },
  {
   "cell_type": "code",
   "execution_count": null,
   "metadata": {},
   "outputs": [],
   "source": [
    "# loi Zipf \n",
    "\n",
    "vectorizer = CountVectorizer()\n",
    "bag_of_words_stem = vectorizer.fit_transform(commentaires_stem)  # creer le bow\n",
    "sum_words_stem = bag_of_words_stem.sum(axis=0) # nb occurrences de chaque mot\n",
    "words_freq_stem = [(str(word), sum_words_stem[0, idx]) for word, idx in     vectorizer.vocabulary_.items()] # couple (mot, freq)\n",
    "words_freq_stem =sorted(words_freq_stem, key = lambda x: x[1], reverse=True)  # trie par freq decroissante\n",
    "print('nombre de mots:',len(words_freq_stem))\n",
    "\n",
    "nmots = 50\n",
    "x = [w for w,f in words_freq_stem[:nmots]]\n",
    "y = [f for w,f in words_freq_stem[:nmots]]\n",
    "\n",
    "plt.figure()\n",
    "plt.bar(x,y)\n",
    "plt.axis('off')"
   ]
  },
  {
   "cell_type": "code",
   "execution_count": null,
   "metadata": {},
   "outputs": [],
   "source": [
    "words_ord_stem = [w for w,f in words_freq_stem]\n",
    "k = 200\n",
    "print([w for w in words_ord_stem[:k]])  # les k mots les plus fréquents"
   ]
  },
  {
   "cell_type": "markdown",
   "metadata": {},
   "source": [
    "## Prédiction en biclasses"
   ]
  },
  {
   "cell_type": "code",
   "execution_count": null,
   "metadata": {},
   "outputs": [],
   "source": [
    "# apprentissage en supprimant les k mots les plus fréquents\n",
    "classes = [1 if note>5 else -1 for note in y_train]\n",
    "corpus = corpus_stem\n",
    "classes_test = [1 if note>5 else -1 for note in y_test]\n",
    "corpus_test = corpus_test_stem\n",
    "\n",
    "k = 200\n",
    "stopwords_list = stopwords.words('french') #+ [w for w in words_ord[:k]] # + [w for w in words_ord[-k:]]\n",
    "\n",
    "nb_clf,lr_clf,svm_clf = prediction(CountVectorizer,stop_words=stopwords_list)\n"
   ]
  },
  {
   "cell_type": "markdown",
   "metadata": {},
   "source": [
    "## steming sans les k mots les plus fréquents"
   ]
  },
  {
   "cell_type": "code",
   "execution_count": null,
   "metadata": {},
   "outputs": [],
   "source": [
    "k = 200\n",
    "stopwords_list =  [w for w in words_ord_stem[:k]] # + [w for w in words_ord[-k:]]\n",
    "\n",
    "nb_clf,lr_clf,svm_clf = prediction(CountVectorizer,stop_words=stopwords_list)\n"
   ]
  },
  {
   "cell_type": "markdown",
   "metadata": {},
   "source": [
    "## steming plus bigramme"
   ]
  },
  {
   "cell_type": "code",
   "execution_count": null,
   "metadata": {},
   "outputs": [],
   "source": [
    "k = 200\n",
    "stopwords_list =  [w for w in words_ord_stem[:k]] # + [w for w in words_ord[-k:]]\n",
    "\n",
    "nb_clf,lr_clf,svm_clf = prediction(CountVectorizer,stop_words=stopwords_list,ngram_range=(1,2))\n"
   ]
  },
  {
   "cell_type": "markdown",
   "metadata": {},
   "source": [
    "## steming plus trigramme"
   ]
  },
  {
   "cell_type": "code",
   "execution_count": null,
   "metadata": {},
   "outputs": [],
   "source": [
    "k = 200\n",
    "stopwords_list =  [w for w in words_ord_stem[:k]] # + [w for w in words_ord[-k:]]\n",
    "\n",
    "nb_clf,lr_clf,svm_clf = prediction(CountVectorizer,stop_words=stopwords_list,ngram_range=(1,3))\n"
   ]
  },
  {
   "cell_type": "code",
   "execution_count": null,
   "metadata": {},
   "outputs": [],
   "source": [
    "k = 200\n",
    "stopwords_list =  [w for w in words_ord_stem[:k]] # + [w for w in words_ord[-k:]]\n",
    "\n",
    "nb_clf,lr_clf,svm_clf = prediction(CountVectorizer,stop_words=stopwords_list,ngram_range=(2,2))\n"
   ]
  },
  {
   "cell_type": "code",
   "execution_count": null,
   "metadata": {},
   "outputs": [],
   "source": [
    "k = 200\n",
    "stopwords_list =  [w for w in words_ord_stem[:k]] # + [w for w in words_ord[-k:]]\n",
    "\n",
    "nb_clf,lr_clf,svm_clf = prediction(CountVectorizer,stop_words=stopwords_list,ngram_range=(2,3))\n"
   ]
  },
  {
   "cell_type": "markdown",
   "metadata": {},
   "source": [
    "## TfIdf"
   ]
  },
  {
   "cell_type": "code",
   "execution_count": null,
   "metadata": {},
   "outputs": [],
   "source": [
    "from sklearn.feature_extraction.text import TfidfVectorizer\n",
    "\n",
    "use_idf=True\n",
    "smooth_idf=True\n",
    "sublinear_tf=False\n"
   ]
  },
  {
   "cell_type": "code",
   "execution_count": null,
   "metadata": {},
   "outputs": [],
   "source": [
    "# apprentissage en supprimant les k mots les plus fréquents\n",
    "# classification binaire decoupage (0 à 5 -> -1) (6 à 10 -> 1)\n",
    "classes = [1 if note>5 else -1 for note in y_train]\n",
    "corpus = X_train\n",
    "classes_test = [1 if note>5 else -1 for note in y_test]\n",
    "corpus_test = X_test\n",
    "\n",
    "k = 200\n",
    "stopwords_list =  [w for w in words_ord_stem[:k]]\n",
    "\n",
    "nb_clf,lr_clf,svm_clf = prediction(TfidfVectorizer,stop_words=stopwords_list,use_idf= use_idf, smooth_idf=smooth_idf, sublinear_tf=sublinear_tf)"
   ]
  },
  {
   "cell_type": "markdown",
   "metadata": {},
   "source": [
    "### Prédiction des notes avec la régression linéaire (pas satisfaisant)"
   ]
  },
  {
   "cell_type": "code",
   "execution_count": null,
   "metadata": {},
   "outputs": [],
   "source": [
    "# apprentissage en supprimant les k mots les plus fréquents\n",
    "\n",
    "classes = y_train\n",
    "corpus = X_train\n",
    "\n",
    "k = 2000\n",
    "vectorizer = CountVectorizer(stop_words=[w for w in words_ord[:k]])\n",
    "\n",
    "X = vectorizer.fit_transform(corpus)\n",
    "# print(vectorizer.get_feature_names()[:10]) # we only print a few\n",
    "X = X.toarray().astype(float)\n",
    "X_t = vectorizer.transform(X_test)\n",
    "X_t = X_t.toarray().astype(float)\n",
    "print(X.shape)"
   ]
  },
  {
   "cell_type": "markdown",
   "metadata": {},
   "source": [
    "#### Normalisation sur les colonnes"
   ]
  },
  {
   "cell_type": "code",
   "execution_count": null,
   "metadata": {},
   "outputs": [],
   "source": [
    "def normalise(X,max_cols=[],min_cols=[]):\n",
    "  if len(max_cols) == 0:\n",
    "    max_cols = X.max(axis=0)  # max de chaque colonne\n",
    "  if len(min_cols) == 0:\n",
    "    min_cols = X.min(axis=0)  # min de chaque colonne\n",
    "\n",
    "  for j in range(X.shape[1]):\n",
    "    max_c,min_c = max_cols[j], min_cols[j]\n",
    "    d = max_c - min_c\n",
    "    for i in range(X.shape[0]):\n",
    "      if d == 0:\n",
    "        X[i,j] = 0  # pour eviter NaN\n",
    "      else:\n",
    "        X[i,j] = (X[i,j] - min_c) / d\n",
    "\n",
    "  return X,max_cols,min_cols"
   ]
  },
  {
   "cell_type": "code",
   "execution_count": null,
   "metadata": {},
   "outputs": [],
   "source": [
    "from sklearn.linear_model import LinearRegression\n",
    "\n",
    "X_n,max_cols,min_cols = normalise(X)\n",
    "lr = LinearRegression()\n",
    "lr.fit(X_n, classes)\n",
    "\n",
    "X_t_n,max_cols,min_cols = normalise(X_t,max_cols,min_cols)\n",
    "\n",
    "pred_lr = lr.predict(X_t_n)\n",
    "\n",
    "err = np.abs(y_test-pred_lr)\n",
    "err = err.sum() / err.shape[0]\n",
    "\n",
    "print(f\"Linear Regression score: {err}\")"
   ]
  },
  {
   "cell_type": "markdown",
   "metadata": {},
   "source": [
    "## Clustering avec KMeans"
   ]
  },
  {
   "cell_type": "code",
   "execution_count": null,
   "metadata": {},
   "outputs": [],
   "source": [
    "# on supprime les colonnes des mots frequents\n",
    "k = 200\n",
    "words_un = [w for w,f in words_freq[:k]]\n",
    "nom_cols = [word for word, idx in vectorizer.vocabulary_.items() if word not in words_un]\n",
    "i_cols = [idx for word, idx in vectorizer.vocabulary_.items() if word not in words_un]\n",
    "bow = bag_of_words[:,i_cols]\n",
    "\n",
    "print(len(nom_cols),len(i_cols),'\\n',bag_of_words.shape,bow.shape)"
   ]
  },
  {
   "cell_type": "code",
   "execution_count": null,
   "metadata": {},
   "outputs": [],
   "source": [
    "from sklearn.cluster import KMeans\n",
    "\n",
    "n_clusters = 11\n",
    "kmeans = KMeans(n_clusters=n_clusters, random_state=0, max_iter=100).fit(bow)\n",
    "y_pred = kmeans.predict(bow)"
   ]
  },
  {
   "cell_type": "code",
   "execution_count": null,
   "metadata": {},
   "outputs": [],
   "source": [
    "# Getting clusters:\n",
    "l_cl_major = []\n",
    "for c in range(n_clusters):\n",
    "  i_cl = y_pred == c\n",
    "  cls,nb_cls = np.unique(notes[i_cl],return_counts=True)\n",
    "  i_cls_trie = np.argsort(nb_cls)\n",
    "  c_major = cls[i_cls_trie[0]]\n",
    "  l_cl_major.append(c_major)\n",
    "  sum_words = bow[i_cl].sum(axis=0).tolist()[0]\n",
    "  print('cluster:',c,'classe maj:',c_major,sum_words[:3])\n",
    "  \n",
    "  # recopie chaque mot le nombre de fois qu'il est présent dans le cluster\n",
    "  corpus_cl = []\n",
    "  for i in range(len(nom_cols)):\n",
    "    corpus_cl += [nom_cols[i]] * sum_words[i]\n",
    "  corpus_cl = \" \".join(corpus_cl)\n",
    "  wordcloud = WordCloud(background_color='white', stopwords = [], max_words=100).generate(corpus_cl)\n",
    "\n",
    "  plt.figure()\n",
    "  plt.imshow(wordcloud)\n",
    "  plt.title(i_cls_trie[0])\n",
    "  plt.axis('off')"
   ]
  },
  {
   "cell_type": "markdown",
   "metadata": {},
   "source": [
    "## Visualisation en 2D"
   ]
  },
  {
   "cell_type": "code",
   "execution_count": null,
   "metadata": {},
   "outputs": [],
   "source": [
    "# visualisation en 2d mais il ne passe, trop de temps puis il crache\n",
    "k = 200\n",
    "vectorizer = CountVectorizer(lowercase=True,stop_words=[w for w in words_ord[:k]])\n",
    "\n",
    "corpus = list(commentaires_eq)\n",
    "corpus = \" \".join(corpus)\n",
    "# print(corpus[:5],commentaires_eq[0])\n",
    "Xu = vectorizer.fit_transform(commentaires_eq)\n",
    "print(Xu.shape)"
   ]
  },
  {
   "cell_type": "code",
   "execution_count": null,
   "metadata": {},
   "outputs": [],
   "source": [
    "Xu = Xu.toarray()\n",
    "# U,S,V = np.linalg.svd(Xu.toarray(), full_matrices=False)\n",
    "lam, V = np.linalg.eig(Xu.T@Xu)\n",
    "\n",
    "# tri et sélection des 2 vecteurs associés aux 2 plus grandes valeurs propres \n",
    "lam_tries_arg = np.argsort(lam)\n",
    "lam_2_max = np.sort(lam_tries_arg[-2:])\n",
    "vp = (V[:,lam_2_max])\n",
    "Xu2D = Xu @ vp"
   ]
  },
  {
   "cell_type": "code",
   "execution_count": null,
   "metadata": {},
   "outputs": [],
   "source": [
    "# affichage (plot) avec un code couleur pour les classes\n",
    "plt.figure()\n",
    "for c in range(0,10+1):\n",
    "  Xc = Xu2D[notes==c]\n",
    "  plt.scatter(Xc[:,0],Xc[:,1])\n",
    "\n",
    "plt.legend(np.arange(10+1))"
   ]
  }
 ],
 "metadata": {
  "kernelspec": {
   "display_name": "Python 3 (ipykernel)",
   "language": "python",
   "name": "python3"
  },
  "language_info": {
   "codemirror_mode": {
    "name": "ipython",
    "version": 3
   },
   "file_extension": ".py",
   "mimetype": "text/x-python",
   "name": "python",
   "nbconvert_exporter": "python",
   "pygments_lexer": "ipython3",
   "version": "3.10.2"
  },
  "vscode": {
   "interpreter": {
    "hash": "397704579725e15f5c7cb49fe5f0341eb7531c82d19f2c29d197e8b64ab5776b"
   }
  }
 },
 "nbformat": 4,
 "nbformat_minor": 2
}
