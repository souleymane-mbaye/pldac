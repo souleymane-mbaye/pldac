{
 "cells": [
  {
   "cell_type": "markdown",
   "metadata": {},
   "source": []
  },
  {
   "cell_type": "code",
   "execution_count": 5,
   "metadata": {},
   "outputs": [
    {
     "name": "stderr",
     "output_type": "stream",
     "text": [
      "[nltk_data] Downloading package punkt to\n",
      "[nltk_data]     /Users/souleymbaye/nltk_data...\n",
      "[nltk_data]   Package punkt is already up-to-date!\n"
     ]
    }
   ],
   "source": [
    "from pymongo  import MongoClient\n",
    "from wordcloud import WordCloud\n",
    "import pandas as pd\n",
    "import re\n",
    "import collections\n",
    "from pathlib import Path\n",
    "import matplotlib.pyplot as plt\n",
    "import nltk\n",
    "nltk.download('punkt')\n",
    "import numpy as np\n",
    "import pandas as pd\n",
    "import seaborn as sns\n",
    "import sklearn\n",
    "import string\n",
    "import scipy.stats as st\n",
    "from nltk.corpus import stopwords\n",
    "from collections import Counter\n",
    "from nltk.stem import SnowballStemmer\n",
    "from nltk.tokenize import word_tokenize\n",
    "from sklearn import decomposition, naive_bayes, preprocessing, model_selection, metrics\n",
    "from sklearn.pipeline import Pipeline\n",
    "from sklearn.feature_extraction.text import CountVectorizer, TfidfVectorizer\n",
    "from sklearn import model_selection\n",
    "from tqdm.notebook import tqdm\n",
    "#! pip install scikit-surprise\n",
    "from surprise import NormalPredictor, BaselineOnly, SVD\n",
    "from surprise import Dataset\n",
    "from surprise import Reader\n",
    "from surprise.model_selection import cross_validate\n"
   ]
  },
  {
   "attachments": {},
   "cell_type": "markdown",
   "metadata": {},
   "source": [
    "# Chargement des données AVIS"
   ]
  },
  {
   "cell_type": "code",
   "execution_count": 6,
   "metadata": {},
   "outputs": [],
   "source": [
    "client = MongoClient(host=\"localhost\", port=27017)\n",
    "db = client[\"PLDAC_01\"]\n",
    "collection = db[\"avis\"]"
   ]
  },
  {
   "cell_type": "code",
   "execution_count": 7,
   "metadata": {},
   "outputs": [
    {
     "data": {
      "text/html": [
       "<div>\n",
       "<style scoped>\n",
       "    .dataframe tbody tr th:only-of-type {\n",
       "        vertical-align: middle;\n",
       "    }\n",
       "\n",
       "    .dataframe tbody tr th {\n",
       "        vertical-align: top;\n",
       "    }\n",
       "\n",
       "    .dataframe thead th {\n",
       "        text-align: right;\n",
       "    }\n",
       "</style>\n",
       "<table border=\"1\" class=\"dataframe\">\n",
       "  <thead>\n",
       "    <tr style=\"text-align: right;\">\n",
       "      <th></th>\n",
       "      <th>author</th>\n",
       "      <th>title</th>\n",
       "      <th>note</th>\n",
       "    </tr>\n",
       "  </thead>\n",
       "  <tbody>\n",
       "    <tr>\n",
       "      <th>0</th>\n",
       "      <td>Monsieur Guillaume</td>\n",
       "      <td>Mariposas</td>\n",
       "      <td>8.0</td>\n",
       "    </tr>\n",
       "    <tr>\n",
       "      <th>1</th>\n",
       "      <td>morlockbob</td>\n",
       "      <td>Mariposas</td>\n",
       "      <td>7.0</td>\n",
       "    </tr>\n",
       "    <tr>\n",
       "      <th>2</th>\n",
       "      <td>SwatSh</td>\n",
       "      <td>Mariposas</td>\n",
       "      <td>7.0</td>\n",
       "    </tr>\n",
       "    <tr>\n",
       "      <th>3</th>\n",
       "      <td>Timi JeuxATheme</td>\n",
       "      <td>Mariposas</td>\n",
       "      <td>8.0</td>\n",
       "    </tr>\n",
       "    <tr>\n",
       "      <th>4</th>\n",
       "      <td>prunelles</td>\n",
       "      <td>Mariposas</td>\n",
       "      <td>9.0</td>\n",
       "    </tr>\n",
       "  </tbody>\n",
       "</table>\n",
       "</div>"
      ],
      "text/plain": [
       "               author      title  note\n",
       "0  Monsieur Guillaume  Mariposas   8.0\n",
       "1          morlockbob  Mariposas   7.0\n",
       "2              SwatSh  Mariposas   7.0\n",
       "3     Timi JeuxATheme  Mariposas   8.0\n",
       "4           prunelles  Mariposas   9.0"
      ]
     },
     "execution_count": 7,
     "metadata": {},
     "output_type": "execute_result"
    }
   ],
   "source": [
    "df_avis = pd.DataFrame(list(collection.find())).loc[:,[\"author\",\"title\",\"note\"]]\n",
    "df_avis.head(5)"
   ]
  },
  {
   "cell_type": "code",
   "execution_count": 9,
   "metadata": {},
   "outputs": [
    {
     "data": {
      "text/plain": [
       "count    13623.000000\n",
       "mean        18.096161\n",
       "std         62.454982\n",
       "min          1.000000\n",
       "25%          2.000000\n",
       "50%          4.000000\n",
       "75%         11.000000\n",
       "max       2194.000000\n",
       "Name: author, dtype: float64"
      ]
     },
     "execution_count": 9,
     "metadata": {},
     "output_type": "execute_result"
    }
   ],
   "source": [
    "df_avis['author'].value_counts().describe()"
   ]
  },
  {
   "attachments": {},
   "cell_type": "markdown",
   "metadata": {},
   "source": [
    "# Suppression des autheurs qui ont noté moins de 5 jeux"
   ]
  },
  {
   "cell_type": "code",
   "execution_count": 10,
   "metadata": {},
   "outputs": [
    {
     "name": "stdout",
     "output_type": "stream",
     "text": [
      "Taille du df avant 246524\n",
      "Taille du df après 216410\n"
     ]
    }
   ],
   "source": [
    "print(f\"Taille du df avant {len(df_avis)}\")\n",
    "# Taille du df avant 246524\n",
    "\n",
    "authors = df_avis['author'].value_counts()\n",
    "authors = authors[authors >= 10].index.to_list()\n",
    "\n",
    "df_avis_k = df_avis[df_avis['author'].isin(authors)]\n",
    "print(f\"Taille du df après {len(df_avis_k)}\")\n",
    "# Taille du df après 5925"
   ]
  },
  {
   "attachments": {},
   "cell_type": "markdown",
   "metadata": {},
   "source": [
    "# Test/Train split\n"
   ]
  },
  {
   "cell_type": "code",
   "execution_count": 11,
   "metadata": {},
   "outputs": [
    {
     "data": {
      "text/html": [
       "<div>\n",
       "<style scoped>\n",
       "    .dataframe tbody tr th:only-of-type {\n",
       "        vertical-align: middle;\n",
       "    }\n",
       "\n",
       "    .dataframe tbody tr th {\n",
       "        vertical-align: top;\n",
       "    }\n",
       "\n",
       "    .dataframe thead th {\n",
       "        text-align: right;\n",
       "    }\n",
       "</style>\n",
       "<table border=\"1\" class=\"dataframe\">\n",
       "  <thead>\n",
       "    <tr style=\"text-align: right;\">\n",
       "      <th></th>\n",
       "      <th>author</th>\n",
       "      <th>title</th>\n",
       "      <th>note</th>\n",
       "    </tr>\n",
       "  </thead>\n",
       "  <tbody>\n",
       "    <tr>\n",
       "      <th>0</th>\n",
       "      <td>Monsieur Guillaume</td>\n",
       "      <td>Mariposas</td>\n",
       "      <td>8.0</td>\n",
       "    </tr>\n",
       "    <tr>\n",
       "      <th>1</th>\n",
       "      <td>morlockbob</td>\n",
       "      <td>Mariposas</td>\n",
       "      <td>7.0</td>\n",
       "    </tr>\n",
       "    <tr>\n",
       "      <th>2</th>\n",
       "      <td>SwatSh</td>\n",
       "      <td>Mariposas</td>\n",
       "      <td>7.0</td>\n",
       "    </tr>\n",
       "    <tr>\n",
       "      <th>3</th>\n",
       "      <td>Timi JeuxATheme</td>\n",
       "      <td>Mariposas</td>\n",
       "      <td>8.0</td>\n",
       "    </tr>\n",
       "    <tr>\n",
       "      <th>4</th>\n",
       "      <td>prunelles</td>\n",
       "      <td>Mariposas</td>\n",
       "      <td>9.0</td>\n",
       "    </tr>\n",
       "  </tbody>\n",
       "</table>\n",
       "</div>"
      ],
      "text/plain": [
       "               author      title  note\n",
       "0  Monsieur Guillaume  Mariposas   8.0\n",
       "1          morlockbob  Mariposas   7.0\n",
       "2              SwatSh  Mariposas   7.0\n",
       "3     Timi JeuxATheme  Mariposas   8.0\n",
       "4           prunelles  Mariposas   9.0"
      ]
     },
     "execution_count": 11,
     "metadata": {},
     "output_type": "execute_result"
    }
   ],
   "source": [
    "X_train, X_test = model_selection.train_test_split(df_avis_k, test_size=0.2, random_state=0)\n",
    "df_avis.head()"
   ]
  },
  {
   "attachments": {},
   "cell_type": "markdown",
   "metadata": {},
   "source": [
    "## Basic Recsys **mean** baselines implementations\n"
   ]
  },
  {
   "cell_type": "code",
   "execution_count": 12,
   "metadata": {},
   "outputs": [],
   "source": [
    "MEAN = X_train[\"note\"].mean()\n",
    "USER_MEANS = X_train.groupby(\"author\")[\"note\"].mean()\n",
    "ITEM_MEANS = X_train.groupby(\"title\")[\"note\"].mean()\n",
    "\n",
    "\n",
    "def mean_rating_pred(user_item):\n",
    "    user = user_item[\"author\"]\n",
    "    item = user_item[\"title\"]\n",
    "    \n",
    "    return MEAN\n",
    "\n",
    "def user_mean_rating_pred(user_item):\n",
    "    user = user_item[\"author\"]\n",
    "    item = user_item[\"title\"]\n",
    "    \n",
    "    return USER_MEANS.get(user,default=MEAN)\n",
    "\n",
    "def item_mean_rating_pred(user_item):\n",
    "    user = user_item[\"author\"]\n",
    "    item = user_item[\"title\"]\n",
    "    \n",
    "    return ITEM_MEANS.get(item,default=MEAN)\n"
   ]
  },
  {
   "cell_type": "code",
   "execution_count": 13,
   "metadata": {},
   "outputs": [
    {
     "data": {
      "text/html": [
       "<div>\n",
       "<style scoped>\n",
       "    .dataframe tbody tr th:only-of-type {\n",
       "        vertical-align: middle;\n",
       "    }\n",
       "\n",
       "    .dataframe tbody tr th {\n",
       "        vertical-align: top;\n",
       "    }\n",
       "\n",
       "    .dataframe thead th {\n",
       "        text-align: right;\n",
       "    }\n",
       "</style>\n",
       "<table border=\"1\" class=\"dataframe\">\n",
       "  <thead>\n",
       "    <tr style=\"text-align: right;\">\n",
       "      <th></th>\n",
       "      <th>author</th>\n",
       "      <th>title</th>\n",
       "      <th>note</th>\n",
       "      <th>mean_prediction</th>\n",
       "      <th>muser_prediction</th>\n",
       "      <th>mitem_prediction</th>\n",
       "    </tr>\n",
       "  </thead>\n",
       "  <tbody>\n",
       "    <tr>\n",
       "      <th>142099</th>\n",
       "      <td>TS Léodagan</td>\n",
       "      <td>Sticheln</td>\n",
       "      <td>7.1</td>\n",
       "      <td>7.517173</td>\n",
       "      <td>6.317419</td>\n",
       "      <td>7.769048</td>\n",
       "    </tr>\n",
       "    <tr>\n",
       "      <th>83445</th>\n",
       "      <td>adamkostka699</td>\n",
       "      <td>Top Ten</td>\n",
       "      <td>9.0</td>\n",
       "      <td>7.517173</td>\n",
       "      <td>8.375000</td>\n",
       "      <td>8.287380</td>\n",
       "    </tr>\n",
       "    <tr>\n",
       "      <th>168235</th>\n",
       "      <td>Aerth</td>\n",
       "      <td>Small World : Contes et Légendes</td>\n",
       "      <td>10.0</td>\n",
       "      <td>7.517173</td>\n",
       "      <td>7.994565</td>\n",
       "      <td>8.291667</td>\n",
       "    </tr>\n",
       "    <tr>\n",
       "      <th>127469</th>\n",
       "      <td>bobdju</td>\n",
       "      <td>Zombie Dice Deluxe</td>\n",
       "      <td>8.0</td>\n",
       "      <td>7.517173</td>\n",
       "      <td>7.475342</td>\n",
       "      <td>6.279638</td>\n",
       "    </tr>\n",
       "    <tr>\n",
       "      <th>245872</th>\n",
       "      <td>tedrak</td>\n",
       "      <td>Tiny Epic Galaxies</td>\n",
       "      <td>8.7</td>\n",
       "      <td>7.517173</td>\n",
       "      <td>8.699383</td>\n",
       "      <td>7.787209</td>\n",
       "    </tr>\n",
       "  </tbody>\n",
       "</table>\n",
       "</div>"
      ],
      "text/plain": [
       "               author                             title  note  \\\n",
       "142099    TS Léodagan                          Sticheln   7.1   \n",
       "83445   adamkostka699                           Top Ten   9.0   \n",
       "168235          Aerth  Small World : Contes et Légendes  10.0   \n",
       "127469         bobdju                Zombie Dice Deluxe   8.0   \n",
       "245872         tedrak                Tiny Epic Galaxies   8.7   \n",
       "\n",
       "        mean_prediction  muser_prediction  mitem_prediction  \n",
       "142099         7.517173          6.317419          7.769048  \n",
       "83445          7.517173          8.375000          8.287380  \n",
       "168235         7.517173          7.994565          8.291667  \n",
       "127469         7.517173          7.475342          6.279638  \n",
       "245872         7.517173          8.699383          7.787209  "
      ]
     },
     "execution_count": 13,
     "metadata": {},
     "output_type": "execute_result"
    }
   ],
   "source": [
    "#We create the rating prediction columns\n",
    "X_test[\"mean_prediction\"] = X_test[[\"author\",\"title\"]].apply(mean_rating_pred,axis=1)\n",
    "X_test[\"muser_prediction\"] = X_test[[\"author\",\"title\"]].apply(user_mean_rating_pred,axis=1) \n",
    "X_test[\"mitem_prediction\"] = X_test[[\"author\",\"title\"]].apply(item_mean_rating_pred,axis=1) \n",
    "\n",
    "X_test.head(5)"
   ]
  },
  {
   "attachments": {},
   "cell_type": "markdown",
   "metadata": {},
   "source": [
    "## Evaluation metrics"
   ]
  },
  {
   "cell_type": "code",
   "execution_count": 14,
   "metadata": {},
   "outputs": [],
   "source": [
    "from math import sqrt\n",
    "\n",
    "def mae(predictions,truth):\n",
    "    return ((predictions-truth).abs()).mean()\n",
    "\n",
    "def mse(predictions,truth):\n",
    "    return ((predictions - truth)**2).mean()\n",
    "\n",
    "def rmse(predictions,truth):\n",
    "    return sqrt(mse(predictions,truth))\n",
    "\n",
    "\n",
    "def all_metrics(predictions,truth):\n",
    "    return [f(predictions,truth) for f in [mae,mse,rmse]]"
   ]
  },
  {
   "cell_type": "code",
   "execution_count": 15,
   "metadata": {},
   "outputs": [
    {
     "name": "stdout",
     "output_type": "stream",
     "text": [
      "         mean_prediction  muser_prediction  mitem_prediction\n",
      "metrics                                                     \n",
      "mae             1.688229          1.498049          1.477974\n",
      "mse             4.430859          3.844892          3.630531\n",
      "rmse            2.104961          1.960840          1.905395\n",
      "\n",
      "---Best Models / Metrics: ---\n"
     ]
    },
    {
     "data": {
      "text/plain": [
       "metrics\n",
       "mae     mitem_prediction\n",
       "mse     mitem_prediction\n",
       "rmse    mitem_prediction\n",
       "dtype: object"
      ]
     },
     "execution_count": 15,
     "metadata": {},
     "output_type": "execute_result"
    }
   ],
   "source": [
    "metrics = [\"mae\",\"mse\",\"rmse\"]\n",
    "results = pd.DataFrame()\n",
    "\n",
    "results[\"metrics\"] = metrics\n",
    "results[\"mean_prediction\"] = all_metrics(X_test[\"mean_prediction\"],X_test[\"note\"])\n",
    "results[\"muser_prediction\"] = all_metrics(X_test[\"muser_prediction\"],X_test[\"note\"])\n",
    "results[\"mitem_prediction\"] = all_metrics(X_test[\"mitem_prediction\"],X_test[\"note\"])\n",
    "results = results.set_index(\"metrics\")\n",
    "\n",
    "print(results)\n",
    "print(\"\")\n",
    "print('---Best Models / Metrics: ---')\n",
    "results.idxmin(1)"
   ]
  },
  {
   "cell_type": "code",
   "execution_count": 16,
   "metadata": {},
   "outputs": [],
   "source": [
    "## Uncomment this to install required packages if needed (and restart kernel !)\n",
    "#! pip install --upgrade scikit-surprise"
   ]
  },
  {
   "attachments": {},
   "cell_type": "markdown",
   "metadata": {},
   "source": [
    "## The baseline model $$ \\hat{r}_{ui} = b_{ui} = \\mu + b_u + b_i $$"
   ]
  },
  {
   "cell_type": "code",
   "execution_count": 17,
   "metadata": {},
   "outputs": [],
   "source": [
    "from surprise import NormalPredictor, BaselineOnly, SVD\n",
    "from surprise import Dataset\n",
    "from surprise import Reader\n",
    "from surprise.model_selection import cross_validate\n",
    "\n",
    "# The columns must correspond to user id, item id and ratings (in that order).\n",
    "data = Dataset.load_from_df(X_test[['author', 'title', 'note']], Reader(rating_scale=(1, 10)))"
   ]
  },
  {
   "cell_type": "code",
   "execution_count": 18,
   "metadata": {},
   "outputs": [
    {
     "name": "stdout",
     "output_type": "stream",
     "text": [
      "Estimating biases using als...\n"
     ]
    },
    {
     "data": {
      "text/plain": [
       "<surprise.prediction_algorithms.baseline_only.BaselineOnly at 0x1307fa100>"
      ]
     },
     "execution_count": 18,
     "metadata": {},
     "output_type": "execute_result"
    }
   ],
   "source": [
    "BaselineModel = BaselineOnly()\n",
    "BaselineModel.fit(data.build_full_trainset())"
   ]
  },
  {
   "cell_type": "code",
   "execution_count": 19,
   "metadata": {},
   "outputs": [
    {
     "data": {
      "text/html": [
       "<div>\n",
       "<style scoped>\n",
       "    .dataframe tbody tr th:only-of-type {\n",
       "        vertical-align: middle;\n",
       "    }\n",
       "\n",
       "    .dataframe tbody tr th {\n",
       "        vertical-align: top;\n",
       "    }\n",
       "\n",
       "    .dataframe thead th {\n",
       "        text-align: right;\n",
       "    }\n",
       "</style>\n",
       "<table border=\"1\" class=\"dataframe\">\n",
       "  <thead>\n",
       "    <tr style=\"text-align: right;\">\n",
       "      <th></th>\n",
       "      <th>author</th>\n",
       "      <th>title</th>\n",
       "      <th>note</th>\n",
       "      <th>mean_prediction</th>\n",
       "      <th>muser_prediction</th>\n",
       "      <th>mitem_prediction</th>\n",
       "      <th>opt_bl_prediction</th>\n",
       "    </tr>\n",
       "  </thead>\n",
       "  <tbody>\n",
       "    <tr>\n",
       "      <th>142099</th>\n",
       "      <td>TS Léodagan</td>\n",
       "      <td>Sticheln</td>\n",
       "      <td>7.1</td>\n",
       "      <td>7.517173</td>\n",
       "      <td>6.317419</td>\n",
       "      <td>7.769048</td>\n",
       "      <td>7.671124</td>\n",
       "    </tr>\n",
       "    <tr>\n",
       "      <th>83445</th>\n",
       "      <td>adamkostka699</td>\n",
       "      <td>Top Ten</td>\n",
       "      <td>9.0</td>\n",
       "      <td>7.517173</td>\n",
       "      <td>8.375000</td>\n",
       "      <td>8.287380</td>\n",
       "      <td>8.480429</td>\n",
       "    </tr>\n",
       "    <tr>\n",
       "      <th>168235</th>\n",
       "      <td>Aerth</td>\n",
       "      <td>Small World : Contes et Légendes</td>\n",
       "      <td>10.0</td>\n",
       "      <td>7.517173</td>\n",
       "      <td>7.994565</td>\n",
       "      <td>8.291667</td>\n",
       "      <td>7.949434</td>\n",
       "    </tr>\n",
       "    <tr>\n",
       "      <th>127469</th>\n",
       "      <td>bobdju</td>\n",
       "      <td>Zombie Dice Deluxe</td>\n",
       "      <td>8.0</td>\n",
       "      <td>7.517173</td>\n",
       "      <td>7.475342</td>\n",
       "      <td>6.279638</td>\n",
       "      <td>6.697768</td>\n",
       "    </tr>\n",
       "    <tr>\n",
       "      <th>245872</th>\n",
       "      <td>tedrak</td>\n",
       "      <td>Tiny Epic Galaxies</td>\n",
       "      <td>8.7</td>\n",
       "      <td>7.517173</td>\n",
       "      <td>8.699383</td>\n",
       "      <td>7.787209</td>\n",
       "      <td>8.557447</td>\n",
       "    </tr>\n",
       "    <tr>\n",
       "      <th>...</th>\n",
       "      <td>...</td>\n",
       "      <td>...</td>\n",
       "      <td>...</td>\n",
       "      <td>...</td>\n",
       "      <td>...</td>\n",
       "      <td>...</td>\n",
       "      <td>...</td>\n",
       "    </tr>\n",
       "    <tr>\n",
       "      <th>98862</th>\n",
       "      <td>Guillaume GN</td>\n",
       "      <td>Quartermaster General</td>\n",
       "      <td>7.0</td>\n",
       "      <td>7.517173</td>\n",
       "      <td>8.377953</td>\n",
       "      <td>7.358621</td>\n",
       "      <td>7.557205</td>\n",
       "    </tr>\n",
       "    <tr>\n",
       "      <th>228402</th>\n",
       "      <td>Biff</td>\n",
       "      <td>Freight Train</td>\n",
       "      <td>8.0</td>\n",
       "      <td>7.517173</td>\n",
       "      <td>7.301493</td>\n",
       "      <td>9.333333</td>\n",
       "      <td>7.359988</td>\n",
       "    </tr>\n",
       "    <tr>\n",
       "      <th>65180</th>\n",
       "      <td>Jones</td>\n",
       "      <td>Legendary: A Marvel Deck Building Game</td>\n",
       "      <td>7.0</td>\n",
       "      <td>7.517173</td>\n",
       "      <td>6.709594</td>\n",
       "      <td>8.533333</td>\n",
       "      <td>7.436350</td>\n",
       "    </tr>\n",
       "    <tr>\n",
       "      <th>17005</th>\n",
       "      <td>Kheldane</td>\n",
       "      <td>Call to Adventure (Édition française)</td>\n",
       "      <td>6.0</td>\n",
       "      <td>7.517173</td>\n",
       "      <td>7.428571</td>\n",
       "      <td>6.339623</td>\n",
       "      <td>6.965618</td>\n",
       "    </tr>\n",
       "    <tr>\n",
       "      <th>122927</th>\n",
       "      <td>cladounet</td>\n",
       "      <td>Zombicide : Prison Outbreak</td>\n",
       "      <td>9.1</td>\n",
       "      <td>7.517173</td>\n",
       "      <td>8.408850</td>\n",
       "      <td>8.182222</td>\n",
       "      <td>8.742271</td>\n",
       "    </tr>\n",
       "  </tbody>\n",
       "</table>\n",
       "<p>43282 rows × 7 columns</p>\n",
       "</div>"
      ],
      "text/plain": [
       "               author                                   title  note  \\\n",
       "142099    TS Léodagan                                Sticheln   7.1   \n",
       "83445   adamkostka699                                 Top Ten   9.0   \n",
       "168235          Aerth        Small World : Contes et Légendes  10.0   \n",
       "127469         bobdju                      Zombie Dice Deluxe   8.0   \n",
       "245872         tedrak                      Tiny Epic Galaxies   8.7   \n",
       "...               ...                                     ...   ...   \n",
       "98862    Guillaume GN                   Quartermaster General   7.0   \n",
       "228402           Biff                           Freight Train   8.0   \n",
       "65180           Jones  Legendary: A Marvel Deck Building Game   7.0   \n",
       "17005        Kheldane   Call to Adventure (Édition française)   6.0   \n",
       "122927      cladounet             Zombicide : Prison Outbreak   9.1   \n",
       "\n",
       "        mean_prediction  muser_prediction  mitem_prediction  opt_bl_prediction  \n",
       "142099         7.517173          6.317419          7.769048           7.671124  \n",
       "83445          7.517173          8.375000          8.287380           8.480429  \n",
       "168235         7.517173          7.994565          8.291667           7.949434  \n",
       "127469         7.517173          7.475342          6.279638           6.697768  \n",
       "245872         7.517173          8.699383          7.787209           8.557447  \n",
       "...                 ...               ...               ...                ...  \n",
       "98862          7.517173          8.377953          7.358621           7.557205  \n",
       "228402         7.517173          7.301493          9.333333           7.359988  \n",
       "65180          7.517173          6.709594          8.533333           7.436350  \n",
       "17005          7.517173          7.428571          6.339623           6.965618  \n",
       "122927         7.517173          8.408850          8.182222           8.742271  \n",
       "\n",
       "[43282 rows x 7 columns]"
      ]
     },
     "execution_count": 19,
     "metadata": {},
     "output_type": "execute_result"
    }
   ],
   "source": [
    "def opt_bl_rating_pred(user_item):\n",
    "    user = user_item[\"author\"]\n",
    "    item = user_item[\"title\"]\n",
    "    \n",
    "    prediction = BaselineModel.predict(user,item)\n",
    "    \n",
    "    return prediction.est\n",
    "\n",
    "X_test[\"opt_bl_prediction\"] = X_test[[\"author\",\"title\"]].apply(opt_bl_rating_pred,axis=1) \n",
    "\n",
    "X_test"
   ]
  },
  {
   "attachments": {},
   "cell_type": "markdown",
   "metadata": {},
   "source": [
    "## SVD Algorithm $$\\hat{r}_{ui} = \\mu + b_u + b_i + q_i^Tp_u$$"
   ]
  },
  {
   "cell_type": "code",
   "execution_count": 20,
   "metadata": {},
   "outputs": [
    {
     "data": {
      "text/plain": [
       "<surprise.prediction_algorithms.matrix_factorization.SVD at 0x139719730>"
      ]
     },
     "execution_count": 20,
     "metadata": {},
     "output_type": "execute_result"
    }
   ],
   "source": [
    "\n",
    "SVDmodel = SVD()\n",
    "SVDmodel.fit(data.build_full_trainset())"
   ]
  },
  {
   "cell_type": "code",
   "execution_count": 22,
   "metadata": {},
   "outputs": [
    {
     "data": {
      "text/html": [
       "<div>\n",
       "<style scoped>\n",
       "    .dataframe tbody tr th:only-of-type {\n",
       "        vertical-align: middle;\n",
       "    }\n",
       "\n",
       "    .dataframe tbody tr th {\n",
       "        vertical-align: top;\n",
       "    }\n",
       "\n",
       "    .dataframe thead th {\n",
       "        text-align: right;\n",
       "    }\n",
       "</style>\n",
       "<table border=\"1\" class=\"dataframe\">\n",
       "  <thead>\n",
       "    <tr style=\"text-align: right;\">\n",
       "      <th></th>\n",
       "      <th>author</th>\n",
       "      <th>title</th>\n",
       "      <th>note</th>\n",
       "      <th>mean_prediction</th>\n",
       "      <th>muser_prediction</th>\n",
       "      <th>mitem_prediction</th>\n",
       "      <th>opt_bl_prediction</th>\n",
       "      <th>svd_prediction</th>\n",
       "    </tr>\n",
       "  </thead>\n",
       "  <tbody>\n",
       "    <tr>\n",
       "      <th>142099</th>\n",
       "      <td>TS Léodagan</td>\n",
       "      <td>Sticheln</td>\n",
       "      <td>7.1</td>\n",
       "      <td>7.517173</td>\n",
       "      <td>6.317419</td>\n",
       "      <td>7.769048</td>\n",
       "      <td>7.671124</td>\n",
       "      <td>7.284926</td>\n",
       "    </tr>\n",
       "    <tr>\n",
       "      <th>83445</th>\n",
       "      <td>adamkostka699</td>\n",
       "      <td>Top Ten</td>\n",
       "      <td>9.0</td>\n",
       "      <td>7.517173</td>\n",
       "      <td>8.375000</td>\n",
       "      <td>8.287380</td>\n",
       "      <td>8.480429</td>\n",
       "      <td>9.049167</td>\n",
       "    </tr>\n",
       "    <tr>\n",
       "      <th>168235</th>\n",
       "      <td>Aerth</td>\n",
       "      <td>Small World : Contes et Légendes</td>\n",
       "      <td>10.0</td>\n",
       "      <td>7.517173</td>\n",
       "      <td>7.994565</td>\n",
       "      <td>8.291667</td>\n",
       "      <td>7.949434</td>\n",
       "      <td>8.592220</td>\n",
       "    </tr>\n",
       "    <tr>\n",
       "      <th>127469</th>\n",
       "      <td>bobdju</td>\n",
       "      <td>Zombie Dice Deluxe</td>\n",
       "      <td>8.0</td>\n",
       "      <td>7.517173</td>\n",
       "      <td>7.475342</td>\n",
       "      <td>6.279638</td>\n",
       "      <td>6.697768</td>\n",
       "      <td>7.542646</td>\n",
       "    </tr>\n",
       "    <tr>\n",
       "      <th>245872</th>\n",
       "      <td>tedrak</td>\n",
       "      <td>Tiny Epic Galaxies</td>\n",
       "      <td>8.7</td>\n",
       "      <td>7.517173</td>\n",
       "      <td>8.699383</td>\n",
       "      <td>7.787209</td>\n",
       "      <td>8.557447</td>\n",
       "      <td>8.739248</td>\n",
       "    </tr>\n",
       "    <tr>\n",
       "      <th>...</th>\n",
       "      <td>...</td>\n",
       "      <td>...</td>\n",
       "      <td>...</td>\n",
       "      <td>...</td>\n",
       "      <td>...</td>\n",
       "      <td>...</td>\n",
       "      <td>...</td>\n",
       "      <td>...</td>\n",
       "    </tr>\n",
       "    <tr>\n",
       "      <th>98862</th>\n",
       "      <td>Guillaume GN</td>\n",
       "      <td>Quartermaster General</td>\n",
       "      <td>7.0</td>\n",
       "      <td>7.517173</td>\n",
       "      <td>8.377953</td>\n",
       "      <td>7.358621</td>\n",
       "      <td>7.557205</td>\n",
       "      <td>7.644311</td>\n",
       "    </tr>\n",
       "    <tr>\n",
       "      <th>228402</th>\n",
       "      <td>Biff</td>\n",
       "      <td>Freight Train</td>\n",
       "      <td>8.0</td>\n",
       "      <td>7.517173</td>\n",
       "      <td>7.301493</td>\n",
       "      <td>9.333333</td>\n",
       "      <td>7.359988</td>\n",
       "      <td>7.828017</td>\n",
       "    </tr>\n",
       "    <tr>\n",
       "      <th>65180</th>\n",
       "      <td>Jones</td>\n",
       "      <td>Legendary: A Marvel Deck Building Game</td>\n",
       "      <td>7.0</td>\n",
       "      <td>7.517173</td>\n",
       "      <td>6.709594</td>\n",
       "      <td>8.533333</td>\n",
       "      <td>7.436350</td>\n",
       "      <td>7.400083</td>\n",
       "    </tr>\n",
       "    <tr>\n",
       "      <th>17005</th>\n",
       "      <td>Kheldane</td>\n",
       "      <td>Call to Adventure (Édition française)</td>\n",
       "      <td>6.0</td>\n",
       "      <td>7.517173</td>\n",
       "      <td>7.428571</td>\n",
       "      <td>6.339623</td>\n",
       "      <td>6.965618</td>\n",
       "      <td>6.457121</td>\n",
       "    </tr>\n",
       "    <tr>\n",
       "      <th>122927</th>\n",
       "      <td>cladounet</td>\n",
       "      <td>Zombicide : Prison Outbreak</td>\n",
       "      <td>9.1</td>\n",
       "      <td>7.517173</td>\n",
       "      <td>8.408850</td>\n",
       "      <td>8.182222</td>\n",
       "      <td>8.742271</td>\n",
       "      <td>9.209351</td>\n",
       "    </tr>\n",
       "  </tbody>\n",
       "</table>\n",
       "<p>43282 rows × 8 columns</p>\n",
       "</div>"
      ],
      "text/plain": [
       "               author                                   title  note  \\\n",
       "142099    TS Léodagan                                Sticheln   7.1   \n",
       "83445   adamkostka699                                 Top Ten   9.0   \n",
       "168235          Aerth        Small World : Contes et Légendes  10.0   \n",
       "127469         bobdju                      Zombie Dice Deluxe   8.0   \n",
       "245872         tedrak                      Tiny Epic Galaxies   8.7   \n",
       "...               ...                                     ...   ...   \n",
       "98862    Guillaume GN                   Quartermaster General   7.0   \n",
       "228402           Biff                           Freight Train   8.0   \n",
       "65180           Jones  Legendary: A Marvel Deck Building Game   7.0   \n",
       "17005        Kheldane   Call to Adventure (Édition française)   6.0   \n",
       "122927      cladounet             Zombicide : Prison Outbreak   9.1   \n",
       "\n",
       "        mean_prediction  muser_prediction  mitem_prediction  \\\n",
       "142099         7.517173          6.317419          7.769048   \n",
       "83445          7.517173          8.375000          8.287380   \n",
       "168235         7.517173          7.994565          8.291667   \n",
       "127469         7.517173          7.475342          6.279638   \n",
       "245872         7.517173          8.699383          7.787209   \n",
       "...                 ...               ...               ...   \n",
       "98862          7.517173          8.377953          7.358621   \n",
       "228402         7.517173          7.301493          9.333333   \n",
       "65180          7.517173          6.709594          8.533333   \n",
       "17005          7.517173          7.428571          6.339623   \n",
       "122927         7.517173          8.408850          8.182222   \n",
       "\n",
       "        opt_bl_prediction  svd_prediction  \n",
       "142099           7.671124        7.284926  \n",
       "83445            8.480429        9.049167  \n",
       "168235           7.949434        8.592220  \n",
       "127469           6.697768        7.542646  \n",
       "245872           8.557447        8.739248  \n",
       "...                   ...             ...  \n",
       "98862            7.557205        7.644311  \n",
       "228402           7.359988        7.828017  \n",
       "65180            7.436350        7.400083  \n",
       "17005            6.965618        6.457121  \n",
       "122927           8.742271        9.209351  \n",
       "\n",
       "[43282 rows x 8 columns]"
      ]
     },
     "execution_count": 22,
     "metadata": {},
     "output_type": "execute_result"
    }
   ],
   "source": [
    "def svd_rating_pred(user_item):\n",
    "    user = user_item[\"author\"]\n",
    "    item = user_item[\"title\"]\n",
    "    \n",
    "    prediction = SVDmodel.predict(user,item)\n",
    "    \n",
    "    return prediction.est\n",
    "\n",
    "X_test[\"svd_prediction\"] = X_test[[\"author\",\"title\"]].apply(svd_rating_pred,axis=1) \n",
    "X_test"
   ]
  },
  {
   "attachments": {},
   "cell_type": "markdown",
   "metadata": {},
   "source": [
    "## Evaluation"
   ]
  },
  {
   "cell_type": "code",
   "execution_count": 23,
   "metadata": {},
   "outputs": [
    {
     "name": "stdout",
     "output_type": "stream",
     "text": [
      "         mean_prediction  muser_prediction  mitem_prediction  \\\n",
      "metrics                                                        \n",
      "mae             1.688229          1.498049          1.477974   \n",
      "mse             4.430859          3.844892          3.630531   \n",
      "rmse            2.104961          1.960840          1.905395   \n",
      "\n",
      "         opt_bl_prediction  svd_prediction  \n",
      "metrics                                     \n",
      "mae               1.342583        0.800351  \n",
      "mse               3.003858        1.118855  \n",
      "rmse              1.733164        1.057759  \n",
      "\n",
      "---Best Models / Metrics: ---\n"
     ]
    },
    {
     "data": {
      "text/plain": [
       "metrics\n",
       "mae     svd_prediction\n",
       "mse     svd_prediction\n",
       "rmse    svd_prediction\n",
       "dtype: object"
      ]
     },
     "execution_count": 23,
     "metadata": {},
     "output_type": "execute_result"
    }
   ],
   "source": [
    "metrics = [\"mae\",\"mse\",\"rmse\"]\n",
    "results = pd.DataFrame()\n",
    "\n",
    "results[\"metrics\"] = metrics\n",
    "results[\"mean_prediction\"] = all_metrics(X_test[\"mean_prediction\"],X_test[\"note\"])\n",
    "results[\"muser_prediction\"] = all_metrics(X_test[\"muser_prediction\"],X_test[\"note\"])\n",
    "results[\"mitem_prediction\"] = all_metrics(X_test[\"mitem_prediction\"],X_test[\"note\"])\n",
    "results[\"opt_bl_prediction\"] = all_metrics(X_test[\"opt_bl_prediction\"],X_test[\"note\"])\n",
    "results[\"svd_prediction\"] = all_metrics(X_test[\"svd_prediction\"],X_test[\"note\"])\n",
    "\n",
    "results = results.set_index(\"metrics\")\n",
    "\n",
    "print(results)\n",
    "print(\"\")\n",
    "print('---Best Models / Metrics: ---')\n",
    "results.idxmin(1)"
   ]
  },
  {
   "attachments": {},
   "cell_type": "markdown",
   "metadata": {},
   "source": [
    "## Visualizing learnt embeddings\n",
    "\n",
    ">-"
   ]
  },
  {
   "cell_type": "code",
   "execution_count": 24,
   "metadata": {},
   "outputs": [],
   "source": [
    "\n",
    "\n",
    "def save_embeddings(embs,dict_label,path=\"saved_word_vectors\"):\n",
    "    \"\"\"\n",
    "    embs is Numpy.array(N,size)\n",
    "    dict_label is {str(word)->int(idx)} or {int(idx)->str(word)}\n",
    "    \"\"\"\n",
    "    def int_first(k,v):\n",
    "        if type(k) == int:\n",
    "            return (k,v)\n",
    "        else:\n",
    "            return (v,k)\n",
    "\n",
    "    np.savetxt(f\"{path}_vectors.tsv\", embs, delimiter=\"\\t\")\n",
    "\n",
    "    #labels \n",
    "    if dict_label:\n",
    "        sorted_labs = np.array([lab for idx,lab in sorted([int_first(k,v) for k,v in dict_label.items()])])\n",
    "        print(sorted_labs)\n",
    "        with open(f\"{path}_metadata.tsv\",\"w\") as metadata_file:\n",
    "            for x in sorted_labs: #hack for space\n",
    "                if len(x.strip()) == 0:\n",
    "                    x = f\"space-{len(x)}\"\n",
    "                    \n",
    "                metadata_file.write(f\"{x}\\n\")"
   ]
  },
  {
   "cell_type": "code",
   "execution_count": null,
   "metadata": {},
   "outputs": [],
   "source": [
    "titleCSV = pd.read_csv(\"dataset/movies.csv\")\n",
    "titleCSV.head(5)"
   ]
  },
  {
   "cell_type": "code",
   "execution_count": null,
   "metadata": {},
   "outputs": [],
   "source": [
    "id2title = titleCSV[[\"movieId\",\"title\"]].set_index(\"movieId\").to_dict()[\"title\"]\n",
    "list(id2title.items())[:10]"
   ]
  },
  {
   "cell_type": "code",
   "execution_count": null,
   "metadata": {},
   "outputs": [],
   "source": [
    "full_data = data.build_full_trainset()\n",
    "index2movie = {x:id2title[full_data.to_raw_iid(x)] for x in full_data.all_items()}\n",
    "SVDmodel.qi # Holds product vectors\n",
    "SVDmodel.pu # Holds user vectors"
   ]
  }
 ],
 "metadata": {
  "kernelspec": {
   "display_name": "Python 3",
   "language": "python",
   "name": "python3"
  },
  "language_info": {
   "codemirror_mode": {
    "name": "ipython",
    "version": 3
   },
   "file_extension": ".py",
   "mimetype": "text/x-python",
   "name": "python",
   "nbconvert_exporter": "python",
   "pygments_lexer": "ipython3",
   "version": "3.9.16"
  },
  "orig_nbformat": 4
 },
 "nbformat": 4,
 "nbformat_minor": 2
}
